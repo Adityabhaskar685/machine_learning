{
 "cells": [
  {
   "cell_type": "markdown",
   "id": "60d10108",
   "metadata": {},
   "source": [
    "# KNearest Neighbors"
   ]
  },
  {
   "cell_type": "code",
   "execution_count": 1,
   "id": "5518aec6",
   "metadata": {},
   "outputs": [],
   "source": [
    "# import the necessary libraries\n",
    "import numpy as np\n",
    "import pandas as pd\n",
    "import matplotlib.pyplot as plt\n",
    "plt.style.use('ggplot')"
   ]
  },
  {
   "cell_type": "code",
   "execution_count": 2,
   "id": "31d9e4e1",
   "metadata": {},
   "outputs": [
    {
     "data": {
      "text/plain": [
       "sklearn.utils._bunch.Bunch"
      ]
     },
     "execution_count": 2,
     "metadata": {},
     "output_type": "execute_result"
    }
   ],
   "source": [
    "from sklearn.datasets import load_iris\n",
    "iris = load_iris()\n",
    "type(iris)"
   ]
  },
  {
   "cell_type": "code",
   "execution_count": 3,
   "id": "e69255cd",
   "metadata": {},
   "outputs": [
    {
     "data": {
      "text/plain": [
       "['sepal length (cm)',\n",
       " 'sepal width (cm)',\n",
       " 'petal length (cm)',\n",
       " 'petal width (cm)']"
      ]
     },
     "execution_count": 3,
     "metadata": {},
     "output_type": "execute_result"
    }
   ],
   "source": [
    "iris.feature_names"
   ]
  },
  {
   "cell_type": "code",
   "execution_count": 4,
   "id": "234aa929",
   "metadata": {},
   "outputs": [
    {
     "data": {
      "text/plain": [
       "array([0, 0, 0, 0, 0, 0, 0, 0, 0, 0, 0, 0, 0, 0, 0, 0, 0, 0, 0, 0, 0, 0,\n",
       "       0, 0, 0, 0, 0, 0, 0, 0, 0, 0, 0, 0, 0, 0, 0, 0, 0, 0, 0, 0, 0, 0,\n",
       "       0, 0, 0, 0, 0, 0, 1, 1, 1, 1, 1, 1, 1, 1, 1, 1, 1, 1, 1, 1, 1, 1,\n",
       "       1, 1, 1, 1, 1, 1, 1, 1, 1, 1, 1, 1, 1, 1, 1, 1, 1, 1, 1, 1, 1, 1,\n",
       "       1, 1, 1, 1, 1, 1, 1, 1, 1, 1, 1, 1, 2, 2, 2, 2, 2, 2, 2, 2, 2, 2,\n",
       "       2, 2, 2, 2, 2, 2, 2, 2, 2, 2, 2, 2, 2, 2, 2, 2, 2, 2, 2, 2, 2, 2,\n",
       "       2, 2, 2, 2, 2, 2, 2, 2, 2, 2, 2, 2, 2, 2, 2, 2, 2, 2])"
      ]
     },
     "execution_count": 4,
     "metadata": {},
     "output_type": "execute_result"
    }
   ],
   "source": [
    "iris.target"
   ]
  },
  {
   "cell_type": "code",
   "execution_count": 5,
   "id": "333723b7",
   "metadata": {},
   "outputs": [
    {
     "data": {
      "text/plain": [
       "array(['setosa', 'versicolor', 'virginica'], dtype='<U10')"
      ]
     },
     "execution_count": 5,
     "metadata": {},
     "output_type": "execute_result"
    }
   ],
   "source": [
    "iris.target_names"
   ]
  },
  {
   "cell_type": "code",
   "execution_count": 6,
   "id": "b8e8295e",
   "metadata": {},
   "outputs": [
    {
     "name": "stdout",
     "output_type": "stream",
     "text": [
      "[2]\n",
      "['virginica']\n"
     ]
    }
   ],
   "source": [
    "from sklearn.neighbors import KNeighborsClassifier\n",
    "knn=KNeighborsClassifier(n_neighbors=3)\n",
    "knn.fit(iris.data,iris.target)\n",
    "a=knn.predict([[4,6,8,10],])\n",
    "print(a)\n",
    "print(iris.target_names[a])"
   ]
  },
  {
   "cell_type": "code",
   "execution_count": 7,
   "id": "e639b6d6",
   "metadata": {},
   "outputs": [
    {
     "data": {
      "text/html": [
       "<div>\n",
       "<style scoped>\n",
       "    .dataframe tbody tr th:only-of-type {\n",
       "        vertical-align: middle;\n",
       "    }\n",
       "\n",
       "    .dataframe tbody tr th {\n",
       "        vertical-align: top;\n",
       "    }\n",
       "\n",
       "    .dataframe thead th {\n",
       "        text-align: right;\n",
       "    }\n",
       "</style>\n",
       "<table border=\"1\" class=\"dataframe\">\n",
       "  <thead>\n",
       "    <tr style=\"text-align: right;\">\n",
       "      <th></th>\n",
       "      <th>age</th>\n",
       "      <th>sex</th>\n",
       "      <th>cp</th>\n",
       "      <th>trestbps</th>\n",
       "      <th>chol</th>\n",
       "      <th>fbs</th>\n",
       "      <th>restecg</th>\n",
       "      <th>thalach</th>\n",
       "      <th>exang</th>\n",
       "      <th>oldpeak</th>\n",
       "      <th>slope</th>\n",
       "      <th>ca</th>\n",
       "      <th>thal</th>\n",
       "      <th>target</th>\n",
       "    </tr>\n",
       "  </thead>\n",
       "  <tbody>\n",
       "    <tr>\n",
       "      <th>0</th>\n",
       "      <td>69</td>\n",
       "      <td>1</td>\n",
       "      <td>0</td>\n",
       "      <td>160</td>\n",
       "      <td>234</td>\n",
       "      <td>1</td>\n",
       "      <td>2</td>\n",
       "      <td>131</td>\n",
       "      <td>0</td>\n",
       "      <td>0.1</td>\n",
       "      <td>1</td>\n",
       "      <td>1</td>\n",
       "      <td>0</td>\n",
       "      <td>0</td>\n",
       "    </tr>\n",
       "    <tr>\n",
       "      <th>1</th>\n",
       "      <td>69</td>\n",
       "      <td>0</td>\n",
       "      <td>0</td>\n",
       "      <td>140</td>\n",
       "      <td>239</td>\n",
       "      <td>0</td>\n",
       "      <td>0</td>\n",
       "      <td>151</td>\n",
       "      <td>0</td>\n",
       "      <td>1.8</td>\n",
       "      <td>0</td>\n",
       "      <td>2</td>\n",
       "      <td>0</td>\n",
       "      <td>0</td>\n",
       "    </tr>\n",
       "    <tr>\n",
       "      <th>2</th>\n",
       "      <td>66</td>\n",
       "      <td>0</td>\n",
       "      <td>0</td>\n",
       "      <td>150</td>\n",
       "      <td>226</td>\n",
       "      <td>0</td>\n",
       "      <td>0</td>\n",
       "      <td>114</td>\n",
       "      <td>0</td>\n",
       "      <td>2.6</td>\n",
       "      <td>2</td>\n",
       "      <td>0</td>\n",
       "      <td>0</td>\n",
       "      <td>0</td>\n",
       "    </tr>\n",
       "    <tr>\n",
       "      <th>3</th>\n",
       "      <td>65</td>\n",
       "      <td>1</td>\n",
       "      <td>0</td>\n",
       "      <td>138</td>\n",
       "      <td>282</td>\n",
       "      <td>1</td>\n",
       "      <td>2</td>\n",
       "      <td>174</td>\n",
       "      <td>0</td>\n",
       "      <td>1.4</td>\n",
       "      <td>1</td>\n",
       "      <td>1</td>\n",
       "      <td>0</td>\n",
       "      <td>1</td>\n",
       "    </tr>\n",
       "    <tr>\n",
       "      <th>4</th>\n",
       "      <td>64</td>\n",
       "      <td>1</td>\n",
       "      <td>0</td>\n",
       "      <td>110</td>\n",
       "      <td>211</td>\n",
       "      <td>0</td>\n",
       "      <td>2</td>\n",
       "      <td>144</td>\n",
       "      <td>1</td>\n",
       "      <td>1.8</td>\n",
       "      <td>1</td>\n",
       "      <td>0</td>\n",
       "      <td>0</td>\n",
       "      <td>0</td>\n",
       "    </tr>\n",
       "  </tbody>\n",
       "</table>\n",
       "</div>"
      ],
      "text/plain": [
       "   age  sex  cp  trestbps  chol  fbs  restecg  thalach  exang  oldpeak  slope  \\\n",
       "0   69    1   0       160   234    1        2      131      0      0.1      1   \n",
       "1   69    0   0       140   239    0        0      151      0      1.8      0   \n",
       "2   66    0   0       150   226    0        0      114      0      2.6      2   \n",
       "3   65    1   0       138   282    1        2      174      0      1.4      1   \n",
       "4   64    1   0       110   211    0        2      144      1      1.8      1   \n",
       "\n",
       "   ca  thal  target  \n",
       "0   1     0       0  \n",
       "1   2     0       0  \n",
       "2   0     0       0  \n",
       "3   1     0       1  \n",
       "4   0     0       0  "
      ]
     },
     "execution_count": 7,
     "metadata": {},
     "output_type": "execute_result"
    }
   ],
   "source": [
    "data=pd.read_csv('heart_cleveland_upload.csv')\n",
    "data.rename(columns={'condition':'target'},inplace=True)\n",
    "data.head()"
   ]
  },
  {
   "cell_type": "code",
   "execution_count": 8,
   "id": "32fcf966",
   "metadata": {},
   "outputs": [
    {
     "name": "stderr",
     "output_type": "stream",
     "text": [
      "C:\\Users\\ADITYA\\anaconda3\\lib\\site-packages\\numpy\\core\\fromnumeric.py:84: FutureWarning: In a future version, DataFrame.min(axis=None) will return a scalar min over the entire DataFrame. To retain the old behavior, use 'frame.min(axis=0)' or just 'frame.min()'\n",
      "  return reduction(axis=axis, out=out, **passkwargs)\n",
      "C:\\Users\\ADITYA\\anaconda3\\lib\\site-packages\\numpy\\core\\fromnumeric.py:84: FutureWarning: In a future version, DataFrame.max(axis=None) will return a scalar max over the entire DataFrame. To retain the old behavior, use 'frame.max(axis=0)' or just 'frame.max()'\n",
      "  return reduction(axis=axis, out=out, **passkwargs)\n"
     ]
    }
   ],
   "source": [
    "y=data[\"target\"].values\n",
    "X=data.drop([\"target\"],axis=1)\n",
    "# nomalize the data\n",
    "X=(X-np.min(X))/(np.max(X)-np.min(X)).values\n"
   ]
  },
  {
   "cell_type": "code",
   "execution_count": 9,
   "id": "7c19e229",
   "metadata": {},
   "outputs": [
    {
     "name": "stdout",
     "output_type": "stream",
     "text": [
      "Test accuracy of Logistic regression : 0.8333333333333334\n"
     ]
    }
   ],
   "source": [
    "# split the data\n",
    "# preparing of data\n",
    "from sklearn.model_selection import train_test_split\n",
    "from sklearn.linear_model import LogisticRegression\n",
    "X_train,X_test,y_train,y_test=train_test_split(X,y,test_size=0.2,\n",
    "                                              random_state=0)\n",
    "# Logistic regression instance is created \n",
    "logreg=LogisticRegression()\n",
    "# training of model\n",
    "logreg.fit(X_train,y_train) \n",
    "print(\"Test accuracy of Logistic regression : {}\".format(logreg.score(X_test,\n",
    "                                                                     y_test)))\n"
   ]
  },
  {
   "cell_type": "code",
   "execution_count": 10,
   "id": "8c1e3f10",
   "metadata": {},
   "outputs": [
    {
     "name": "stdout",
     "output_type": "stream",
     "text": [
      "Test accuracy of KNeighbour Classifier at n_neighbour 3 : 0.8166666666666667\n",
      "Test accuracy of KNeighbour Classifier at n_neighbour 6 : 0.8666666666666667\n"
     ]
    }
   ],
   "source": [
    "# KNN accuracy on the same dataset\n",
    "knn=KNeighborsClassifier(n_neighbors=3)\n",
    "knn1=KNeighborsClassifier(n_neighbors=6)\n",
    "\n",
    "knn.fit(X_train,y_train)\n",
    "knn1.fit(X_train,y_train)\n",
    "print(\"Test accuracy of KNeighbour Classifier at n_neighbour 3 : {}\".format(knn.score(X_test,\n",
    "                                                                     y_test)))\n",
    "print(\"Test accuracy of KNeighbour Classifier at n_neighbour 6 : {}\".format(knn1.score(X_test,\n",
    "                                                                     y_test)))\n"
   ]
  },
  {
   "cell_type": "code",
   "execution_count": 11,
   "id": "2726f3c2",
   "metadata": {},
   "outputs": [
    {
     "data": {
      "text/plain": [
       "{'n_neighbors': 12}"
      ]
     },
     "execution_count": 11,
     "metadata": {},
     "output_type": "execute_result"
    }
   ],
   "source": [
    "from sklearn.neighbors import KNeighborsClassifier\n",
    "from sklearn.model_selection import GridSearchCV\n",
    "param_grid = {'n_neighbors': np.arange(1,20)}\n",
    "knn=KNeighborsClassifier()\n",
    "knn_cv = GridSearchCV(knn,param_grid,cv=5)\n",
    "knn_cv.fit(X_train,y_train)\n",
    "# finds the best value of n_neighbour for the model\n",
    "knn_cv.best_params_"
   ]
  },
  {
   "cell_type": "code",
   "execution_count": 12,
   "id": "7a8ff215",
   "metadata": {},
   "outputs": [
    {
     "data": {
      "image/png": "[encoded data removed]",
      "text/plain": [
       "<Figure size 432x288 with 1 Axes>"
      ]
     },
     "metadata": {},
     "output_type": "display_data"
    }
   ],
   "source": [
    "# another way of finding the best value of n_neighbors\n",
    "scorelist=[]\n",
    "for i in range(1,20):\n",
    "    knn=KNeighborsClassifier(i)\n",
    "    knn.fit(X_train,y_train)\n",
    "    prediction=knn.predict(X_test)\n",
    "    scorelist.append(knn.score(X_test,y_test))\n",
    "    \n",
    "plt.plot(range(1,20),scorelist)\n",
    "plt.xlabel(\"K value\")\n",
    "plt.ylabel(\"score\")\n",
    "plt.show()"
   ]
  },
  {
   "cell_type": "code",
   "execution_count": 13,
   "id": "84bcaed8",
   "metadata": {},
   "outputs": [
    {
     "data": {
      "text/plain": [
       "0.8666666666666667"
      ]
     },
     "execution_count": 13,
     "metadata": {},
     "output_type": "execute_result"
    }
   ],
   "source": [
    "max(scorelist)"
   ]
  },
  {
   "cell_type": "markdown",
   "id": "c100d3fe",
   "metadata": {},
   "source": [
    "# working with support vector Machine ALgorithm"
   ]
  },
  {
   "cell_type": "code",
   "execution_count": 14,
   "id": "0e3355dc",
   "metadata": {},
   "outputs": [
    {
     "name": "stdout",
     "output_type": "stream",
     "text": [
      "Test accuracy of svm: 0.85\n"
     ]
    }
   ],
   "source": [
    "from sklearn.svm import SVC\n",
    "svm=SVC(random_state=1)\n",
    "svm.fit(X_train,y_train)\n",
    "print(\"Test accuracy of svm: {}\".format(svm.score(X_test,y_test)))\n",
    "\n"
   ]
  },
  {
   "cell_type": "code",
   "execution_count": 15,
   "id": "c5a29bc4",
   "metadata": {},
   "outputs": [
    {
     "name": "stdout",
     "output_type": "stream",
     "text": [
      "Test accuracy of Naive Bayes: 0.8333333333333334\n"
     ]
    }
   ],
   "source": [
    "# Naive Bayes Algorithm\n",
    "from sklearn.naive_bayes import GaussianNB\n",
    "nb=GaussianNB()\n",
    "nb.fit(X_train,y_train)\n",
    "print(\"Test accuracy of Naive Bayes: {}\".format(nb.score(X_test,y_test)))\n"
   ]
  },
  {
   "cell_type": "code",
   "execution_count": 17,
   "id": "a170a57e",
   "metadata": {},
   "outputs": [
    {
     "name": "stdout",
     "output_type": "stream",
     "text": [
      "Test accuracy of Decision Tree Classifier : 0.6833333333333333\n"
     ]
    }
   ],
   "source": [
    "# working with decision tree algorithms\n",
    "from sklearn.tree import DecisionTreeClassifier\n",
    "dtc=DecisionTreeClassifier()\n",
    "dtc.fit(X_train,y_train)\n",
    "print(\"Test accuracy of Decision Tree Classifier : {}\".format(dtc.score(X_test,y_test)))"
   ]
  },
  {
   "cell_type": "code",
   "execution_count": 22,
   "id": "c5b2a599",
   "metadata": {},
   "outputs": [
    {
     "name": "stdout",
     "output_type": "stream",
     "text": [
      "Test accuracy of Random Forest Classifier : 0.75\n"
     ]
    }
   ],
   "source": [
    "# working with random forest\n",
    "from sklearn.ensemble import RandomForestClassifier\n",
    "rf=RandomForestClassifier(n_estimators=1000,random_state=1)\n",
    "rf.fit(X_train,y_train)\n",
    "print(\"Test accuracy of Random Forest Classifier : {}\".format(rf.score(X_test,y_test)))"
   ]
  },
  {
   "cell_type": "code",
   "execution_count": 26,
   "id": "5e01723a",
   "metadata": {},
   "outputs": [
    {
     "data": {
      "image/png": "[encoded data removed]",
      "text/plain": [
       "<Figure size 720x360 with 1 Axes>"
      ]
     },
     "metadata": {},
     "output_type": "display_data"
    }
   ],
   "source": [
    "import seaborn as sns\n",
    "methods=[\"Logistic Regression\",\"KNN\",\"SVM\",\"Naive Bayes\",\"Decision Tree\",\"Random Forest\"]\n",
    "accuracy = [83.33,86.66,85.0,83.33,68.33,75.0]\n",
    "colors=[\"purple\",'green','orange','magenta','#CFE60E','#0EBBAB']\n",
    "sns.set_style('whitegrid')\n",
    "plt.figure(figsize=(10,5))\n",
    "plt.xlabel(\"Algorithms\")\n",
    "plt.ylabel(\"Accuracy(%)\")\n",
    "sns.barplot(x=methods,y=accuracy,palette=colors)\n",
    "plt.show()"
   ]
  },
  {
   "cell_type": "markdown",
   "id": "fb0eda92",
   "metadata": {},
   "source": [
    "# Unsupervised Learning"
   ]
  },
  {
   "cell_type": "markdown",
   "id": "ff030eef",
   "metadata": {},
   "source": [
    "# K-means clustering"
   ]
  },
  {
   "cell_type": "code",
   "execution_count": 2,
   "id": "47b9d5ee",
   "metadata": {},
   "outputs": [],
   "source": [
    "import pandas as pd\n",
    "import numpy as np\n",
    "import matplotlib.pyplot as plt"
   ]
  },
  {
   "cell_type": "code",
   "execution_count": 3,
   "id": "d9c26262",
   "metadata": {},
   "outputs": [
    {
     "data": {
      "text/html": [
       "<div>\n",
       "<style scoped>\n",
       "    .dataframe tbody tr th:only-of-type {\n",
       "        vertical-align: middle;\n",
       "    }\n",
       "\n",
       "    .dataframe tbody tr th {\n",
       "        vertical-align: top;\n",
       "    }\n",
       "\n",
       "    .dataframe thead th {\n",
       "        text-align: right;\n",
       "    }\n",
       "</style>\n",
       "<table border=\"1\" class=\"dataframe\">\n",
       "  <thead>\n",
       "    <tr style=\"text-align: right;\">\n",
       "      <th></th>\n",
       "      <th>V1</th>\n",
       "      <th>V2</th>\n",
       "    </tr>\n",
       "  </thead>\n",
       "  <tbody>\n",
       "    <tr>\n",
       "      <th>0</th>\n",
       "      <td>2.072345</td>\n",
       "      <td>-3.241693</td>\n",
       "    </tr>\n",
       "    <tr>\n",
       "      <th>1</th>\n",
       "      <td>17.936710</td>\n",
       "      <td>15.784810</td>\n",
       "    </tr>\n",
       "    <tr>\n",
       "      <th>2</th>\n",
       "      <td>1.083576</td>\n",
       "      <td>7.319176</td>\n",
       "    </tr>\n",
       "    <tr>\n",
       "      <th>3</th>\n",
       "      <td>11.120670</td>\n",
       "      <td>14.406780</td>\n",
       "    </tr>\n",
       "    <tr>\n",
       "      <th>4</th>\n",
       "      <td>23.711550</td>\n",
       "      <td>2.557729</td>\n",
       "    </tr>\n",
       "  </tbody>\n",
       "</table>\n",
       "</div>"
      ],
      "text/plain": [
       "          V1         V2\n",
       "0   2.072345  -3.241693\n",
       "1  17.936710  15.784810\n",
       "2   1.083576   7.319176\n",
       "3  11.120670  14.406780\n",
       "4  23.711550   2.557729"
      ]
     },
     "execution_count": 3,
     "metadata": {},
     "output_type": "execute_result"
    }
   ],
   "source": [
    "from sklearn.cluster import KMeans\n",
    "data=pd.read_csv(\"xclara.csv\")\n",
    "data.head()"
   ]
  },
  {
   "cell_type": "code",
   "execution_count": 4,
   "id": "ae41f071",
   "metadata": {},
   "outputs": [
    {
     "name": "stderr",
     "output_type": "stream",
     "text": [
      "C:\\Users\\ADITYA\\anaconda3\\lib\\site-packages\\sklearn\\base.py:450: UserWarning: X does not have valid feature names, but KMeans was fitted with feature names\n",
      "  warnings.warn(\n"
     ]
    },
    {
     "name": "stdout",
     "output_type": "stream",
     "text": [
      "[0 0 0 2 2]\n"
     ]
    },
    {
     "data": {
      "image/png": "[encoded data removed]",
      "text/plain": [
       "<Figure size 432x288 with 1 Axes>"
      ]
     },
     "metadata": {
      "needs_background": "light"
     },
     "output_type": "display_data"
    }
   ],
   "source": [
    "k=3  # number of clusters\n",
    "kmean=KMeans(n_clusters=k)\n",
    "# train the model\n",
    "kmean=kmean.fit(data)\n",
    "labels=kmean.labels_  #  array that contains cluster numbers\n",
    "centroids=kmean.cluster_centers_\n",
    "# testing data\n",
    "x_test=[[49.6,67],[27.88,60],[94.65,48],[-1.33,5.6],[14.555,-1.22]]\n",
    "prediction =kmean.predict(x_test)\n",
    "print(prediction)\n",
    "\n",
    "colors=[\"blue\",\"red\",\"green\",\"black\"]\n",
    "y=0\n",
    "for x in labels:\n",
    "    plt.scatter(data.iloc[y,0],data.iloc[y,1],color=colors[x])\n",
    "    y+=1\n",
    "for x in range(k):\n",
    "    lines=plt.plot(centroids[x,0],centroids[x,1],'kx')\n",
    "    plt.setp(lines,ms=15.0)\n",
    "    plt.setp(lines,mew=2.0)\n",
    "    \n",
    "title=(\"number of clusters(k) = {}\".format(k))\n",
    "plt.title(title)\n",
    "plt.xlabel(\"V1\")\n",
    "plt.ylabel(\"V2\")\n",
    "plt.show()"
   ]
  },
  {
   "cell_type": "markdown",
   "id": "764dcdf3",
   "metadata": {},
   "source": [
    "# Association\n"
   ]
  },
  {
   "cell_type": "markdown",
   "id": "2f9bf1f5",
   "metadata": {},
   "source": [
    "# Apriori Algorithm"
   ]
  },
  {
   "cell_type": "code",
   "execution_count": 23,
   "id": "39ffc033",
   "metadata": {},
   "outputs": [
    {
     "name": "stdout",
     "output_type": "stream",
     "text": [
      "   Apple   Corn   Dill   Eggs  Ice cream  Kidney Beans   Milk  Nugmeg  Nutmeg  \\\n",
      "0  False  False  False   True      False          True   True   False    True   \n",
      "1  False  False   True   True      False          True  False    True   False   \n",
      "2   True  False  False   True      False          True   True   False   False   \n",
      "3  False   True  False  False      False          True   True   False   False   \n",
      "4  False   True  False   True       True          True  False   False   False   \n",
      "\n",
      "   Onion  Unicorn  Yogurt  Yougurt  \n",
      "0   True    False    True    False  \n",
      "1   True    False   False     True  \n",
      "2  False    False   False    False  \n",
      "3  False     True    True    False  \n",
      "4   True    False   False    False  \n",
      "   support                     itemsets  Length\n",
      "0      0.8                       (Eggs)       1\n",
      "1      1.0               (Kidney Beans)       1\n",
      "2      0.6                       (Milk)       1\n",
      "3      0.6                      (Onion)       1\n",
      "4      0.8         (Kidney Beans, Eggs)       2\n",
      "5      0.6                (Onion, Eggs)       2\n",
      "6      0.6         (Milk, Kidney Beans)       2\n",
      "7      0.6        (Kidney Beans, Onion)       2\n",
      "8      0.6  (Kidney Beans, Onion, Eggs)       3\n",
      "   support                     itemsets  Length\n",
      "8      0.6  (Kidney Beans, Onion, Eggs)       3\n"
     ]
    }
   ],
   "source": [
    "from mlxtend.preprocessing import TransactionEncoder\n",
    "from mlxtend.frequent_patterns import apriori\n",
    "import pandas as pd\n",
    "dataset = [[\"Milk\",\"Onion\",\"Nutmeg\",\"Kidney Beans\",\"Eggs\",\"Yogurt\"],\n",
    "          [\"Dill\",\"Onion\",\"Nugmeg\",\"Kidney Beans\",\"Eggs\",\"Yougurt\"],\n",
    "          [\"Milk\",\"Apple\",\"Kidney Beans\",\"Eggs\"],\n",
    "          [\"Milk\",\"Unicorn\",\"Corn\",\"Kidney Beans\",\"Yogurt\"],\n",
    "          [\"Corn\",\"Onion\",\"Onion\",\"Kidney Beans\",\"Ice cream\",\"Eggs\"]]\n",
    "te=TransactionEncoder()\n",
    "Trans_array=te.fit(dataset).transform(dataset)\n",
    "df=pd.DataFrame(Trans_array,columns=te.columns_)\n",
    "print(df)\n",
    "ap=apriori(df,min_support=0.6,use_colnames=True)\n",
    "#print(ap)\n",
    "ap[\"Length\"]=ap['itemsets'].apply(lambda x : len(x))\n",
    "print(ap)\n",
    "print(ap[(ap[\"Length\"]==3) & (ap[\"support\"]>=0.6)])\n"
   ]
  },
  {
   "cell_type": "code",
   "execution_count": 27,
   "id": "4da06a39",
   "metadata": {},
   "outputs": [
    {
     "name": "stdout",
     "output_type": "stream",
     "text": [
      "2022\n"
     ]
    }
   ],
   "source": [
    "import datetime as dt\n",
    "print(dt.date.today().year)"
   ]
  },
  {
   "cell_type": "code",
   "execution_count": 33,
   "id": "0b878f7c",
   "metadata": {},
   "outputs": [],
   "source": [
    "lst=[[5, 35044.51], [25, 29016.41], [50, 27405.93], [100, 27282.51], [250, 27893.82], [500, 29454.19]]"
   ]
  },
  {
   "cell_type": "code",
   "execution_count": 35,
   "id": "02feb246",
   "metadata": {},
   "outputs": [
    {
     "name": "stdout",
     "output_type": "stream",
     "text": [
      "35044.51\n"
     ]
    }
   ],
   "source": [
    "print(max(lst[0]))"
   ]
  },
  {
   "cell_type": "code",
   "execution_count": null,
   "id": "51ec548b",
   "metadata": {},
   "outputs": [],
   "source": []
  }
 ],
 "metadata": {
  "kernelspec": {
   "display_name": "Python 3 (ipykernel)",
   "language": "python",
   "name": "python3"
  },
  "language_info": {
   "codemirror_mode": {
    "name": "ipython",
    "version": 3
   },
   "file_extension": ".py",
   "mimetype": "text/x-python",
   "name": "python",
   "nbconvert_exporter": "python",
   "pygments_lexer": "ipython3",
   "version": "3.8.13"
  }
 },
 "nbformat": 4,
 "nbformat_minor": 5
}
