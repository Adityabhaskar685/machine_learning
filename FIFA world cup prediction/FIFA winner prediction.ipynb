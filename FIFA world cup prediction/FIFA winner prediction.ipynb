{
 "cells": [
  {
   "cell_type": "markdown",
   "id": "e0f7fc81-e6fe-460b-86f7-074baed390b4",
   "metadata": {},
   "source": [
    "# FIFA Winner prediction"
   ]
  },
  {
   "cell_type": "markdown",
   "id": "d322942d-5d98-4614-a983-e835d5d49798",
   "metadata": {},
   "source": [
    "1. First step."
   ]
  },
  {
   "cell_type": "code",
   "execution_count": 2,
   "id": "1e3998f4-d257-42c1-a2bd-3807a564a019",
   "metadata": {},
   "outputs": [],
   "source": [
    "# import the necessary libraries\n",
    "import numpy as np\n",
    "import pandas as pd\n",
    "import matplotlib.pyplot as plt\n",
    "import seaborn as sns\n",
    "plt.style.use('ggplot')\n",
    "plt.rcParams['font.family'] = 'sans-serif' \n",
    "plt.rcParams['font.serif'] = 'Ubuntu' \n",
    "plt.rcParams['font.monospace'] = 'Ubuntu Mono' \n",
    "plt.rcParams['font.size'] = 14 \n",
    "plt.rcParams['axes.labelsize'] = 12 \n",
    "plt.rcParams['axes.labelweight'] = 'bold' \n",
    "plt.rcParams['axes.titlesize'] = 12 \n",
    "plt.rcParams['xtick.labelsize'] = 12 \n",
    "plt.rcParams['ytick.labelsize'] = 12 \n",
    "plt.rcParams['legend.fontsize'] = 12 \n",
    "plt.rcParams['figure.titlesize'] = 12 \n",
    "plt.rcParams['image.cmap'] = 'jet' \n",
    "plt.rcParams['image.interpolation'] = 'none' \n",
    "plt.rcParams['figure.figsize'] = (12, 10) \n",
    "plt.rcParams['axes.grid']=True\n",
    "plt.rcParams['lines.linewidth'] = 2 \n",
    "plt.rcParams['lines.markersize'] = 8\n",
    "colors = ['xkcd:pale orange', 'xkcd:sea blue', 'xkcd:pale red', 'xkcd:sage green', 'xkcd:terra cotta', 'xkcd:dull purple', 'xkcd:teal', 'xkcd: goldenrod', 'xkcd:cadet blue',\n",
    "'xkcd:scarlet']"
   ]
  },
  {
   "cell_type": "code",
   "execution_count": 3,
   "id": "263787a7-bc69-4c4c-871c-b4e13aa22ad4",
   "metadata": {},
   "outputs": [],
   "source": [
    "# load the data\n",
    "data_matches = pd.read_csv(\"WorldCupMatches.csv\")\n",
    "data_winner = pd.read_csv(\"WorldCups.csv\")\n",
    "data_players = pd.read_csv(\"WorldCupPlayers.csv\")"
   ]
  },
  {
   "cell_type": "code",
   "execution_count": 4,
   "id": "37e170e7-ff5a-44ea-b784-e124146347b1",
   "metadata": {},
   "outputs": [
    {
     "data": {
      "text/html": [
       "<div>\n",
       "<style scoped>\n",
       "    .dataframe tbody tr th:only-of-type {\n",
       "        vertical-align: middle;\n",
       "    }\n",
       "\n",
       "    .dataframe tbody tr th {\n",
       "        vertical-align: top;\n",
       "    }\n",
       "\n",
       "    .dataframe thead th {\n",
       "        text-align: right;\n",
       "    }\n",
       "</style>\n",
       "<table border=\"1\" class=\"dataframe\">\n",
       "  <thead>\n",
       "    <tr style=\"text-align: right;\">\n",
       "      <th></th>\n",
       "      <th>Year</th>\n",
       "      <th>Datetime</th>\n",
       "      <th>Stage</th>\n",
       "      <th>Stadium</th>\n",
       "      <th>City</th>\n",
       "      <th>Home Team Name</th>\n",
       "      <th>Home Team Goals</th>\n",
       "      <th>Away Team Goals</th>\n",
       "      <th>Away Team Name</th>\n",
       "      <th>Win conditions</th>\n",
       "      <th>Attendance</th>\n",
       "      <th>Half-time Home Goals</th>\n",
       "      <th>Half-time Away Goals</th>\n",
       "      <th>Referee</th>\n",
       "      <th>Assistant 1</th>\n",
       "      <th>Assistant 2</th>\n",
       "      <th>RoundID</th>\n",
       "      <th>MatchID</th>\n",
       "      <th>Home Team Initials</th>\n",
       "      <th>Away Team Initials</th>\n",
       "    </tr>\n",
       "  </thead>\n",
       "  <tbody>\n",
       "    <tr>\n",
       "      <th>0</th>\n",
       "      <td>1930.0</td>\n",
       "      <td>13 Jul 1930 - 15:00</td>\n",
       "      <td>Group 1</td>\n",
       "      <td>Pocitos</td>\n",
       "      <td>Montevideo</td>\n",
       "      <td>France</td>\n",
       "      <td>4.0</td>\n",
       "      <td>1.0</td>\n",
       "      <td>Mexico</td>\n",
       "      <td></td>\n",
       "      <td>4444.0</td>\n",
       "      <td>3.0</td>\n",
       "      <td>0.0</td>\n",
       "      <td>LOMBARDI Domingo (URU)</td>\n",
       "      <td>CRISTOPHE Henry (BEL)</td>\n",
       "      <td>REGO Gilberto (BRA)</td>\n",
       "      <td>201.0</td>\n",
       "      <td>1096.0</td>\n",
       "      <td>FRA</td>\n",
       "      <td>MEX</td>\n",
       "    </tr>\n",
       "    <tr>\n",
       "      <th>1</th>\n",
       "      <td>1930.0</td>\n",
       "      <td>13 Jul 1930 - 15:00</td>\n",
       "      <td>Group 4</td>\n",
       "      <td>Parque Central</td>\n",
       "      <td>Montevideo</td>\n",
       "      <td>USA</td>\n",
       "      <td>3.0</td>\n",
       "      <td>0.0</td>\n",
       "      <td>Belgium</td>\n",
       "      <td></td>\n",
       "      <td>18346.0</td>\n",
       "      <td>2.0</td>\n",
       "      <td>0.0</td>\n",
       "      <td>MACIAS Jose (ARG)</td>\n",
       "      <td>MATEUCCI Francisco (URU)</td>\n",
       "      <td>WARNKEN Alberto (CHI)</td>\n",
       "      <td>201.0</td>\n",
       "      <td>1090.0</td>\n",
       "      <td>USA</td>\n",
       "      <td>BEL</td>\n",
       "    </tr>\n",
       "    <tr>\n",
       "      <th>2</th>\n",
       "      <td>1930.0</td>\n",
       "      <td>14 Jul 1930 - 12:45</td>\n",
       "      <td>Group 2</td>\n",
       "      <td>Parque Central</td>\n",
       "      <td>Montevideo</td>\n",
       "      <td>Yugoslavia</td>\n",
       "      <td>2.0</td>\n",
       "      <td>1.0</td>\n",
       "      <td>Brazil</td>\n",
       "      <td></td>\n",
       "      <td>24059.0</td>\n",
       "      <td>2.0</td>\n",
       "      <td>0.0</td>\n",
       "      <td>TEJADA Anibal (URU)</td>\n",
       "      <td>VALLARINO Ricardo (URU)</td>\n",
       "      <td>BALWAY Thomas (FRA)</td>\n",
       "      <td>201.0</td>\n",
       "      <td>1093.0</td>\n",
       "      <td>YUG</td>\n",
       "      <td>BRA</td>\n",
       "    </tr>\n",
       "    <tr>\n",
       "      <th>3</th>\n",
       "      <td>1930.0</td>\n",
       "      <td>14 Jul 1930 - 14:50</td>\n",
       "      <td>Group 3</td>\n",
       "      <td>Pocitos</td>\n",
       "      <td>Montevideo</td>\n",
       "      <td>Romania</td>\n",
       "      <td>3.0</td>\n",
       "      <td>1.0</td>\n",
       "      <td>Peru</td>\n",
       "      <td></td>\n",
       "      <td>2549.0</td>\n",
       "      <td>1.0</td>\n",
       "      <td>0.0</td>\n",
       "      <td>WARNKEN Alberto (CHI)</td>\n",
       "      <td>LANGENUS Jean (BEL)</td>\n",
       "      <td>MATEUCCI Francisco (URU)</td>\n",
       "      <td>201.0</td>\n",
       "      <td>1098.0</td>\n",
       "      <td>ROU</td>\n",
       "      <td>PER</td>\n",
       "    </tr>\n",
       "    <tr>\n",
       "      <th>4</th>\n",
       "      <td>1930.0</td>\n",
       "      <td>15 Jul 1930 - 16:00</td>\n",
       "      <td>Group 1</td>\n",
       "      <td>Parque Central</td>\n",
       "      <td>Montevideo</td>\n",
       "      <td>Argentina</td>\n",
       "      <td>1.0</td>\n",
       "      <td>0.0</td>\n",
       "      <td>France</td>\n",
       "      <td></td>\n",
       "      <td>23409.0</td>\n",
       "      <td>0.0</td>\n",
       "      <td>0.0</td>\n",
       "      <td>REGO Gilberto (BRA)</td>\n",
       "      <td>SAUCEDO Ulises (BOL)</td>\n",
       "      <td>RADULESCU Constantin (ROU)</td>\n",
       "      <td>201.0</td>\n",
       "      <td>1085.0</td>\n",
       "      <td>ARG</td>\n",
       "      <td>FRA</td>\n",
       "    </tr>\n",
       "  </tbody>\n",
       "</table>\n",
       "</div>"
      ],
      "text/plain": [
       "     Year              Datetime    Stage         Stadium         City  \\\n",
       "0  1930.0  13 Jul 1930 - 15:00   Group 1         Pocitos  Montevideo    \n",
       "1  1930.0  13 Jul 1930 - 15:00   Group 4  Parque Central  Montevideo    \n",
       "2  1930.0  14 Jul 1930 - 12:45   Group 2  Parque Central  Montevideo    \n",
       "3  1930.0  14 Jul 1930 - 14:50   Group 3         Pocitos  Montevideo    \n",
       "4  1930.0  15 Jul 1930 - 16:00   Group 1  Parque Central  Montevideo    \n",
       "\n",
       "  Home Team Name  Home Team Goals  Away Team Goals Away Team Name  \\\n",
       "0         France              4.0              1.0         Mexico   \n",
       "1            USA              3.0              0.0        Belgium   \n",
       "2     Yugoslavia              2.0              1.0         Brazil   \n",
       "3        Romania              3.0              1.0           Peru   \n",
       "4      Argentina              1.0              0.0         France   \n",
       "\n",
       "  Win conditions  Attendance  Half-time Home Goals  Half-time Away Goals  \\\n",
       "0                     4444.0                   3.0                   0.0   \n",
       "1                    18346.0                   2.0                   0.0   \n",
       "2                    24059.0                   2.0                   0.0   \n",
       "3                     2549.0                   1.0                   0.0   \n",
       "4                    23409.0                   0.0                   0.0   \n",
       "\n",
       "                  Referee               Assistant 1  \\\n",
       "0  LOMBARDI Domingo (URU)     CRISTOPHE Henry (BEL)   \n",
       "1       MACIAS Jose (ARG)  MATEUCCI Francisco (URU)   \n",
       "2     TEJADA Anibal (URU)   VALLARINO Ricardo (URU)   \n",
       "3   WARNKEN Alberto (CHI)       LANGENUS Jean (BEL)   \n",
       "4     REGO Gilberto (BRA)      SAUCEDO Ulises (BOL)   \n",
       "\n",
       "                  Assistant 2  RoundID  MatchID Home Team Initials  \\\n",
       "0         REGO Gilberto (BRA)    201.0   1096.0                FRA   \n",
       "1       WARNKEN Alberto (CHI)    201.0   1090.0                USA   \n",
       "2         BALWAY Thomas (FRA)    201.0   1093.0                YUG   \n",
       "3    MATEUCCI Francisco (URU)    201.0   1098.0                ROU   \n",
       "4  RADULESCU Constantin (ROU)    201.0   1085.0                ARG   \n",
       "\n",
       "  Away Team Initials  \n",
       "0                MEX  \n",
       "1                BEL  \n",
       "2                BRA  \n",
       "3                PER  \n",
       "4                FRA  "
      ]
     },
     "execution_count": 4,
     "metadata": {},
     "output_type": "execute_result"
    }
   ],
   "source": [
    "data_matches.head()"
   ]
  },
  {
   "cell_type": "code",
   "execution_count": 5,
   "id": "3892f97c-1ae2-4a25-946d-ad859f223bb3",
   "metadata": {},
   "outputs": [
    {
     "data": {
      "text/html": [
       "<div>\n",
       "<style scoped>\n",
       "    .dataframe tbody tr th:only-of-type {\n",
       "        vertical-align: middle;\n",
       "    }\n",
       "\n",
       "    .dataframe tbody tr th {\n",
       "        vertical-align: top;\n",
       "    }\n",
       "\n",
       "    .dataframe thead th {\n",
       "        text-align: right;\n",
       "    }\n",
       "</style>\n",
       "<table border=\"1\" class=\"dataframe\">\n",
       "  <thead>\n",
       "    <tr style=\"text-align: right;\">\n",
       "      <th></th>\n",
       "      <th>Year</th>\n",
       "      <th>Country</th>\n",
       "      <th>Winner</th>\n",
       "      <th>Runners-Up</th>\n",
       "      <th>Third</th>\n",
       "      <th>Fourth</th>\n",
       "      <th>GoalsScored</th>\n",
       "      <th>QualifiedTeams</th>\n",
       "      <th>MatchesPlayed</th>\n",
       "      <th>Attendance</th>\n",
       "    </tr>\n",
       "  </thead>\n",
       "  <tbody>\n",
       "    <tr>\n",
       "      <th>0</th>\n",
       "      <td>1930</td>\n",
       "      <td>Uruguay</td>\n",
       "      <td>Uruguay</td>\n",
       "      <td>Argentina</td>\n",
       "      <td>USA</td>\n",
       "      <td>Yugoslavia</td>\n",
       "      <td>70</td>\n",
       "      <td>13</td>\n",
       "      <td>18</td>\n",
       "      <td>590.549</td>\n",
       "    </tr>\n",
       "    <tr>\n",
       "      <th>1</th>\n",
       "      <td>1934</td>\n",
       "      <td>Italy</td>\n",
       "      <td>Italy</td>\n",
       "      <td>Czechoslovakia</td>\n",
       "      <td>Germany</td>\n",
       "      <td>Austria</td>\n",
       "      <td>70</td>\n",
       "      <td>16</td>\n",
       "      <td>17</td>\n",
       "      <td>363.000</td>\n",
       "    </tr>\n",
       "    <tr>\n",
       "      <th>2</th>\n",
       "      <td>1938</td>\n",
       "      <td>France</td>\n",
       "      <td>Italy</td>\n",
       "      <td>Hungary</td>\n",
       "      <td>Brazil</td>\n",
       "      <td>Sweden</td>\n",
       "      <td>84</td>\n",
       "      <td>15</td>\n",
       "      <td>18</td>\n",
       "      <td>375.700</td>\n",
       "    </tr>\n",
       "    <tr>\n",
       "      <th>3</th>\n",
       "      <td>1950</td>\n",
       "      <td>Brazil</td>\n",
       "      <td>Uruguay</td>\n",
       "      <td>Brazil</td>\n",
       "      <td>Sweden</td>\n",
       "      <td>Spain</td>\n",
       "      <td>88</td>\n",
       "      <td>13</td>\n",
       "      <td>22</td>\n",
       "      <td>1.045.246</td>\n",
       "    </tr>\n",
       "    <tr>\n",
       "      <th>4</th>\n",
       "      <td>1954</td>\n",
       "      <td>Switzerland</td>\n",
       "      <td>Germany FR</td>\n",
       "      <td>Hungary</td>\n",
       "      <td>Austria</td>\n",
       "      <td>Uruguay</td>\n",
       "      <td>140</td>\n",
       "      <td>16</td>\n",
       "      <td>26</td>\n",
       "      <td>768.607</td>\n",
       "    </tr>\n",
       "  </tbody>\n",
       "</table>\n",
       "</div>"
      ],
      "text/plain": [
       "   Year      Country      Winner      Runners-Up    Third      Fourth  \\\n",
       "0  1930      Uruguay     Uruguay       Argentina      USA  Yugoslavia   \n",
       "1  1934        Italy       Italy  Czechoslovakia  Germany     Austria   \n",
       "2  1938       France       Italy         Hungary   Brazil      Sweden   \n",
       "3  1950       Brazil     Uruguay          Brazil   Sweden       Spain   \n",
       "4  1954  Switzerland  Germany FR         Hungary  Austria     Uruguay   \n",
       "\n",
       "   GoalsScored  QualifiedTeams  MatchesPlayed Attendance  \n",
       "0           70              13             18    590.549  \n",
       "1           70              16             17    363.000  \n",
       "2           84              15             18    375.700  \n",
       "3           88              13             22  1.045.246  \n",
       "4          140              16             26    768.607  "
      ]
     },
     "execution_count": 5,
     "metadata": {},
     "output_type": "execute_result"
    }
   ],
   "source": [
    "data_winner.head()"
   ]
  },
  {
   "cell_type": "code",
   "execution_count": 6,
   "id": "19d64d84-8756-48d0-a2df-ad09c5012e04",
   "metadata": {},
   "outputs": [
    {
     "data": {
      "text/html": [
       "<div>\n",
       "<style scoped>\n",
       "    .dataframe tbody tr th:only-of-type {\n",
       "        vertical-align: middle;\n",
       "    }\n",
       "\n",
       "    .dataframe tbody tr th {\n",
       "        vertical-align: top;\n",
       "    }\n",
       "\n",
       "    .dataframe thead th {\n",
       "        text-align: right;\n",
       "    }\n",
       "</style>\n",
       "<table border=\"1\" class=\"dataframe\">\n",
       "  <thead>\n",
       "    <tr style=\"text-align: right;\">\n",
       "      <th></th>\n",
       "      <th>RoundID</th>\n",
       "      <th>MatchID</th>\n",
       "      <th>Team Initials</th>\n",
       "      <th>Coach Name</th>\n",
       "      <th>Line-up</th>\n",
       "      <th>Shirt Number</th>\n",
       "      <th>Player Name</th>\n",
       "      <th>Position</th>\n",
       "      <th>Event</th>\n",
       "    </tr>\n",
       "  </thead>\n",
       "  <tbody>\n",
       "    <tr>\n",
       "      <th>0</th>\n",
       "      <td>201</td>\n",
       "      <td>1096</td>\n",
       "      <td>FRA</td>\n",
       "      <td>CAUDRON Raoul (FRA)</td>\n",
       "      <td>S</td>\n",
       "      <td>0</td>\n",
       "      <td>Alex THEPOT</td>\n",
       "      <td>GK</td>\n",
       "      <td>NaN</td>\n",
       "    </tr>\n",
       "    <tr>\n",
       "      <th>1</th>\n",
       "      <td>201</td>\n",
       "      <td>1096</td>\n",
       "      <td>MEX</td>\n",
       "      <td>LUQUE Juan (MEX)</td>\n",
       "      <td>S</td>\n",
       "      <td>0</td>\n",
       "      <td>Oscar BONFIGLIO</td>\n",
       "      <td>GK</td>\n",
       "      <td>NaN</td>\n",
       "    </tr>\n",
       "    <tr>\n",
       "      <th>2</th>\n",
       "      <td>201</td>\n",
       "      <td>1096</td>\n",
       "      <td>FRA</td>\n",
       "      <td>CAUDRON Raoul (FRA)</td>\n",
       "      <td>S</td>\n",
       "      <td>0</td>\n",
       "      <td>Marcel LANGILLER</td>\n",
       "      <td>NaN</td>\n",
       "      <td>G40'</td>\n",
       "    </tr>\n",
       "    <tr>\n",
       "      <th>3</th>\n",
       "      <td>201</td>\n",
       "      <td>1096</td>\n",
       "      <td>MEX</td>\n",
       "      <td>LUQUE Juan (MEX)</td>\n",
       "      <td>S</td>\n",
       "      <td>0</td>\n",
       "      <td>Juan CARRENO</td>\n",
       "      <td>NaN</td>\n",
       "      <td>G70'</td>\n",
       "    </tr>\n",
       "    <tr>\n",
       "      <th>4</th>\n",
       "      <td>201</td>\n",
       "      <td>1096</td>\n",
       "      <td>FRA</td>\n",
       "      <td>CAUDRON Raoul (FRA)</td>\n",
       "      <td>S</td>\n",
       "      <td>0</td>\n",
       "      <td>Ernest LIBERATI</td>\n",
       "      <td>NaN</td>\n",
       "      <td>NaN</td>\n",
       "    </tr>\n",
       "  </tbody>\n",
       "</table>\n",
       "</div>"
      ],
      "text/plain": [
       "   RoundID  MatchID Team Initials           Coach Name Line-up  Shirt Number  \\\n",
       "0      201     1096           FRA  CAUDRON Raoul (FRA)       S             0   \n",
       "1      201     1096           MEX     LUQUE Juan (MEX)       S             0   \n",
       "2      201     1096           FRA  CAUDRON Raoul (FRA)       S             0   \n",
       "3      201     1096           MEX     LUQUE Juan (MEX)       S             0   \n",
       "4      201     1096           FRA  CAUDRON Raoul (FRA)       S             0   \n",
       "\n",
       "        Player Name Position Event  \n",
       "0       Alex THEPOT       GK   NaN  \n",
       "1   Oscar BONFIGLIO       GK   NaN  \n",
       "2  Marcel LANGILLER      NaN  G40'  \n",
       "3      Juan CARRENO      NaN  G70'  \n",
       "4   Ernest LIBERATI      NaN   NaN  "
      ]
     },
     "execution_count": 6,
     "metadata": {},
     "output_type": "execute_result"
    }
   ],
   "source": [
    "data_players.head()"
   ]
  },
  {
   "cell_type": "code",
   "execution_count": 7,
   "id": "830e9dbc-2261-4cc6-8369-9a5a46e048a3",
   "metadata": {},
   "outputs": [
    {
     "data": {
      "text/plain": [
       "Text(0.5, 0, 'Country')"
      ]
     },
     "execution_count": 7,
     "metadata": {},
     "output_type": "execute_result"
    },
    {
     "data": {
      "image/png": "[encoded data removed]",
      "text/plain": [
       "<Figure size 864x720 with 1 Axes>"
      ]
     },
     "metadata": {},
     "output_type": "display_data"
    }
   ],
   "source": [
    "# count plot of world cup winner nations\n",
    "\n",
    "sns.countplot(x = \"Winner\", data = data_winner)\n",
    "plt.grid(True)\n",
    "plt.ylabel(\"Number of World Cup Won\", fontsize = 14)\n",
    "plt.xlabel(\"Country\", fontsize = 14)"
   ]
  },
  {
   "cell_type": "markdown",
   "id": "085fece2-c6ab-4d5e-b468-3f89295f97e7",
   "metadata": {},
   "source": [
    "from the Brazil won 5, Italy won 4 and Argentina won 2"
   ]
  },
  {
   "cell_type": "markdown",
   "id": "998fc8f8-0eab-40ca-8c04-d052ed61836c",
   "metadata": {},
   "source": [
    "Another cool thing we can explore is related to the fact that, in the matches dataset, we have the stage of the tournament as well. It is interesting to explore it because the number of times that a country passed the group stage is obviously indicative of the quality of that team."
   ]
  },
  {
   "cell_type": "code",
   "execution_count": 8,
   "id": "6baae2d0-366e-4a31-8ba4-7f1f6fbe9252",
   "metadata": {},
   "outputs": [
    {
     "data": {
      "text/plain": [
       "(array([ 0,  1,  2,  3,  4,  5,  6,  7,  8,  9, 10, 11, 12, 13, 14, 15, 16,\n",
       "        17, 18, 19, 20, 21, 22]),\n",
       " [Text(0, 0, 'Group 1'),\n",
       "  Text(1, 0, 'Group 4'),\n",
       "  Text(2, 0, 'Group 2'),\n",
       "  Text(3, 0, 'Group 3'),\n",
       "  Text(4, 0, 'Semi-finals'),\n",
       "  Text(5, 0, 'Final'),\n",
       "  Text(6, 0, 'Preliminary round'),\n",
       "  Text(7, 0, 'Quarter-finals'),\n",
       "  Text(8, 0, 'Match for third place'),\n",
       "  Text(9, 0, 'First round'),\n",
       "  Text(10, 0, 'Group 6'),\n",
       "  Text(11, 0, 'Group B'),\n",
       "  Text(12, 0, 'Group A'),\n",
       "  Text(13, 0, 'Group 5'),\n",
       "  Text(14, 0, 'Group C'),\n",
       "  Text(15, 0, 'Group D'),\n",
       "  Text(16, 0, 'Group F'),\n",
       "  Text(17, 0, 'Group E'),\n",
       "  Text(18, 0, 'Round of 16'),\n",
       "  Text(19, 0, 'Group H'),\n",
       "  Text(20, 0, 'Group G'),\n",
       "  Text(21, 0, 'Third place'),\n",
       "  Text(22, 0, 'Play-off for third place')])"
      ]
     },
     "execution_count": 8,
     "metadata": {},
     "output_type": "execute_result"
    },
    {
     "data": {
      "image/png": "[encoded data removed]",
      "text/plain": [
       "<Figure size 864x720 with 1 Axes>"
      ]
     },
     "metadata": {},
     "output_type": "display_data"
    }
   ],
   "source": [
    "sns.countplot(x = \"Stage\", data = data_matches)\n",
    "plt.xticks(rotation = 90)"
   ]
  },
  {
   "cell_type": "markdown",
   "id": "076e6d3f-8773-4bb2-861d-b14d78d189b9",
   "metadata": {},
   "source": [
    "So we have a lot of group stage matches but only a few elimination stages. That makes complete sense because, of course, you have multiple groups but only one eliminatory phase."
   ]
  },
  {
   "cell_type": "code",
   "execution_count": 9,
   "id": "28a91d7f-3808-4840-ac7d-54b64f533dd6",
   "metadata": {},
   "outputs": [
    {
     "name": "stdout",
     "output_type": "stream",
     "text": [
      "<class 'pandas.core.frame.DataFrame'>\n",
      "RangeIndex: 4572 entries, 0 to 4571\n",
      "Data columns (total 20 columns):\n",
      " #   Column                Non-Null Count  Dtype  \n",
      "---  ------                --------------  -----  \n",
      " 0   Year                  852 non-null    float64\n",
      " 1   Datetime              852 non-null    object \n",
      " 2   Stage                 852 non-null    object \n",
      " 3   Stadium               852 non-null    object \n",
      " 4   City                  852 non-null    object \n",
      " 5   Home Team Name        852 non-null    object \n",
      " 6   Home Team Goals       852 non-null    float64\n",
      " 7   Away Team Goals       852 non-null    float64\n",
      " 8   Away Team Name        852 non-null    object \n",
      " 9   Win conditions        852 non-null    object \n",
      " 10  Attendance            850 non-null    float64\n",
      " 11  Half-time Home Goals  852 non-null    float64\n",
      " 12  Half-time Away Goals  852 non-null    float64\n",
      " 13  Referee               852 non-null    object \n",
      " 14  Assistant 1           852 non-null    object \n",
      " 15  Assistant 2           852 non-null    object \n",
      " 16  RoundID               852 non-null    float64\n",
      " 17  MatchID               852 non-null    float64\n",
      " 18  Home Team Initials    852 non-null    object \n",
      " 19  Away Team Initials    852 non-null    object \n",
      "dtypes: float64(8), object(12)\n",
      "memory usage: 714.5+ KB\n"
     ]
    }
   ],
   "source": [
    "data_matches.info()"
   ]
  },
  {
   "cell_type": "code",
   "execution_count": 10,
   "id": "5b3726dd-7e66-4522-a7f7-c1a7219f2756",
   "metadata": {},
   "outputs": [
    {
     "data": {
      "text/html": [
       "<div>\n",
       "<style scoped>\n",
       "    .dataframe tbody tr th:only-of-type {\n",
       "        vertical-align: middle;\n",
       "    }\n",
       "\n",
       "    .dataframe tbody tr th {\n",
       "        vertical-align: top;\n",
       "    }\n",
       "\n",
       "    .dataframe thead th {\n",
       "        text-align: right;\n",
       "    }\n",
       "</style>\n",
       "<table border=\"1\" class=\"dataframe\">\n",
       "  <thead>\n",
       "    <tr style=\"text-align: right;\">\n",
       "      <th></th>\n",
       "      <th>Home Team Name</th>\n",
       "      <th>Home Team Goals</th>\n",
       "      <th>Away Team Goals</th>\n",
       "      <th>Away Team Name</th>\n",
       "      <th>Stage</th>\n",
       "    </tr>\n",
       "  </thead>\n",
       "  <tbody>\n",
       "    <tr>\n",
       "      <th>0</th>\n",
       "      <td>France</td>\n",
       "      <td>4.0</td>\n",
       "      <td>1.0</td>\n",
       "      <td>Mexico</td>\n",
       "      <td>Group 1</td>\n",
       "    </tr>\n",
       "    <tr>\n",
       "      <th>1</th>\n",
       "      <td>USA</td>\n",
       "      <td>3.0</td>\n",
       "      <td>0.0</td>\n",
       "      <td>Belgium</td>\n",
       "      <td>Group 4</td>\n",
       "    </tr>\n",
       "    <tr>\n",
       "      <th>2</th>\n",
       "      <td>Yugoslavia</td>\n",
       "      <td>2.0</td>\n",
       "      <td>1.0</td>\n",
       "      <td>Brazil</td>\n",
       "      <td>Group 2</td>\n",
       "    </tr>\n",
       "    <tr>\n",
       "      <th>3</th>\n",
       "      <td>Romania</td>\n",
       "      <td>3.0</td>\n",
       "      <td>1.0</td>\n",
       "      <td>Peru</td>\n",
       "      <td>Group 3</td>\n",
       "    </tr>\n",
       "    <tr>\n",
       "      <th>4</th>\n",
       "      <td>Argentina</td>\n",
       "      <td>1.0</td>\n",
       "      <td>0.0</td>\n",
       "      <td>France</td>\n",
       "      <td>Group 1</td>\n",
       "    </tr>\n",
       "  </tbody>\n",
       "</table>\n",
       "</div>"
      ],
      "text/plain": [
       "  Home Team Name  Home Team Goals  Away Team Goals Away Team Name    Stage\n",
       "0         France              4.0              1.0         Mexico  Group 1\n",
       "1            USA              3.0              0.0        Belgium  Group 4\n",
       "2     Yugoslavia              2.0              1.0         Brazil  Group 2\n",
       "3        Romania              3.0              1.0           Peru  Group 3\n",
       "4      Argentina              1.0              0.0         France  Group 1"
      ]
     },
     "execution_count": 10,
     "metadata": {},
     "output_type": "execute_result"
    }
   ],
   "source": [
    "important_columns = [\"Home Team Name\",\"Home Team Goals\",\"Away Team Goals\", \"Away Team Name\",\"Stage\"]\n",
    "data_matches[important_columns].head()"
   ]
  },
  {
   "cell_type": "code",
   "execution_count": 11,
   "id": "aeaac855-0f28-4baa-992a-cbd33e948e32",
   "metadata": {},
   "outputs": [],
   "source": [
    "data_matches = data_matches[important_columns].dropna().reset_index().drop('index', axis = 1)"
   ]
  },
  {
   "cell_type": "code",
   "execution_count": 12,
   "id": "82ad8755-9a27-4dee-ba70-a1378000aeac",
   "metadata": {},
   "outputs": [
    {
     "name": "stdout",
     "output_type": "stream",
     "text": [
      "<class 'pandas.core.frame.DataFrame'>\n",
      "RangeIndex: 852 entries, 0 to 851\n",
      "Data columns (total 5 columns):\n",
      " #   Column           Non-Null Count  Dtype  \n",
      "---  ------           --------------  -----  \n",
      " 0   Home Team Name   852 non-null    object \n",
      " 1   Home Team Goals  852 non-null    float64\n",
      " 2   Away Team Goals  852 non-null    float64\n",
      " 3   Away Team Name   852 non-null    object \n",
      " 4   Stage            852 non-null    object \n",
      "dtypes: float64(2), object(3)\n",
      "memory usage: 33.4+ KB\n"
     ]
    }
   ],
   "source": [
    "data_matches.info()"
   ]
  },
  {
   "cell_type": "markdown",
   "id": "463d4957-f297-4b7d-8733-1dbd8fc88e33",
   "metadata": {},
   "source": [
    "2. Modelling the Probability Distribution"
   ]
  },
  {
   "cell_type": "markdown",
   "id": "95db8e5e-4782-4c46-8bc9-9cc04f2e9d69",
   "metadata": {},
   "source": [
    "let's say we have two team T1 and T2. what is the probability that Team 1(T1) will win the match?\n",
    "\n",
    "P(T1 winning against T2) = (number of times T1 won against T2) / (number of matches between T1 and T2)\n",
    "\n",
    "It is same for T2 and the draw.\n",
    "But they cannot draw in the elimination stage."
   ]
  },
  {
   "cell_type": "code",
   "execution_count": 13,
   "id": "5a3a19a3-ed27-4ff8-a5e3-4f3e3a5d6cd0",
   "metadata": {},
   "outputs": [],
   "source": [
    "win_draw_lose = []\n",
    "for i in range(len(data_matches)):\n",
    "    home_team_goal = int(data_matches[\"Home Team Goals\"].loc[i])\n",
    "    away_team_goal = int(data_matches[\"Away Team Goals\"].loc[i])\n",
    "    if home_team_goal == away_team_goal:\n",
    "        win_draw_lose.append(\"Draw\")\n",
    "        \n",
    "    if home_team_goal>away_team_goal:\n",
    "        win_draw_lose.append(data_matches[\"Home Team Name\"].loc[i])\n",
    "        \n",
    "    if home_team_goal<away_team_goal:\n",
    "        win_draw_lose.append(data_matches[\"Away Team Name\"].loc[i])\n",
    "        \n",
    "data_matches[\"Result\"] = win_draw_lose\n",
    "        "
   ]
  },
  {
   "cell_type": "code",
   "execution_count": 14,
   "id": "8392121c-1057-46cf-a492-424ca1e30150",
   "metadata": {},
   "outputs": [
    {
     "name": "stdout",
     "output_type": "stream",
     "text": [
      "<class 'pandas.core.frame.DataFrame'>\n",
      "RangeIndex: 852 entries, 0 to 851\n",
      "Data columns (total 6 columns):\n",
      " #   Column           Non-Null Count  Dtype  \n",
      "---  ------           --------------  -----  \n",
      " 0   Home Team Name   852 non-null    object \n",
      " 1   Home Team Goals  852 non-null    float64\n",
      " 2   Away Team Goals  852 non-null    float64\n",
      " 3   Away Team Name   852 non-null    object \n",
      " 4   Stage            852 non-null    object \n",
      " 5   Result           852 non-null    object \n",
      "dtypes: float64(2), object(4)\n",
      "memory usage: 40.1+ KB\n"
     ]
    }
   ],
   "source": [
    "data_matches.info()"
   ]
  },
  {
   "cell_type": "code",
   "execution_count": 15,
   "id": "22f78d23-0c36-40ac-be79-ea8f28597ab2",
   "metadata": {},
   "outputs": [
    {
     "data": {
      "text/html": [
       "<div>\n",
       "<style scoped>\n",
       "    .dataframe tbody tr th:only-of-type {\n",
       "        vertical-align: middle;\n",
       "    }\n",
       "\n",
       "    .dataframe tbody tr th {\n",
       "        vertical-align: top;\n",
       "    }\n",
       "\n",
       "    .dataframe thead th {\n",
       "        text-align: right;\n",
       "    }\n",
       "</style>\n",
       "<table border=\"1\" class=\"dataframe\">\n",
       "  <thead>\n",
       "    <tr style=\"text-align: right;\">\n",
       "      <th></th>\n",
       "      <th>Home Team Name</th>\n",
       "      <th>Home Team Goals</th>\n",
       "      <th>Away Team Goals</th>\n",
       "      <th>Away Team Name</th>\n",
       "      <th>Stage</th>\n",
       "      <th>Result</th>\n",
       "    </tr>\n",
       "  </thead>\n",
       "  <tbody>\n",
       "    <tr>\n",
       "      <th>0</th>\n",
       "      <td>France</td>\n",
       "      <td>4.0</td>\n",
       "      <td>1.0</td>\n",
       "      <td>Mexico</td>\n",
       "      <td>Group 1</td>\n",
       "      <td>France</td>\n",
       "    </tr>\n",
       "    <tr>\n",
       "      <th>1</th>\n",
       "      <td>USA</td>\n",
       "      <td>3.0</td>\n",
       "      <td>0.0</td>\n",
       "      <td>Belgium</td>\n",
       "      <td>Group 4</td>\n",
       "      <td>USA</td>\n",
       "    </tr>\n",
       "    <tr>\n",
       "      <th>2</th>\n",
       "      <td>Yugoslavia</td>\n",
       "      <td>2.0</td>\n",
       "      <td>1.0</td>\n",
       "      <td>Brazil</td>\n",
       "      <td>Group 2</td>\n",
       "      <td>Yugoslavia</td>\n",
       "    </tr>\n",
       "    <tr>\n",
       "      <th>3</th>\n",
       "      <td>Romania</td>\n",
       "      <td>3.0</td>\n",
       "      <td>1.0</td>\n",
       "      <td>Peru</td>\n",
       "      <td>Group 3</td>\n",
       "      <td>Romania</td>\n",
       "    </tr>\n",
       "    <tr>\n",
       "      <th>4</th>\n",
       "      <td>Argentina</td>\n",
       "      <td>1.0</td>\n",
       "      <td>0.0</td>\n",
       "      <td>France</td>\n",
       "      <td>Group 1</td>\n",
       "      <td>Argentina</td>\n",
       "    </tr>\n",
       "  </tbody>\n",
       "</table>\n",
       "</div>"
      ],
      "text/plain": [
       "  Home Team Name  Home Team Goals  Away Team Goals Away Team Name    Stage  \\\n",
       "0         France              4.0              1.0         Mexico  Group 1   \n",
       "1            USA              3.0              0.0        Belgium  Group 4   \n",
       "2     Yugoslavia              2.0              1.0         Brazil  Group 2   \n",
       "3        Romania              3.0              1.0           Peru  Group 3   \n",
       "4      Argentina              1.0              0.0         France  Group 1   \n",
       "\n",
       "       Result  \n",
       "0      France  \n",
       "1         USA  \n",
       "2  Yugoslavia  \n",
       "3     Romania  \n",
       "4   Argentina  "
      ]
     },
     "execution_count": 15,
     "metadata": {},
     "output_type": "execute_result"
    }
   ],
   "source": [
    "data_matches.head()"
   ]
  },
  {
   "cell_type": "markdown",
   "id": "15a7083e-2f5c-416a-8d17-a75afd24ebc0",
   "metadata": {},
   "source": [
    "Now we have to select the team for the Qatar world Cup."
   ]
  },
  {
   "cell_type": "code",
   "execution_count": 16,
   "id": "ddf842e2-b962-4ae4-9f15-01b28de39440",
   "metadata": {},
   "outputs": [],
   "source": [
    "qatar_team_list = [\"Argentina\",\n",
    "\"Australia\",\n",
    "\"Belgium\",\n",
    "\"Brazil\" ,\n",
    "\"Cameroon\", \n",
    "\"Canada\" ,\n",
    "\"Costa Rica\", \n",
    "\"Croatia\" ,\n",
    "\"Denmark\" ,\n",
    "\"Ecuador\" ,\n",
    "\"England\" ,\n",
    "\"France\" ,\n",
    "\"Germany\" ,\n",
    "\"Ghana\" ,\n",
    "\"IR Iran\",\n",
    "\"Japan\" ,\n",
    "\"Korea Republic\",\n",
    "\"Mexico\",\n",
    "\"Morocco\", \n",
    "\"Netherlands\",\n",
    "\"Poland\",\n",
    "\"Portugal\",\n",
    "\"Qatar\",\n",
    "\"Saudi Arabia\",\n",
    "\"Senegal\",\n",
    "\"Serbia\",\n",
    "\"Spain\",\n",
    "\"Switzerland\",\n",
    "\"Tunisia\",\n",
    "\"Uruguay\",\n",
    "\"USA\",\n",
    "\"Wales\"]"
   ]
  },
  {
   "cell_type": "markdown",
   "id": "2657af13-4e69-4d0a-9b7d-51e979bff2b6",
   "metadata": {},
   "source": [
    "Now we have to match the data that we have with the team list. We have to make sure that we have all the teams that are going to be in Qatar in the dataset"
   ]
  },
  {
   "cell_type": "code",
   "execution_count": 17,
   "id": "559c9083-cd51-4aa5-a679-145a7d293ec7",
   "metadata": {},
   "outputs": [
    {
     "name": "stdout",
     "output_type": "stream",
     "text": [
      "Houston, we have a problem with team Qatar \n"
     ]
    }
   ],
   "source": [
    "team_list = list(set(data_matches[\"Home Team Name\"]))\n",
    "for t in qatar_team_list:\n",
    "    if t not in team_list:\n",
    "        print(\"Houston, we have a problem with team %s \"%(t))\n",
    "        \n",
    "qatar_probabilities = {'Win': 0.20, 'Draw': 0.20, 'Lose': 0.60}\n"
   ]
  },
  {
   "cell_type": "markdown",
   "id": "3008004f-975d-467f-a7a6-63690a09173c",
   "metadata": {},
   "source": [
    "So Qatar is, ironically, the only team we don’t have in our dataset. We'll deal with this later. Let’s add a qatar_probabilities dictionary for now, which is a kind of made-up realistic probability of how many games Qatar can actually win in the World Cup.\n",
    "\n",
    "Now if we want to do the probability conversion, let’s use the following function:"
   ]
  },
  {
   "cell_type": "code",
   "execution_count": 18,
   "id": "224fb10a-3ce2-4639-9949-a3124c2c6f01",
   "metadata": {},
   "outputs": [],
   "source": [
    "def select_team_statistics(team):\n",
    "    data_team = data_matches[(data_matches[\"Home Team Name\"] == team) | (data_matches[\"Away Team Name\"]== team)]\n",
    "    winning_count = len(data_team[data_team[\"Result\"]== team])\n",
    "    draw_count = len(data_team[data_team[\"Result\"]==\"Draw\"])\n",
    "    lose_count = len(data_team) - winning_count - draw_count\n",
    "    return data_team, {\"Winning Count\": winning_count, \"Draw Count\": draw_count, \"Lose Count\": lose_count}"
   ]
  },
  {
   "cell_type": "code",
   "execution_count": 19,
   "id": "112dfd9d-b178-4780-aa44-ace00e16175c",
   "metadata": {},
   "outputs": [
    {
     "data": {
      "text/plain": [
       "(Empty DataFrame\n",
       " Columns: [Home Team Name, Home Team Goals, Away Team Goals, Away Team Name, Stage, Result]\n",
       " Index: [],\n",
       " {'Winning Count': 0, 'Draw Count': 0, 'Lose Count': 0})"
      ]
     },
     "execution_count": 19,
     "metadata": {},
     "output_type": "execute_result"
    }
   ],
   "source": [
    "select_team_statistics(\"Qatar\")"
   ]
  },
  {
   "cell_type": "markdown",
   "id": "a677af72-de39-47a8-9f79-d9bd9c176851",
   "metadata": {},
   "source": [
    "And let's plot some random result."
   ]
  },
  {
   "cell_type": "code",
   "execution_count": 20,
   "id": "3efee472-1cf4-4b20-9c05-7bdb394aee6e",
   "metadata": {},
   "outputs": [
    {
     "data": {
      "image/png": "[encoded data removed]",
      "text/plain": [
       "<Figure size 864x720 with 4 Axes>"
      ]
     },
     "metadata": {},
     "output_type": "display_data"
    }
   ],
   "source": [
    "for i in range(1,5):\n",
    "    plt.subplot(2,2,i)\n",
    "    random_team = np.random.choice(qatar_team_list)\n",
    "    plt.title('Stats for team = %s'%(random_team),fontweight='bold')\n",
    "    team_data,stats = select_team_statistics(random_team)\n",
    "    labels, values = stats.keys(),stats.values()\n",
    "    plt.pie(values, labels = labels,colors=['navy','darkorange','firebrick'])"
   ]
  },
  {
   "cell_type": "markdown",
   "id": "819c6e82-f73f-4e1a-950b-4ff675c5701d",
   "metadata": {},
   "source": [
    "Probabilites for the matches"
   ]
  },
  {
   "cell_type": "code",
   "execution_count": 21,
   "id": "9f595ec9-a887-4675-b683-64bb0f5fe182",
   "metadata": {},
   "outputs": [],
   "source": [
    "def select_match_statistics(team_A, team_B):\n",
    "    data_team = data_matches[(data_matches['Home Team Name']==team_A)& (data_matches['Away Team Name']==team_B)]\n",
    "    data_team = data_team.append(data_matches[(data_matches['Home Team Name']==team_B)& (data_matches['Away Team Name']==team_A)])\n",
    "    len_data = len(data_team)\n",
    "    if len_data==0:\n",
    "        print('These teams never played against each other')\n",
    "    else:\n",
    "        print('These teams played against each other %i times'%(len_data))\n",
    "    team_A_win = len(data_team[data_team.Result==team_A])\n",
    "    team_B_win = len(data_team[data_team.Result==team_B])\n",
    "    draw = len(data_team[data_team.Result=='Draw'])\n",
    "    return data_team,{team_A:team_A_win,team_B:team_B_win,'Draw':draw}"
   ]
  },
  {
   "cell_type": "code",
   "execution_count": 22,
   "id": "287d369c-93ef-4aab-9a5c-dc7b1150b3bf",
   "metadata": {},
   "outputs": [],
   "source": [
    "import warnings\n",
    "warnings.filterwarnings(\"ignore\")"
   ]
  },
  {
   "cell_type": "code",
   "execution_count": 23,
   "id": "593de261-5b9d-4e02-b2d4-ee5403a97a3c",
   "metadata": {},
   "outputs": [
    {
     "name": "stdout",
     "output_type": "stream",
     "text": [
      "These teams played against each other 5 times\n"
     ]
    }
   ],
   "source": [
    "data_match , stats = select_match_statistics(\"France\", \"Italy\")"
   ]
  },
  {
   "cell_type": "code",
   "execution_count": 24,
   "id": "34ea17de-228a-4065-84ff-4f0af9efd732",
   "metadata": {},
   "outputs": [
    {
     "name": "stdout",
     "output_type": "stream",
     "text": [
      "These teams played against each other 2 times\n"
     ]
    }
   ],
   "source": [
    "data_match,stats = select_match_statistics('France','Belgium')"
   ]
  },
  {
   "cell_type": "code",
   "execution_count": 25,
   "id": "1a8031dc-4b06-4960-a6c8-f62126f9232a",
   "metadata": {},
   "outputs": [
    {
     "name": "stdout",
     "output_type": "stream",
     "text": [
      "These teams never played against each other\n"
     ]
    }
   ],
   "source": [
    "data_match,stats = select_match_statistics('France','Qatar')"
   ]
  },
  {
   "cell_type": "markdown",
   "id": "9d8e8d55-21a9-44e3-acdc-a03e3cc0be50",
   "metadata": {},
   "source": [
    "Now. This is a real question. I don’t have the answer because it is hard to automatically predict the outcome of two teams that have never played each other. What we can do is build a score for each time and compare the two scores to convert them into a probability of Team 1 winning, Team 2 winning, or the two teams drawing.\n",
    "\n",
    "I think that a good score for a team is the number of (normalized) times that the team has passed the group stage. This is, of course, a good point that indicates the quality of a team. We will call it a score of 1. Another important thing to consider is the number of times that a team has actually won the World Cup. We will call it a score of 2. As score_1 is between 0 and 1 and score_2 can be 2, 3, or 4, let’s multiply this by 0.5. So given a team T, we will have:"
   ]
  },
  {
   "cell_type": "markdown",
   "id": "0a9c73e9-cf37-4303-847f-db7e9415abf7",
   "metadata": {},
   "source": [
    "s(Tx) = s1(Tx) + s2(Tx)/2\n",
    "\n",
    "so if we have two teams T_x1, T_x2, and we define the probability of T_x1 winning as p(T_x1, T_x2), we can say that:\n",
    "\n",
    "p(Tx1, Tx2) = s(Tx1)/s(Tx1)+s(Tx2)\n",
    "\n",
    "and \n",
    "\n",
    "p(Tx2, Tx1) = s(Tx2)/s(Tx)+s(Tx2)\n",
    "\n",
    "But this definition of probability doesn't allow us to draw. So we will rather say that the probability of drawing between two teams that never played a match is fixed, let's say at 0.10. Then we we say that\n",
    "\n",
    "p(Tx1, Tx2) = (s(Tx1)/s(Tx1)+s(Tx2)) - 0.05\n",
    "\n",
    "and \n",
    "\n",
    "p(Tx2, Tx1) = (s(Tx2)/s(Tx)+s(Tx2)) - 0.05\n",
    "\n",
    "and the probability of them drawing is :\n",
    "\n",
    "Pd(Tx1, Tx2) = 0.10"
   ]
  },
  {
   "cell_type": "markdown",
   "id": "a731931c-63c5-4084-8d16-1cb7df1e8078",
   "metadata": {},
   "source": [
    "1. Function to get score of a team"
   ]
  },
  {
   "cell_type": "code",
   "execution_count": 40,
   "id": "15fe7bcc-521f-4745-a50e-c3d589cc332e",
   "metadata": {},
   "outputs": [],
   "source": [
    "def find_score(team):\n",
    "    team_data, stats = select_team_statistics(team)\n",
    "    team_stage = team_data['Stage'].reset_index().drop('index',axis=1)\n",
    "    sum_groups = 0\n",
    "    sum_finals = 0\n",
    "    for s in range(len(team_stage)):\n",
    "        stage_val = team_stage.loc[s].values[0].split(' ')\n",
    "        if stage_val[0]=='Group':\n",
    "            sum_groups = sum_groups + 1\n",
    "        if stage_val[0]!='Group':\n",
    "            sum_finals = sum_finals + 1\n",
    "    \n",
    "    score_1 = sum_finals/(sum_groups+sum_finals)\n",
    "    try:\n",
    "        score_2 = 0.5*data_winner.value_counts(subset='Winner')[team]\n",
    "    except:\n",
    "        score_2=0\n",
    "    return score_1+score_2"
   ]
  },
  {
   "cell_type": "markdown",
   "id": "42e72096-42c3-42bb-acfd-9e593ec31fcb",
   "metadata": {},
   "source": [
    "2. Function to convert the scores of two teams into a probability"
   ]
  },
  {
   "cell_type": "code",
   "execution_count": 55,
   "id": "0e320099-25fa-4205-bd19-a2aeeeb32a58",
   "metadata": {},
   "outputs": [],
   "source": [
    "def find_score_two_teams(team_A,team_B):\n",
    "    if team_A == 'Qatar':\n",
    "        score_1 = 0.09\n",
    "        score_2 = find_score(team_B)\n",
    "    if team_B == 'Qatar':\n",
    "        score_2 = 0.09\n",
    "        score_1 = find_score(team_A)\n",
    "    if team_A!='Qatar' and team_B!='Qatar':\n",
    "        score_1 = find_score(team_A)\n",
    "        score_2 = find_score(team_B)\n",
    "    team_A_score = score_1/(score_1+score_2)\n",
    "    team_B_score = score_2/(score_1+score_2)\n",
    "    if team_A_score>team_B_score:\n",
    "        team_A_score = min(0.90,team_A_score)\n",
    "        team_B_score = max(0.10,team_B_score)\n",
    "    else:\n",
    "        team_B_score = min(0.90,team_B_score)\n",
    "        team_A_score = max(0.10,team_A_score)\n",
    "    team_A_score = team_A_score-0.05\n",
    "    team_B_score = team_B_score-0.05\n",
    "    res = {team_A: team_A_score, team_B:team_B_score, 'Draw':0.10}\n",
    "    return res"
   ]
  },
  {
   "cell_type": "markdown",
   "id": "1901581a-d166-4946-96a1-25b15224c71d",
   "metadata": {},
   "source": [
    "As we can see, the score of Qatar is 0.09. I got that from the first 0.25 quartile of all the score 1 distribution. This is reasonably(low) value for a team that never played in the world cup."
   ]
  },
  {
   "cell_type": "markdown",
   "id": "0c95b573-508f-4b44-aaf3-7cc9f50a6770",
   "metadata": {},
   "source": [
    "3. Function to extract the probabilities of the result between two teams in a match"
   ]
  },
  {
   "cell_type": "code",
   "execution_count": 58,
   "id": "dfc8280b-4dae-4700-a0bf-d5f7e3d352ad",
   "metadata": {},
   "outputs": [],
   "source": [
    "def select_match_statistics(team_A, team_B):\n",
    "    data_team = data_matches[(data_matches['Home Team Name']==team_A)& (data_matches['Away Team Name']==team_B)]\n",
    "    data_team = data_team.append(data_matches[(data_matches['Home Team Name']==team_B)& (data_matches['Away Team Name']==team_A)])\n",
    "    len_data = len(data_team)\n",
    "    if len_data==0:\n",
    "        #print('These teams never played against each other')\n",
    "        res = find_score_two_teams(team_A,team_B)\n",
    "    else:\n",
    "        #print('These teams played against each other %i times'%(len_data))\n",
    "        team_A_win = len(data_team[data_team.Result==team_A])/len_data\n",
    "        team_B_win = len(data_team[data_team.Result==team_B])/len_data\n",
    "        draw = len(data_team[data_team.Result=='Draw'])/len_data\n",
    "        res_list = [team_A_win,team_B_win,draw]\n",
    "        cond = 0\n",
    "        for i in range(len(res_list)):\n",
    "            if res_list[i]==1.0:\n",
    "                res_list[i] = 0.80\n",
    "                k=i\n",
    "                cond = 1\n",
    "                break\n",
    "        if cond==1:\n",
    "            for i in range(len(res_list)):\n",
    "                if i!=k:\n",
    "                    res_list[i]=0.10\n",
    "\n",
    "        res = {team_A:res_list[0],team_B:res_list[1],'Draw':res_list[2]}\n",
    "    return data_team,res"
   ]
  },
  {
   "cell_type": "code",
   "execution_count": 59,
   "id": "b899f370-fcf5-44f3-af6b-26d0faba6fc6",
   "metadata": {},
   "outputs": [
    {
     "data": {
      "text/plain": [
       "{'Saudi Arabia': 0.15000000000000002, 'Portugal': 0.75, 'Draw': 0.1}"
      ]
     },
     "execution_count": 59,
     "metadata": {},
     "output_type": "execute_result"
    }
   ],
   "source": [
    "_, stats_1 = select_match_statistics(\"Saudi Arabia\", \"Portugal\")\n",
    "stats_1"
   ]
  },
  {
   "cell_type": "code",
   "execution_count": 60,
   "id": "43169408-b580-446e-ab86-06b916ea7a8b",
   "metadata": {},
   "outputs": [
    {
     "data": {
      "text/plain": [
       "{'France': 0.8, 'Portugal': 0.1, 'Draw': 0.1}"
      ]
     },
     "execution_count": 60,
     "metadata": {},
     "output_type": "execute_result"
    }
   ],
   "source": [
    "_, stats_2 = select_match_statistics(\"France\",\"Portugal\")\n",
    "stats_2"
   ]
  },
  {
   "cell_type": "markdown",
   "id": "5d559108-085c-4158-b9f2-d69896ec8cf1",
   "metadata": {},
   "source": [
    "note - I also made sure that it is not possible that a team has a 100% of probability of winning against another by adding some(small) probability in losing and drawing"
   ]
  },
  {
   "cell_type": "markdown",
   "id": "d9a6a41b-3af9-4d74-b40c-7f7718bf1f50",
   "metadata": {},
   "source": [
    "# 3. The Fun!"
   ]
  },
  {
   "cell_type": "markdown",
   "id": "0a3f5367-e5a7-4214-85ad-66b536b29372",
   "metadata": {},
   "source": [
    "Now it is time to make our model run. We have to build the exact groups for the Qatar World Cup. We will make this group run, and a team will win, draw, or lose based on the probability we have built.\n",
    "\n",
    "Build the algorithmic elimination stage (first team of Group A vs. the second team of Group B, first team of Group B vs. the second team of Group A)."
   ]
  },
  {
   "cell_type": "code",
   "execution_count": 61,
   "id": "daaec96e-e47a-432d-bbc9-781ce8e714f1",
   "metadata": {},
   "outputs": [],
   "source": [
    "group_A = ['Qatar','Ecuador','Senegal','Netherlands']\n",
    "group_B = ['England','IR Iran','USA','Wales']\n",
    "group_C = ['Argentina','Saudi Arabia','Mexico','Poland']\n",
    "group_D = ['France','Australia','Denmark','Tunisia']\n",
    "group_E = ['Spain','Costa Rica','Germany','Japan']\n",
    "group_F = ['Belgium','Canada','Morocco','Croatia']\n",
    "group_G = ['Brazil','Serbia','Switzerland','Cameroon']\n",
    "group_H = ['Portugal','Ghana','Uruguay','Korea Republic']"
   ]
  },
  {
   "cell_type": "code",
   "execution_count": 62,
   "id": "4fbb6d78-a468-4b9d-bdb6-9ec13c60d73d",
   "metadata": {},
   "outputs": [
    {
     "data": {
      "text/plain": [
       "[['Qatar', 'Ecuador', 'Senegal', 'Netherlands'],\n",
       " ['England', 'IR Iran', 'USA', 'Wales'],\n",
       " ['Argentina', 'Saudi Arabia', 'Mexico', 'Poland'],\n",
       " ['France', 'Australia', 'Denmark', 'Tunisia'],\n",
       " ['Spain', 'Costa Rica', 'Germany', 'Japan'],\n",
       " ['Belgium', 'Canada', 'Morocco', 'Croatia'],\n",
       " ['Brazil', 'Serbia', 'Switzerland', 'Cameroon'],\n",
       " ['Portugal', 'Ghana', 'Uruguay', 'Korea Republic']]"
      ]
     },
     "execution_count": 62,
     "metadata": {},
     "output_type": "execute_result"
    }
   ],
   "source": [
    "groups = [group_A, group_B, group_C, group_D, group_E, group_F, group_G, group_H]\n",
    "groups"
   ]
  },
  {
   "cell_type": "code",
   "execution_count": 64,
   "id": "a35e360c-59bd-4e43-a14d-76fac46523ee",
   "metadata": {},
   "outputs": [
    {
     "name": "stdout",
     "output_type": "stream",
     "text": [
      "{'England': 0.85, 'IR Iran': 0.05, 'Draw': 0.1}\n",
      "{'England': 0.0, 'USA': 0.5, 'Draw': 0.5}\n",
      "{'England': 0.7480456026058632, 'Wales': 0.15195439739413685, 'Draw': 0.1}\n",
      "{'IR Iran': 0.05, 'England': 0.85, 'Draw': 0.1}\n",
      "{'IR Iran': 0.05, 'USA': 0.85, 'Draw': 0.1}\n",
      "{'IR Iran': 0.05, 'Wales': 0.85, 'Draw': 0.1}\n",
      "{'USA': 0.5, 'England': 0.0, 'Draw': 0.5}\n",
      "{'USA': 0.85, 'IR Iran': 0.05, 'Draw': 0.1}\n",
      "{'USA': 0.4905405405405406, 'Wales': 0.4094594594594595, 'Draw': 0.1}\n",
      "{'Wales': 0.15195439739413685, 'England': 0.7480456026058632, 'Draw': 0.1}\n",
      "{'Wales': 0.85, 'IR Iran': 0.05, 'Draw': 0.1}\n",
      "{'Wales': 0.4094594594594595, 'USA': 0.4905405405405406, 'Draw': 0.1}\n"
     ]
    }
   ],
   "source": [
    "# this is the probability of group B\n",
    "\n",
    "group_name = group_B\n",
    "for team_1 in group_name:\n",
    "    for team_2 in group_name:\n",
    "        if team_1 != team_2:\n",
    "            _, stats = select_match_statistics(team_1, team_2)\n",
    "            if sum(stats.values()) == 0:\n",
    "                print(stats)\n",
    "                print(\"How do we do that? :(\")\n",
    "            else:\n",
    "                print(stats)"
   ]
  },
  {
   "cell_type": "markdown",
   "id": "58f2be61-12cd-4bd4-9878-5b5e93579404",
   "metadata": {},
   "source": [
    "Based on these probablities, we run the simulation in the following way: This is for a given group:"
   ]
  },
  {
   "cell_type": "code",
   "execution_count": 69,
   "id": "bfecc89c-594a-4890-a41f-5ea4cdd6dabf",
   "metadata": {},
   "outputs": [],
   "source": [
    "def run_group(group_name):\n",
    "    data_res = pd.DataFrame(np.zeros(len(group_name)).T, index = group_name, columns = [\"Points\"])\n",
    "    for team_1 in group_name:\n",
    "        for team_2 in group_name:\n",
    "            if team_1 != team_2:\n",
    "                _, stats = select_match_statistics(team_1, team_2)\n",
    "                result = np.random.choice(list(stats.keys()),p = list(stats.values()))\n",
    "                try: \n",
    "                    data_res[\"Points\"].loc[result] = data_res[\"Points\"].loc[result] + 3\n",
    "                except:\n",
    "                    data_res[\"Points\"].loc[team_1] = data_res[\"Points\"].loc[team_1] + 1\n",
    "                    data_res[\"Points\"].loc[team_2] = data_res[\"Points\"].loc[team_2] + 1\n",
    "                    \n",
    "    return data_res.sort_values(by = \"Points\", ascending = False)\n",
    "    "
   ]
  },
  {
   "cell_type": "code",
   "execution_count": 73,
   "id": "b0b8c310-f491-4e7e-8caf-05879931b73d",
   "metadata": {},
   "outputs": [
    {
     "data": {
      "text/html": [
       "<div>\n",
       "<style scoped>\n",
       "    .dataframe tbody tr th:only-of-type {\n",
       "        vertical-align: middle;\n",
       "    }\n",
       "\n",
       "    .dataframe tbody tr th {\n",
       "        vertical-align: top;\n",
       "    }\n",
       "\n",
       "    .dataframe thead th {\n",
       "        text-align: right;\n",
       "    }\n",
       "</style>\n",
       "<table border=\"1\" class=\"dataframe\">\n",
       "  <thead>\n",
       "    <tr style=\"text-align: right;\">\n",
       "      <th></th>\n",
       "      <th>Points</th>\n",
       "    </tr>\n",
       "  </thead>\n",
       "  <tbody>\n",
       "    <tr>\n",
       "      <th>Netherlands</th>\n",
       "      <td>16.0</td>\n",
       "    </tr>\n",
       "    <tr>\n",
       "      <th>Senegal</th>\n",
       "      <td>12.0</td>\n",
       "    </tr>\n",
       "    <tr>\n",
       "      <th>Ecuador</th>\n",
       "      <td>5.0</td>\n",
       "    </tr>\n",
       "    <tr>\n",
       "      <th>Qatar</th>\n",
       "      <td>1.0</td>\n",
       "    </tr>\n",
       "  </tbody>\n",
       "</table>\n",
       "</div>"
      ],
      "text/plain": [
       "             Points\n",
       "Netherlands    16.0\n",
       "Senegal        12.0\n",
       "Ecuador         5.0\n",
       "Qatar           1.0"
      ]
     },
     "execution_count": 73,
     "metadata": {},
     "output_type": "execute_result"
    }
   ],
   "source": [
    "run_group(group_A)"
   ]
  },
  {
   "cell_type": "code",
   "execution_count": 80,
   "id": "f0ee165a-f029-4888-9ab3-c9437edb20ff",
   "metadata": {},
   "outputs": [],
   "source": [
    "group_names = ['group A','group B','group C','group D','group E','group F','group G','group H']\n",
    "def run_groups():\n",
    "    group_list =[]\n",
    "    for g in range(len(groups)):\n",
    "        g_group = run_group(groups[g])\n",
    "        g_group = g_group.rename(columns={'Points':'Points '+group_names[g]})\n",
    "        group_list.append(g_group)\n",
    "    return group_list\n",
    "    "
   ]
  },
  {
   "cell_type": "code",
   "execution_count": 100,
   "id": "58f2bb93-3729-44cc-9809-6e17acdd08fe",
   "metadata": {},
   "outputs": [],
   "source": [
    "group_list = run_groups()"
   ]
  },
  {
   "cell_type": "code",
   "execution_count": 101,
   "id": "fc069c7f-2c7f-4d39-8447-e49a485c2c1e",
   "metadata": {},
   "outputs": [
    {
     "data": {
      "text/html": [
       "<div>\n",
       "<style scoped>\n",
       "    .dataframe tbody tr th:only-of-type {\n",
       "        vertical-align: middle;\n",
       "    }\n",
       "\n",
       "    .dataframe tbody tr th {\n",
       "        vertical-align: top;\n",
       "    }\n",
       "\n",
       "    .dataframe thead th {\n",
       "        text-align: right;\n",
       "    }\n",
       "</style>\n",
       "<table border=\"1\" class=\"dataframe\">\n",
       "  <thead>\n",
       "    <tr style=\"text-align: right;\">\n",
       "      <th></th>\n",
       "      <th>Points group A</th>\n",
       "    </tr>\n",
       "  </thead>\n",
       "  <tbody>\n",
       "    <tr>\n",
       "      <th>Netherlands</th>\n",
       "      <td>16.0</td>\n",
       "    </tr>\n",
       "    <tr>\n",
       "      <th>Senegal</th>\n",
       "      <td>13.0</td>\n",
       "    </tr>\n",
       "    <tr>\n",
       "      <th>Qatar</th>\n",
       "      <td>3.0</td>\n",
       "    </tr>\n",
       "    <tr>\n",
       "      <th>Ecuador</th>\n",
       "      <td>3.0</td>\n",
       "    </tr>\n",
       "  </tbody>\n",
       "</table>\n",
       "</div>"
      ],
      "text/plain": [
       "             Points group A\n",
       "Netherlands            16.0\n",
       "Senegal                13.0\n",
       "Qatar                   3.0\n",
       "Ecuador                 3.0"
      ]
     },
     "execution_count": 101,
     "metadata": {},
     "output_type": "execute_result"
    }
   ],
   "source": [
    "group_list[0]"
   ]
  },
  {
   "cell_type": "code",
   "execution_count": 102,
   "id": "2a699ef6-bdb2-4d2e-abe6-aa9b8b319e56",
   "metadata": {},
   "outputs": [
    {
     "data": {
      "text/plain": [
       "[             Points group A\n",
       " Netherlands            16.0\n",
       " Senegal                13.0\n",
       " Qatar                   3.0\n",
       " Ecuador                 3.0,\n",
       "          Points group B\n",
       " USA                14.0\n",
       " England            12.0\n",
       " Wales               6.0\n",
       " IR Iran             1.0,\n",
       "               Points group C\n",
       " Argentina               15.0\n",
       " Poland                  12.0\n",
       " Mexico                   6.0\n",
       " Saudi Arabia             3.0,\n",
       "            Points group D\n",
       " France               12.0\n",
       " Denmark              12.0\n",
       " Australia             9.0\n",
       " Tunisia               3.0,\n",
       "             Points group E\n",
       " Spain                 16.0\n",
       " Germany                9.0\n",
       " Costa Rica             5.0\n",
       " Japan                  2.0,\n",
       "          Points group F\n",
       " Belgium            11.0\n",
       " Morocco            11.0\n",
       " Croatia            11.0\n",
       " Canada              0.0,\n",
       "              Points group G\n",
       " Brazil                 14.0\n",
       " Switzerland            14.0\n",
       " Cameroon                6.0\n",
       " Serbia                  0.0,\n",
       "                 Points group H\n",
       " Uruguay                   11.0\n",
       " Korea Republic            10.0\n",
       " Portugal                   6.0\n",
       " Ghana                      6.0]"
      ]
     },
     "execution_count": 102,
     "metadata": {},
     "output_type": "execute_result"
    }
   ],
   "source": [
    "group_list"
   ]
  },
  {
   "cell_type": "markdown",
   "id": "2ce40a97-f9cd-4517-94f4-ea2e91beda12",
   "metadata": {},
   "source": [
    "From the groups, this is eliminatory stage:"
   ]
  },
  {
   "cell_type": "code",
   "execution_count": 105,
   "id": "6d75d222-c834-4471-b594-267cb7f717fb",
   "metadata": {},
   "outputs": [],
   "source": [
    "def find_qualification_stage(res_groups):\n",
    "    qual_matches = []\n",
    "    group_stage = np.arange(0,len(groups),2)\n",
    "    k = 0\n",
    "    for g in range(len(group_stage)):\n",
    "        qual_matches.append([res_groups[k].index[0],res_groups[k+1].index[1]])\n",
    "        qual_matches.append([res_groups[k].index[1],res_groups[k+1].index[0]])\n",
    "        k = k+2\n",
    "    return qual_matches"
   ]
  },
  {
   "cell_type": "code",
   "execution_count": 106,
   "id": "bcfc80d7-429b-451d-93ef-1a2d5e5d71b2",
   "metadata": {},
   "outputs": [
    {
     "data": {
      "text/plain": [
       "[['Netherlands', 'England'],\n",
       " ['Senegal', 'USA'],\n",
       " ['Argentina', 'Denmark'],\n",
       " ['Poland', 'France'],\n",
       " ['Spain', 'Morocco'],\n",
       " ['Germany', 'Belgium'],\n",
       " ['Brazil', 'Korea Republic'],\n",
       " ['Switzerland', 'Uruguay']]"
      ]
     },
     "execution_count": 106,
     "metadata": {},
     "output_type": "execute_result"
    }
   ],
   "source": [
    "find_qualification_stage(group_list)"
   ]
  },
  {
   "cell_type": "code",
   "execution_count": 107,
   "id": "d232fb33-f57b-4a78-bc5a-5344eddfdab3",
   "metadata": {},
   "outputs": [],
   "source": [
    "selections = find_qualification_stage(group_list)"
   ]
  },
  {
   "cell_type": "code",
   "execution_count": 123,
   "id": "53743e68-48c8-4d03-9f69-e6199a0081a0",
   "metadata": {},
   "outputs": [],
   "source": [
    "def elimination_stage(selections,k=1):\n",
    "    quarter_finals_team = []\n",
    "    for i in range(len(selections)):\n",
    "        team_1 = selections[i][0]\n",
    "        team_2 = selections[i][1]\n",
    "        _,stats = select_match_statistics(team_1,team_2)\n",
    "        result = np.random.choice(list(stats.keys()),p=list(stats.values()))    \n",
    "        if result=='Draw':\n",
    "            result = np.random.choice([team_1,team_2],p=[0.5,0.5])\n",
    "        quarter_finals_team.append(result)\n",
    "    if k ==1: \n",
    "        quarter_finals_team=np.array(quarter_finals_team).reshape(2,-1)\n",
    "    return quarter_finals_team"
   ]
  },
  {
   "cell_type": "code",
   "execution_count": 124,
   "id": "2f155e3a-578a-4a23-b7fa-1e9d6f946316",
   "metadata": {},
   "outputs": [
    {
     "data": {
      "text/plain": [
       "array([['England', 'USA', 'Argentina', 'Poland'],\n",
       "       ['Spain', 'Belgium', 'Brazil', 'Uruguay']], dtype='<U9')"
      ]
     },
     "execution_count": 124,
     "metadata": {},
     "output_type": "execute_result"
    }
   ],
   "source": [
    "elimination_stage(selections)"
   ]
  },
  {
   "cell_type": "code",
   "execution_count": 133,
   "id": "5d0c3bb0-6cc7-425b-8ec5-21352a1d4626",
   "metadata": {},
   "outputs": [],
   "source": [
    "# this is for whole tournament simulation\n",
    "\n",
    "def whole_tournament():\n",
    "    group_stage = run_groups()\n",
    "    first_selection = find_qualification_stage(group_stage)\n",
    "    quater_finals = elimination_stage(first_selection)\n",
    "    semi_finals = elimination_stage(quater_finals,k = 0)\n",
    "    _, stats = select_match_statistics(semi_finals[0],semi_finals[1])\n",
    "    winner = np.random.choice(list(stats.keys()),p = list(stats.values()))\n",
    "    if winner == \"Draw\":\n",
    "        winner = np.random.choice([semi_finals[0],semi_finals[1]],p = [0.5,0.5])\n",
    "        \n",
    "    return winner"
   ]
  },
  {
   "cell_type": "markdown",
   "id": "0deb28de-e3c7-48d6-b04f-9cb8c78131be",
   "metadata": {},
   "source": [
    "Example of whole tournament simulation"
   ]
  },
  {
   "cell_type": "code",
   "execution_count": 134,
   "id": "5f3f62e4-29d8-4ed0-9415-97b3ff34d9c0",
   "metadata": {},
   "outputs": [
    {
     "name": "stdout",
     "output_type": "stream",
     "text": [
      "[['Senegal', 'England'], ['Netherlands', 'USA'], ['Argentina', 'Denmark'], ['Poland', 'France'], ['Spain', 'Belgium'], ['Costa Rica', 'Croatia'], ['Brazil', 'Ghana'], ['Switzerland', 'Korea Republic']]\n",
      "[['England' 'Netherlands' 'Argentina' 'Poland']\n",
      " ['Spain' 'Costa Rica' 'Brazil' 'Switzerland']]\n",
      "['Netherlands', 'Costa Rica']\n",
      "Costa Rica\n"
     ]
    }
   ],
   "source": [
    "group_stage = run_groups()\n",
    "first_selection = find_qualification_stage(group_stage)\n",
    "print(first_selection)\n",
    "quater_finals = elimination_stage(first_selection)\n",
    "print(quater_finals)\n",
    "semi_finals = elimination_stage(quater_finals, k = 0)\n",
    "print(semi_finals)\n",
    "\n",
    "_, stats = select_match_statistics(semi_finals[0],semi_finals[1])\n",
    "winner = np.random.choice(list(stats.keys()),p=list(stats.values()))\n",
    "print(winner)\n",
    "\n",
    "if winner == \"Draw\":\n",
    "    winner = np.random.choice([semi_finals[0],semi_finals[1]],p = [0.5,0.5])\n",
    "    print(winner)"
   ]
  },
  {
   "cell_type": "markdown",
   "id": "b34e5c12-3e41-423b-b272-58bda8865935",
   "metadata": {},
   "source": [
    "and we run this for 10000 times"
   ]
  },
  {
   "cell_type": "code",
   "execution_count": 136,
   "id": "eba8728b-b027-4ce3-a1b8-600622b7b7e1",
   "metadata": {},
   "outputs": [
    {
     "name": "stdout",
     "output_type": "stream",
     "text": [
      "Running Simulation number 100\n",
      "Most predicted winner so far is Spain\n",
      "Running Simulation number 200\n",
      "Most predicted winner so far is Spain\n",
      "Running Simulation number 300\n",
      "Most predicted winner so far is Spain\n",
      "Running Simulation number 400\n",
      "Most predicted winner so far is Spain\n",
      "Running Simulation number 500\n",
      "Most predicted winner so far is Spain\n",
      "Running Simulation number 600\n",
      "Most predicted winner so far is Spain\n",
      "Running Simulation number 700\n",
      "Most predicted winner so far is Spain\n",
      "Running Simulation number 800\n",
      "Most predicted winner so far is Spain\n",
      "Running Simulation number 900\n",
      "Most predicted winner so far is Spain\n"
     ]
    }
   ],
   "source": [
    "# running the simulation for 1000 times as it too expensive to run\n",
    "\n",
    "stats = []\n",
    "for i in range(1000):\n",
    "    if (i%100)==0 and i>0:\n",
    "        print('Running Simulation number %i' %(i))\n",
    "        so_far = pd.DataFrame(stats).value_counts().index[0][0]\n",
    "        print('Most predicted winner so far is %s'%(so_far))\n",
    "    winner = whole_tournament()\n",
    "    stats.append(winner)"
   ]
  },
  {
   "cell_type": "code",
   "execution_count": 137,
   "id": "711aae84-44bb-4e9d-a8f7-ec4a70517450",
   "metadata": {},
   "outputs": [
    {
     "data": {
      "text/plain": [
       "<AxesSubplot:>"
      ]
     },
     "execution_count": 137,
     "metadata": {},
     "output_type": "execute_result"
    },
    {
     "data": {
      "image/png": "[encoded data removed]",
      "text/plain": [
       "<Figure size 864x720 with 1 Axes>"
      ]
     },
     "metadata": {},
     "output_type": "display_data"
    }
   ],
   "source": [
    "# following are the winner statistics\n",
    "pd.DataFrame(stats)[0].value_counts().plot(kind=\"bar\") "
   ]
  },
  {
   "cell_type": "markdown",
   "id": "d0cd8ef0-d57c-419a-9377-92087f046c76",
   "metadata": {},
   "source": [
    "Some of them are surprising (Senegal, Costa Rica, Ecuador…, Brazil and Argentina not included), some of them are pretty reliable (Spain, Germany, England)\n",
    "\n",
    "We can slightly alter the function to determine the winner and runner-up."
   ]
  },
  {
   "cell_type": "code",
   "execution_count": 138,
   "id": "add6f18c-75f8-47bf-beef-7fa13557f296",
   "metadata": {},
   "outputs": [],
   "source": [
    "def whole_tournament():\n",
    "    group_stage = run_groups()\n",
    "    first_selection = find_qualification_stage(group_stage)\n",
    "    quarter_finals = elimination_stage(first_selection)\n",
    "    semi_finals = elimination_stage(quarter_finals,k=0)\n",
    "    _,stats = select_match_statistics(semi_finals[0],semi_finals[1])\n",
    "    winner = np.random.choice(list(stats.keys()),p=list(stats.values())) \n",
    "    if winner=='Draw':\n",
    "        winner = np.random.choice([semi_finals[0],semi_finals[1]],p=[0.5,0.5])\n",
    "    second = [s for s in semi_finals if s!=winner]\n",
    "    return winner,second[0]"
   ]
  },
  {
   "cell_type": "code",
   "execution_count": 146,
   "id": "dbe7c780-db46-48bd-9fc8-6375fc5f85de",
   "metadata": {},
   "outputs": [
    {
     "name": "stdout",
     "output_type": "stream",
     "text": [
      "Running Simulation number 10\n",
      "Running Simulation number 20\n",
      "Running Simulation number 30\n",
      "Running Simulation number 40\n",
      "Running Simulation number 50\n",
      "Running Simulation number 60\n",
      "Running Simulation number 70\n",
      "Running Simulation number 80\n",
      "Running Simulation number 90\n",
      "Running Simulation number 100\n"
     ]
    }
   ],
   "source": [
    "stats = []\n",
    "for i in range(101): # originally 10000\n",
    "    if (i%10)==0 and i>0: # 100 instead of 10\n",
    "        print('Running Simulation number %i' %(i))\n",
    "    winner = whole_tournament()\n",
    "    stats.append(winner)"
   ]
  },
  {
   "cell_type": "code",
   "execution_count": 147,
   "id": "f92c4947-3f4a-43d6-ad15-fe7e3cfd4d38",
   "metadata": {},
   "outputs": [],
   "source": [
    "stats = np.array(stats)"
   ]
  },
  {
   "cell_type": "code",
   "execution_count": 148,
   "id": "7794326a-94ee-4af9-9a10-d3556ef92821",
   "metadata": {},
   "outputs": [],
   "source": [
    "stats_old = stats.copy()"
   ]
  },
  {
   "cell_type": "code",
   "execution_count": 149,
   "id": "ebef4876-63c2-468c-ba03-608dfa1b91a0",
   "metadata": {},
   "outputs": [
    {
     "data": {
      "text/plain": [
       "<AxesSubplot:title={'center':'Winner Statistics'}>"
      ]
     },
     "execution_count": 149,
     "metadata": {},
     "output_type": "execute_result"
    },
    {
     "data": {
      "image/png": "[encoded data removed]",
      "text/plain": [
       "<Figure size 720x720 with 1 Axes>"
      ]
     },
     "metadata": {},
     "output_type": "display_data"
    }
   ],
   "source": [
    "plt.figure(figsize=(10,10))\n",
    "plt.title('Winner Statistics',fontsize=20)\n",
    "pd.DataFrame(stats[:,0])[0].value_counts().plot(kind=\"bar\")"
   ]
  },
  {
   "cell_type": "code",
   "execution_count": 150,
   "id": "7d845eeb-ad03-46c7-8c2a-9d91412c335f",
   "metadata": {},
   "outputs": [
    {
     "data": {
      "text/plain": [
       "<AxesSubplot:title={'center':'Second Team Statistics'}>"
      ]
     },
     "execution_count": 150,
     "metadata": {},
     "output_type": "execute_result"
    },
    {
     "data": {
      "image/png": "[encoded data removed]",
      "text/plain": [
       "<Figure size 720x720 with 1 Axes>"
      ]
     },
     "metadata": {},
     "output_type": "display_data"
    }
   ],
   "source": [
    "plt.figure(figsize=(10,10))\n",
    "plt.title('Second Team Statistics',fontsize=20)\n",
    "pd.DataFrame(stats[:,1])[0].value_counts().plot(kind=\"bar\")"
   ]
  },
  {
   "cell_type": "markdown",
   "id": "92c89f11-bc65-4927-bb13-cf47b96becb6",
   "metadata": {},
   "source": [
    "This is actually pretty exciting, and we can conclude a lot of things. The Netherlands, for example, plays a lot in the finals, as does England. Nonetheless, Spain has far more finals victories than either team. We can go on and keep analyzing. Iran, for example, reached the final (at least once), but never won."
   ]
  },
  {
   "cell_type": "markdown",
   "id": "5f9eb298-47d1-49c8-8f6a-be01fea79b17",
   "metadata": {},
   "source": [
    "# 4.Considerations"
   ]
  },
  {
   "cell_type": "markdown",
   "id": "d867ad65-d853-44f4-b015-248aa1ba049f",
   "metadata": {},
   "source": [
    "In this notebook, we simulated the next World Cup winner. We actually simulated the whole tournament, and we extracted the winner and the second team.\n",
    "\n",
    "We did that by doing the following:\n",
    "\n",
    "1. Extracting the statistics of the teams\n",
    "2. Building a score system for the teams with less to none record of playing against each other\n",
    "3. Building the algorithm of selections of the groups and eliminatory stage\n",
    "4. Run the simulation multiple times.\n",
    "5. Extract the results.\n",
    "\n",
    "There is a lot of room for improvement. For example, we can consider the actual quality of the teams, considering their players, their coach, and their form.\n"
   ]
  },
  {
   "cell_type": "code",
   "execution_count": null,
   "id": "2181259e-d94f-43b4-b247-268fe0ae65e8",
   "metadata": {},
   "outputs": [],
   "source": []
  }
 ],
 "metadata": {
  "kernelspec": {
   "display_name": "Python 3 (ipykernel)",
   "language": "python",
   "name": "python3"
  },
  "language_info": {
   "codemirror_mode": {
    "name": "ipython",
    "version": 3
   },
   "file_extension": ".py",
   "mimetype": "text/x-python",
   "name": "python",
   "nbconvert_exporter": "python",
   "pygments_lexer": "ipython3",
   "version": "3.8.13"
  }
 },
 "nbformat": 4,
 "nbformat_minor": 5
}
