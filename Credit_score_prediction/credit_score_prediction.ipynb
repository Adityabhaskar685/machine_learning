{
 "cells": [
  {
   "cell_type": "code",
   "execution_count": 2,
   "metadata": {
    "_cell_guid": "b1076dfc-b9ad-4769-8c92-a6c4dae69d19",
    "_uuid": "8f2839f25d086af736a60e9eeb907d3b93b6e0e5",
    "execution": {
     "iopub.execute_input": "2022-10-30T16:12:45.328932Z",
     "iopub.status.busy": "2022-10-30T16:12:45.328556Z",
     "iopub.status.idle": "2022-10-30T16:12:45.362353Z",
     "shell.execute_reply": "2022-10-30T16:12:45.361473Z",
     "shell.execute_reply.started": "2022-10-30T16:12:45.328903Z"
    }
   },
   "outputs": [
    {
     "name": "stdout",
     "output_type": "stream",
     "text": [
      "/kaggle/input/prediction/clean_credit_score_classification.csv\n",
      "/kaggle/input/credit-score-prediction/train.csv\n",
      "/kaggle/input/credit-score-prediction/test.csv\n"
     ]
    }
   ],
   "source": [
    "# This Python 3 environment comes with many helpful analytics libraries installed\n",
    "# It is defined by the kaggle/python Docker image: https://github.com/kaggle/docker-python\n",
    "# For example, here's several helpful packages to load\n",
    "\n",
    "import numpy as np # linear algebra\n",
    "import pandas as pd # data processing, CSV file I/O (e.g. pd.read_csv)\n",
    "\n",
    "# Input data files are available in the read-only \"../input/\" directory\n",
    "# For example, running this (by clicking run or pressing Shift+Enter) will list all files under the input directory\n",
    "\n",
    "import os\n",
    "for dirname, _, filenames in os.walk('/kaggle/input'):\n",
    "    for filename in filenames:\n",
    "        print(os.path.join(dirname, filename))\n",
    "\n",
    "# You can write up to 20GB to the current directory (/kaggle/working/) that gets preserved as output when you create a version using \"Save & Run All\" \n",
    "# You can also write temporary files to /kaggle/temp/, but they won't be saved outside of the current session"
   ]
  },
  {
   "cell_type": "code",
   "execution_count": 3,
   "metadata": {
    "execution": {
     "iopub.execute_input": "2022-10-30T16:12:45.364659Z",
     "iopub.status.busy": "2022-10-30T16:12:45.364031Z",
     "iopub.status.idle": "2022-10-30T16:12:45.896052Z",
     "shell.execute_reply": "2022-10-30T16:12:45.895099Z",
     "shell.execute_reply.started": "2022-10-30T16:12:45.364622Z"
    }
   },
   "outputs": [],
   "source": [
    "# import the libraries\n",
    "import seaborn as sns\n",
    "import matplotlib.pyplot as plt\n",
    "sns.set_style(\"whitegrid\", {\"axes.grid\": False})\n",
    "\n",
    "# Enviroment setting:\n",
    "pd.set_option('display.float_format', lambda x:f'{x:.3f}')\n",
    "\n",
    "import warnings\n",
    "warnings.filterwarnings(\"ignore\")\n",
    "warnings.warn(\"this will not show\")\n",
    "\n",
    "# statitics functions\n",
    "from scipy import stats\n",
    "\n",
    "# machine leaning libraries\n",
    "from sklearn.model_selection import train_test_split\n",
    "from sklearn.preprocessing import OneHotEncoder, OrdinalEncoder, LabelEncoder\n",
    "from sklearn.preprocessing import StandardScaler, MinMaxScaler, RobustScaler\n",
    "from sklearn.pipeline import Pipeline\n",
    "\n",
    "# supervised classifier\n",
    "from sklearn.linear_model import LogisticRegression\n",
    "from sklearn.svm import LinearSVC, SVC\n",
    "from sklearn.ensemble import BaggingClassifier, RandomForestClassifier\n",
    "\n",
    "from xgboost import XGBClassifier\n",
    "\n",
    "# supervised classifer metrics\n",
    "from sklearn.metrics import make_scorer, accuracy_score,recall_score, precision_score, f1_score, log_loss\n",
    "from sklearn.metrics import classification_report, plot_confusion_matrix,confusion_matrix\n",
    "from sklearn.metrics import plot_roc_curve, roc_curve, roc_auc_score, auc\n",
    "from sklearn.metrics import plot_precision_recall_curve, precision_recall_curve, average_precision_score\n",
    "\n",
    "# supvised-cross-validate-GridSearchCV\n",
    "\n",
    "from sklearn.model_selection import cross_validate, cross_val_score\n",
    "from sklearn.model_selection import KFold\n",
    "from sklearn.model_selection import GridSearchCV\n",
    "\n",
    "random_state = 42\n",
    "\n"
   ]
  },
  {
   "cell_type": "code",
   "execution_count": 4,
   "metadata": {
    "execution": {
     "iopub.execute_input": "2022-10-30T16:12:45.897772Z",
     "iopub.status.busy": "2022-10-30T16:12:45.897434Z",
     "iopub.status.idle": "2022-10-30T16:12:47.208363Z",
     "shell.execute_reply": "2022-10-30T16:12:47.207171Z",
     "shell.execute_reply.started": "2022-10-30T16:12:45.897741Z"
    }
   },
   "outputs": [
    {
     "data": {
      "text/html": [
       "<div>\n",
       "<style scoped>\n",
       "    .dataframe tbody tr th:only-of-type {\n",
       "        vertical-align: middle;\n",
       "    }\n",
       "\n",
       "    .dataframe tbody tr th {\n",
       "        vertical-align: top;\n",
       "    }\n",
       "\n",
       "    .dataframe thead th {\n",
       "        text-align: right;\n",
       "    }\n",
       "</style>\n",
       "<table border=\"1\" class=\"dataframe\">\n",
       "  <thead>\n",
       "    <tr style=\"text-align: right;\">\n",
       "      <th></th>\n",
       "      <th>ID</th>\n",
       "      <th>Customer_ID</th>\n",
       "      <th>Month</th>\n",
       "      <th>Name</th>\n",
       "      <th>Age</th>\n",
       "      <th>SSN</th>\n",
       "      <th>Occupation</th>\n",
       "      <th>Annual_Income</th>\n",
       "      <th>Monthly_Inhand_Salary</th>\n",
       "      <th>Num_Bank_Accounts</th>\n",
       "      <th>...</th>\n",
       "      <th>Credit_Mix</th>\n",
       "      <th>Outstanding_Debt</th>\n",
       "      <th>Credit_Utilization_Ratio</th>\n",
       "      <th>Credit_History_Age</th>\n",
       "      <th>Payment_of_Min_Amount</th>\n",
       "      <th>Total_EMI_per_month</th>\n",
       "      <th>Amount_invested_monthly</th>\n",
       "      <th>Payment_Behaviour</th>\n",
       "      <th>Monthly_Balance</th>\n",
       "      <th>Credit_Score</th>\n",
       "    </tr>\n",
       "  </thead>\n",
       "  <tbody>\n",
       "    <tr>\n",
       "      <th>0</th>\n",
       "      <td>5634</td>\n",
       "      <td>3392</td>\n",
       "      <td>1</td>\n",
       "      <td>Aaron Maashoh</td>\n",
       "      <td>23.000</td>\n",
       "      <td>821000265.000</td>\n",
       "      <td>Scientist</td>\n",
       "      <td>19114.120</td>\n",
       "      <td>1824.843</td>\n",
       "      <td>3.000</td>\n",
       "      <td>...</td>\n",
       "      <td>Good</td>\n",
       "      <td>809.980</td>\n",
       "      <td>26.823</td>\n",
       "      <td>265.000</td>\n",
       "      <td>No</td>\n",
       "      <td>49.575</td>\n",
       "      <td>80.415</td>\n",
       "      <td>High_spent_Small_value_payments</td>\n",
       "      <td>312.494</td>\n",
       "      <td>Good</td>\n",
       "    </tr>\n",
       "    <tr>\n",
       "      <th>1</th>\n",
       "      <td>5635</td>\n",
       "      <td>3392</td>\n",
       "      <td>2</td>\n",
       "      <td>Aaron Maashoh</td>\n",
       "      <td>23.000</td>\n",
       "      <td>821000265.000</td>\n",
       "      <td>Scientist</td>\n",
       "      <td>19114.120</td>\n",
       "      <td>1824.843</td>\n",
       "      <td>3.000</td>\n",
       "      <td>...</td>\n",
       "      <td>Good</td>\n",
       "      <td>809.980</td>\n",
       "      <td>31.945</td>\n",
       "      <td>265.000</td>\n",
       "      <td>No</td>\n",
       "      <td>49.575</td>\n",
       "      <td>118.280</td>\n",
       "      <td>Low_spent_Large_value_payments</td>\n",
       "      <td>284.629</td>\n",
       "      <td>Good</td>\n",
       "    </tr>\n",
       "    <tr>\n",
       "      <th>2</th>\n",
       "      <td>5636</td>\n",
       "      <td>3392</td>\n",
       "      <td>3</td>\n",
       "      <td>Aaron Maashoh</td>\n",
       "      <td>23.000</td>\n",
       "      <td>821000265.000</td>\n",
       "      <td>Scientist</td>\n",
       "      <td>19114.120</td>\n",
       "      <td>1824.843</td>\n",
       "      <td>3.000</td>\n",
       "      <td>...</td>\n",
       "      <td>Good</td>\n",
       "      <td>809.980</td>\n",
       "      <td>28.609</td>\n",
       "      <td>267.000</td>\n",
       "      <td>No</td>\n",
       "      <td>49.575</td>\n",
       "      <td>81.700</td>\n",
       "      <td>Low_spent_Medium_value_payments</td>\n",
       "      <td>331.210</td>\n",
       "      <td>Good</td>\n",
       "    </tr>\n",
       "    <tr>\n",
       "      <th>3</th>\n",
       "      <td>5637</td>\n",
       "      <td>3392</td>\n",
       "      <td>4</td>\n",
       "      <td>Aaron Maashoh</td>\n",
       "      <td>23.000</td>\n",
       "      <td>821000265.000</td>\n",
       "      <td>Scientist</td>\n",
       "      <td>19114.120</td>\n",
       "      <td>1824.843</td>\n",
       "      <td>3.000</td>\n",
       "      <td>...</td>\n",
       "      <td>Good</td>\n",
       "      <td>809.980</td>\n",
       "      <td>31.378</td>\n",
       "      <td>268.000</td>\n",
       "      <td>No</td>\n",
       "      <td>49.575</td>\n",
       "      <td>199.458</td>\n",
       "      <td>Low_spent_Small_value_payments</td>\n",
       "      <td>223.451</td>\n",
       "      <td>Good</td>\n",
       "    </tr>\n",
       "    <tr>\n",
       "      <th>4</th>\n",
       "      <td>5638</td>\n",
       "      <td>3392</td>\n",
       "      <td>5</td>\n",
       "      <td>Aaron Maashoh</td>\n",
       "      <td>23.000</td>\n",
       "      <td>821000265.000</td>\n",
       "      <td>Scientist</td>\n",
       "      <td>19114.120</td>\n",
       "      <td>1824.843</td>\n",
       "      <td>3.000</td>\n",
       "      <td>...</td>\n",
       "      <td>Good</td>\n",
       "      <td>809.980</td>\n",
       "      <td>24.797</td>\n",
       "      <td>269.000</td>\n",
       "      <td>No</td>\n",
       "      <td>49.575</td>\n",
       "      <td>41.420</td>\n",
       "      <td>High_spent_Medium_value_payments</td>\n",
       "      <td>341.489</td>\n",
       "      <td>Good</td>\n",
       "    </tr>\n",
       "  </tbody>\n",
       "</table>\n",
       "<p>5 rows × 28 columns</p>\n",
       "</div>"
      ],
      "text/plain": [
       "     ID  Customer_ID  Month           Name    Age           SSN Occupation  \\\n",
       "0  5634         3392      1  Aaron Maashoh 23.000 821000265.000  Scientist   \n",
       "1  5635         3392      2  Aaron Maashoh 23.000 821000265.000  Scientist   \n",
       "2  5636         3392      3  Aaron Maashoh 23.000 821000265.000  Scientist   \n",
       "3  5637         3392      4  Aaron Maashoh 23.000 821000265.000  Scientist   \n",
       "4  5638         3392      5  Aaron Maashoh 23.000 821000265.000  Scientist   \n",
       "\n",
       "   Annual_Income  Monthly_Inhand_Salary  Num_Bank_Accounts  ...  Credit_Mix  \\\n",
       "0      19114.120               1824.843              3.000  ...        Good   \n",
       "1      19114.120               1824.843              3.000  ...        Good   \n",
       "2      19114.120               1824.843              3.000  ...        Good   \n",
       "3      19114.120               1824.843              3.000  ...        Good   \n",
       "4      19114.120               1824.843              3.000  ...        Good   \n",
       "\n",
       "   Outstanding_Debt  Credit_Utilization_Ratio Credit_History_Age  \\\n",
       "0           809.980                    26.823            265.000   \n",
       "1           809.980                    31.945            265.000   \n",
       "2           809.980                    28.609            267.000   \n",
       "3           809.980                    31.378            268.000   \n",
       "4           809.980                    24.797            269.000   \n",
       "\n",
       "   Payment_of_Min_Amount  Total_EMI_per_month  Amount_invested_monthly  \\\n",
       "0                     No               49.575                   80.415   \n",
       "1                     No               49.575                  118.280   \n",
       "2                     No               49.575                   81.700   \n",
       "3                     No               49.575                  199.458   \n",
       "4                     No               49.575                   41.420   \n",
       "\n",
       "                  Payment_Behaviour Monthly_Balance  Credit_Score  \n",
       "0   High_spent_Small_value_payments         312.494          Good  \n",
       "1    Low_spent_Large_value_payments         284.629          Good  \n",
       "2   Low_spent_Medium_value_payments         331.210          Good  \n",
       "3    Low_spent_Small_value_payments         223.451          Good  \n",
       "4  High_spent_Medium_value_payments         341.489          Good  \n",
       "\n",
       "[5 rows x 28 columns]"
      ]
     },
     "execution_count": 4,
     "metadata": {},
     "output_type": "execute_result"
    }
   ],
   "source": [
    "import pandas as pd\n",
    "df = pd.read_csv(\"/kaggle/input/prediction/clean_credit_score_classification.csv\")\n",
    "df.head()\n"
   ]
  },
  {
   "cell_type": "code",
   "execution_count": 5,
   "metadata": {
    "execution": {
     "iopub.execute_input": "2022-10-30T16:12:47.211457Z",
     "iopub.status.busy": "2022-10-30T16:12:47.211104Z",
     "iopub.status.idle": "2022-10-30T16:12:47.688364Z",
     "shell.execute_reply": "2022-10-30T16:12:47.687216Z",
     "shell.execute_reply.started": "2022-10-30T16:12:47.211426Z"
    }
   },
   "outputs": [
    {
     "data": {
      "text/html": [
       "<div>\n",
       "<style scoped>\n",
       "    .dataframe tbody tr th:only-of-type {\n",
       "        vertical-align: middle;\n",
       "    }\n",
       "\n",
       "    .dataframe tbody tr th {\n",
       "        vertical-align: top;\n",
       "    }\n",
       "\n",
       "    .dataframe thead th {\n",
       "        text-align: right;\n",
       "    }\n",
       "</style>\n",
       "<table border=\"1\" class=\"dataframe\">\n",
       "  <thead>\n",
       "    <tr style=\"text-align: right;\">\n",
       "      <th></th>\n",
       "      <th>ID</th>\n",
       "      <th>Customer_ID</th>\n",
       "      <th>Month</th>\n",
       "      <th>Name</th>\n",
       "      <th>Age</th>\n",
       "      <th>SSN</th>\n",
       "      <th>Occupation</th>\n",
       "      <th>Annual_Income</th>\n",
       "      <th>Monthly_Inhand_Salary</th>\n",
       "      <th>Num_Bank_Accounts</th>\n",
       "      <th>...</th>\n",
       "      <th>Num_Credit_Inquiries</th>\n",
       "      <th>Credit_Mix</th>\n",
       "      <th>Outstanding_Debt</th>\n",
       "      <th>Credit_Utilization_Ratio</th>\n",
       "      <th>Credit_History_Age</th>\n",
       "      <th>Payment_of_Min_Amount</th>\n",
       "      <th>Total_EMI_per_month</th>\n",
       "      <th>Amount_invested_monthly</th>\n",
       "      <th>Payment_Behaviour</th>\n",
       "      <th>Monthly_Balance</th>\n",
       "    </tr>\n",
       "  </thead>\n",
       "  <tbody>\n",
       "    <tr>\n",
       "      <th>0</th>\n",
       "      <td>5642</td>\n",
       "      <td>3392</td>\n",
       "      <td>9</td>\n",
       "      <td>Aaron Maashoh</td>\n",
       "      <td>23.000</td>\n",
       "      <td>821000265.000</td>\n",
       "      <td>Scientist</td>\n",
       "      <td>19114.120</td>\n",
       "      <td>1824.843</td>\n",
       "      <td>3.000</td>\n",
       "      <td>...</td>\n",
       "      <td>4.000</td>\n",
       "      <td>Good</td>\n",
       "      <td>809.980</td>\n",
       "      <td>35.030</td>\n",
       "      <td>273.000</td>\n",
       "      <td>No</td>\n",
       "      <td>49.575</td>\n",
       "      <td>21.465</td>\n",
       "      <td>Low_spent_Small_value_payments</td>\n",
       "      <td>186.267</td>\n",
       "    </tr>\n",
       "    <tr>\n",
       "      <th>1</th>\n",
       "      <td>5643</td>\n",
       "      <td>3392</td>\n",
       "      <td>10</td>\n",
       "      <td>Aaron Maashoh</td>\n",
       "      <td>24.000</td>\n",
       "      <td>821000265.000</td>\n",
       "      <td>Scientist</td>\n",
       "      <td>19114.120</td>\n",
       "      <td>1824.843</td>\n",
       "      <td>3.000</td>\n",
       "      <td>...</td>\n",
       "      <td>4.000</td>\n",
       "      <td>Good</td>\n",
       "      <td>809.980</td>\n",
       "      <td>33.053</td>\n",
       "      <td>274.000</td>\n",
       "      <td>No</td>\n",
       "      <td>49.575</td>\n",
       "      <td>21.465</td>\n",
       "      <td>High_spent_Medium_value_payments</td>\n",
       "      <td>361.444</td>\n",
       "    </tr>\n",
       "    <tr>\n",
       "      <th>2</th>\n",
       "      <td>5644</td>\n",
       "      <td>3392</td>\n",
       "      <td>11</td>\n",
       "      <td>Aaron Maashoh</td>\n",
       "      <td>24.000</td>\n",
       "      <td>821000265.000</td>\n",
       "      <td>Scientist</td>\n",
       "      <td>19114.120</td>\n",
       "      <td>1824.843</td>\n",
       "      <td>3.000</td>\n",
       "      <td>...</td>\n",
       "      <td>4.000</td>\n",
       "      <td>Good</td>\n",
       "      <td>809.980</td>\n",
       "      <td>33.812</td>\n",
       "      <td>265.000</td>\n",
       "      <td>No</td>\n",
       "      <td>49.575</td>\n",
       "      <td>21.465</td>\n",
       "      <td>Low_spent_Medium_value_payments</td>\n",
       "      <td>264.675</td>\n",
       "    </tr>\n",
       "    <tr>\n",
       "      <th>3</th>\n",
       "      <td>5645</td>\n",
       "      <td>3392</td>\n",
       "      <td>12</td>\n",
       "      <td>Aaron Maashoh</td>\n",
       "      <td>24.000</td>\n",
       "      <td>821000265.000</td>\n",
       "      <td>Scientist</td>\n",
       "      <td>19114.120</td>\n",
       "      <td>1824.843</td>\n",
       "      <td>3.000</td>\n",
       "      <td>...</td>\n",
       "      <td>4.000</td>\n",
       "      <td>Good</td>\n",
       "      <td>809.980</td>\n",
       "      <td>32.431</td>\n",
       "      <td>276.000</td>\n",
       "      <td>No</td>\n",
       "      <td>49.575</td>\n",
       "      <td>21.465</td>\n",
       "      <td>High_spent_Medium_value_payments</td>\n",
       "      <td>343.827</td>\n",
       "    </tr>\n",
       "    <tr>\n",
       "      <th>4</th>\n",
       "      <td>5654</td>\n",
       "      <td>8625</td>\n",
       "      <td>9</td>\n",
       "      <td>Rick Rothackerj</td>\n",
       "      <td>28.000</td>\n",
       "      <td>4075839.000</td>\n",
       "      <td>Teacher</td>\n",
       "      <td>34847.840</td>\n",
       "      <td>3037.987</td>\n",
       "      <td>2.000</td>\n",
       "      <td>...</td>\n",
       "      <td>5.000</td>\n",
       "      <td>Good</td>\n",
       "      <td>605.030</td>\n",
       "      <td>25.927</td>\n",
       "      <td>327.000</td>\n",
       "      <td>No</td>\n",
       "      <td>18.816</td>\n",
       "      <td>39.684</td>\n",
       "      <td>High_spent_Large_value_payments</td>\n",
       "      <td>485.298</td>\n",
       "    </tr>\n",
       "    <tr>\n",
       "      <th>...</th>\n",
       "      <td>...</td>\n",
       "      <td>...</td>\n",
       "      <td>...</td>\n",
       "      <td>...</td>\n",
       "      <td>...</td>\n",
       "      <td>...</td>\n",
       "      <td>...</td>\n",
       "      <td>...</td>\n",
       "      <td>...</td>\n",
       "      <td>...</td>\n",
       "      <td>...</td>\n",
       "      <td>...</td>\n",
       "      <td>...</td>\n",
       "      <td>...</td>\n",
       "      <td>...</td>\n",
       "      <td>...</td>\n",
       "      <td>...</td>\n",
       "      <td>...</td>\n",
       "      <td>...</td>\n",
       "      <td>...</td>\n",
       "      <td>...</td>\n",
       "    </tr>\n",
       "    <tr>\n",
       "      <th>49995</th>\n",
       "      <td>155621</td>\n",
       "      <td>34304</td>\n",
       "      <td>12</td>\n",
       "      <td>Sarah McBridec</td>\n",
       "      <td>28.000</td>\n",
       "      <td>31350942.000</td>\n",
       "      <td>Architect</td>\n",
       "      <td>20002.880</td>\n",
       "      <td>1929.907</td>\n",
       "      <td>10.000</td>\n",
       "      <td>...</td>\n",
       "      <td>12.000</td>\n",
       "      <td>Bad</td>\n",
       "      <td>3571.700</td>\n",
       "      <td>34.781</td>\n",
       "      <td>68.000</td>\n",
       "      <td>Yes</td>\n",
       "      <td>60.965</td>\n",
       "      <td>34.663</td>\n",
       "      <td>Low_spent_Small_value_payments</td>\n",
       "      <td>275.540</td>\n",
       "    </tr>\n",
       "    <tr>\n",
       "      <th>49996</th>\n",
       "      <td>155630</td>\n",
       "      <td>37932</td>\n",
       "      <td>9</td>\n",
       "      <td>Nicks</td>\n",
       "      <td>25.000</td>\n",
       "      <td>78735990.000</td>\n",
       "      <td>Mechanic</td>\n",
       "      <td>39628.990</td>\n",
       "      <td>3359.416</td>\n",
       "      <td>4.000</td>\n",
       "      <td>...</td>\n",
       "      <td>7.000</td>\n",
       "      <td>Good</td>\n",
       "      <td>502.380</td>\n",
       "      <td>27.759</td>\n",
       "      <td>383.000</td>\n",
       "      <td>NM</td>\n",
       "      <td>35.104</td>\n",
       "      <td>24.028</td>\n",
       "      <td>Low_spent_Small_value_payments</td>\n",
       "      <td>409.395</td>\n",
       "    </tr>\n",
       "    <tr>\n",
       "      <th>49997</th>\n",
       "      <td>155631</td>\n",
       "      <td>37932</td>\n",
       "      <td>10</td>\n",
       "      <td>Nicks</td>\n",
       "      <td>25.000</td>\n",
       "      <td>78735990.000</td>\n",
       "      <td>Mechanic</td>\n",
       "      <td>39628.990</td>\n",
       "      <td>3359.416</td>\n",
       "      <td>4.000</td>\n",
       "      <td>...</td>\n",
       "      <td>7.000</td>\n",
       "      <td>Good</td>\n",
       "      <td>502.380</td>\n",
       "      <td>27.759</td>\n",
       "      <td>384.000</td>\n",
       "      <td>No</td>\n",
       "      <td>35.104</td>\n",
       "      <td>24.028</td>\n",
       "      <td>Low_spent_Large_value_payments</td>\n",
       "      <td>349.726</td>\n",
       "    </tr>\n",
       "    <tr>\n",
       "      <th>49998</th>\n",
       "      <td>155632</td>\n",
       "      <td>37932</td>\n",
       "      <td>11</td>\n",
       "      <td>Nicks</td>\n",
       "      <td>25.000</td>\n",
       "      <td>78735990.000</td>\n",
       "      <td>Mechanic</td>\n",
       "      <td>39628.990</td>\n",
       "      <td>3359.416</td>\n",
       "      <td>4.000</td>\n",
       "      <td>...</td>\n",
       "      <td>7.000</td>\n",
       "      <td>Good</td>\n",
       "      <td>502.380</td>\n",
       "      <td>27.759</td>\n",
       "      <td>385.000</td>\n",
       "      <td>No</td>\n",
       "      <td>35.104</td>\n",
       "      <td>24.028</td>\n",
       "      <td>High_spent_Small_value_payments</td>\n",
       "      <td>463.239</td>\n",
       "    </tr>\n",
       "    <tr>\n",
       "      <th>49999</th>\n",
       "      <td>155633</td>\n",
       "      <td>37932</td>\n",
       "      <td>12</td>\n",
       "      <td>Nicks</td>\n",
       "      <td>25.000</td>\n",
       "      <td>78735990.000</td>\n",
       "      <td>Mechanic</td>\n",
       "      <td>39628.990</td>\n",
       "      <td>3359.416</td>\n",
       "      <td>4.000</td>\n",
       "      <td>...</td>\n",
       "      <td>7.000</td>\n",
       "      <td>Good</td>\n",
       "      <td>502.380</td>\n",
       "      <td>34.109</td>\n",
       "      <td>386.000</td>\n",
       "      <td>No</td>\n",
       "      <td>35.104</td>\n",
       "      <td>24.028</td>\n",
       "      <td>Low_spent_Medium_value_payments</td>\n",
       "      <td>360.380</td>\n",
       "    </tr>\n",
       "  </tbody>\n",
       "</table>\n",
       "<p>50000 rows × 27 columns</p>\n",
       "</div>"
      ],
      "text/plain": [
       "           ID  Customer_ID  Month             Name    Age           SSN  \\\n",
       "0        5642         3392      9    Aaron Maashoh 23.000 821000265.000   \n",
       "1        5643         3392     10    Aaron Maashoh 24.000 821000265.000   \n",
       "2        5644         3392     11    Aaron Maashoh 24.000 821000265.000   \n",
       "3        5645         3392     12    Aaron Maashoh 24.000 821000265.000   \n",
       "4        5654         8625      9  Rick Rothackerj 28.000   4075839.000   \n",
       "...       ...          ...    ...              ...    ...           ...   \n",
       "49995  155621        34304     12   Sarah McBridec 28.000  31350942.000   \n",
       "49996  155630        37932      9            Nicks 25.000  78735990.000   \n",
       "49997  155631        37932     10            Nicks 25.000  78735990.000   \n",
       "49998  155632        37932     11            Nicks 25.000  78735990.000   \n",
       "49999  155633        37932     12            Nicks 25.000  78735990.000   \n",
       "\n",
       "      Occupation  Annual_Income  Monthly_Inhand_Salary  Num_Bank_Accounts  \\\n",
       "0      Scientist      19114.120               1824.843              3.000   \n",
       "1      Scientist      19114.120               1824.843              3.000   \n",
       "2      Scientist      19114.120               1824.843              3.000   \n",
       "3      Scientist      19114.120               1824.843              3.000   \n",
       "4        Teacher      34847.840               3037.987              2.000   \n",
       "...          ...            ...                    ...                ...   \n",
       "49995  Architect      20002.880               1929.907             10.000   \n",
       "49996   Mechanic      39628.990               3359.416              4.000   \n",
       "49997   Mechanic      39628.990               3359.416              4.000   \n",
       "49998   Mechanic      39628.990               3359.416              4.000   \n",
       "49999   Mechanic      39628.990               3359.416              4.000   \n",
       "\n",
       "       ...  Num_Credit_Inquiries  Credit_Mix  Outstanding_Debt  \\\n",
       "0      ...                 4.000        Good           809.980   \n",
       "1      ...                 4.000        Good           809.980   \n",
       "2      ...                 4.000        Good           809.980   \n",
       "3      ...                 4.000        Good           809.980   \n",
       "4      ...                 5.000        Good           605.030   \n",
       "...    ...                   ...         ...               ...   \n",
       "49995  ...                12.000         Bad          3571.700   \n",
       "49996  ...                 7.000        Good           502.380   \n",
       "49997  ...                 7.000        Good           502.380   \n",
       "49998  ...                 7.000        Good           502.380   \n",
       "49999  ...                 7.000        Good           502.380   \n",
       "\n",
       "      Credit_Utilization_Ratio  Credit_History_Age  Payment_of_Min_Amount  \\\n",
       "0                       35.030             273.000                     No   \n",
       "1                       33.053             274.000                     No   \n",
       "2                       33.812             265.000                     No   \n",
       "3                       32.431             276.000                     No   \n",
       "4                       25.927             327.000                     No   \n",
       "...                        ...                 ...                    ...   \n",
       "49995                   34.781              68.000                    Yes   \n",
       "49996                   27.759             383.000                     NM   \n",
       "49997                   27.759             384.000                     No   \n",
       "49998                   27.759             385.000                     No   \n",
       "49999                   34.109             386.000                     No   \n",
       "\n",
       "       Total_EMI_per_month  Amount_invested_monthly  \\\n",
       "0                   49.575                   21.465   \n",
       "1                   49.575                   21.465   \n",
       "2                   49.575                   21.465   \n",
       "3                   49.575                   21.465   \n",
       "4                   18.816                   39.684   \n",
       "...                    ...                      ...   \n",
       "49995               60.965                   34.663   \n",
       "49996               35.104                   24.028   \n",
       "49997               35.104                   24.028   \n",
       "49998               35.104                   24.028   \n",
       "49999               35.104                   24.028   \n",
       "\n",
       "                      Payment_Behaviour  Monthly_Balance  \n",
       "0        Low_spent_Small_value_payments          186.267  \n",
       "1      High_spent_Medium_value_payments          361.444  \n",
       "2       Low_spent_Medium_value_payments          264.675  \n",
       "3      High_spent_Medium_value_payments          343.827  \n",
       "4       High_spent_Large_value_payments          485.298  \n",
       "...                                 ...              ...  \n",
       "49995    Low_spent_Small_value_payments          275.540  \n",
       "49996    Low_spent_Small_value_payments          409.395  \n",
       "49997    Low_spent_Large_value_payments          349.726  \n",
       "49998   High_spent_Small_value_payments          463.239  \n",
       "49999   Low_spent_Medium_value_payments          360.380  \n",
       "\n",
       "[50000 rows x 27 columns]"
      ]
     },
     "execution_count": 5,
     "metadata": {},
     "output_type": "execute_result"
    }
   ],
   "source": [
    "test = pd.read_csv(\"/kaggle/input/credit-score-prediction/test.csv\")\n",
    "test"
   ]
  },
  {
   "cell_type": "code",
   "execution_count": 6,
   "metadata": {
    "execution": {
     "iopub.execute_input": "2022-10-30T16:12:47.691083Z",
     "iopub.status.busy": "2022-10-30T16:12:47.689926Z",
     "iopub.status.idle": "2022-10-30T16:12:47.723868Z",
     "shell.execute_reply": "2022-10-30T16:12:47.722828Z",
     "shell.execute_reply.started": "2022-10-30T16:12:47.691035Z"
    }
   },
   "outputs": [],
   "source": [
    "# drop the unecessary columns\n",
    "df.drop(columns=[\"ID\",\"Customer_ID\",\"Month\",\"Name\",\"SSN\"], inplace = True)"
   ]
  },
  {
   "cell_type": "code",
   "execution_count": 7,
   "metadata": {
    "execution": {
     "iopub.execute_input": "2022-10-30T16:12:47.728339Z",
     "iopub.status.busy": "2022-10-30T16:12:47.727254Z",
     "iopub.status.idle": "2022-10-30T16:12:47.767643Z",
     "shell.execute_reply": "2022-10-30T16:12:47.766338Z",
     "shell.execute_reply.started": "2022-10-30T16:12:47.728289Z"
    }
   },
   "outputs": [
    {
     "data": {
      "text/plain": [
       "(100000, 23)"
      ]
     },
     "execution_count": 7,
     "metadata": {},
     "output_type": "execute_result"
    }
   ],
   "source": [
    "# Drop the rows we can not use in model \n",
    "df = df[df[\"Credit_Score\"].notna()]\n",
    "df.shape"
   ]
  },
  {
   "cell_type": "code",
   "execution_count": 8,
   "metadata": {
    "execution": {
     "iopub.execute_input": "2022-10-30T16:12:47.770328Z",
     "iopub.status.busy": "2022-10-30T16:12:47.769531Z",
     "iopub.status.idle": "2022-10-30T16:12:47.821025Z",
     "shell.execute_reply": "2022-10-30T16:12:47.819801Z",
     "shell.execute_reply.started": "2022-10-30T16:12:47.770285Z"
    }
   },
   "outputs": [
    {
     "name": "stdout",
     "output_type": "stream",
     "text": [
      "<class 'pandas.core.frame.DataFrame'>\n",
      "Int64Index: 100000 entries, 0 to 99999\n",
      "Data columns (total 23 columns):\n",
      " #   Column                    Non-Null Count   Dtype  \n",
      "---  ------                    --------------   -----  \n",
      " 0   Age                       100000 non-null  float64\n",
      " 1   Occupation                100000 non-null  object \n",
      " 2   Annual_Income             100000 non-null  float64\n",
      " 3   Monthly_Inhand_Salary     100000 non-null  float64\n",
      " 4   Num_Bank_Accounts         100000 non-null  float64\n",
      " 5   Num_Credit_Card           100000 non-null  float64\n",
      " 6   Interest_Rate             100000 non-null  float64\n",
      " 7   Num_of_Loan               100000 non-null  float64\n",
      " 8   Type_of_Loan              100000 non-null  object \n",
      " 9   Delay_from_due_date       100000 non-null  float64\n",
      " 10  Num_of_Delayed_Payment    100000 non-null  float64\n",
      " 11  Changed_Credit_Limit      100000 non-null  float64\n",
      " 12  Num_Credit_Inquiries      100000 non-null  float64\n",
      " 13  Credit_Mix                100000 non-null  object \n",
      " 14  Outstanding_Debt          100000 non-null  float64\n",
      " 15  Credit_Utilization_Ratio  100000 non-null  float64\n",
      " 16  Credit_History_Age        100000 non-null  float64\n",
      " 17  Payment_of_Min_Amount     100000 non-null  object \n",
      " 18  Total_EMI_per_month       100000 non-null  float64\n",
      " 19  Amount_invested_monthly   100000 non-null  float64\n",
      " 20  Payment_Behaviour         100000 non-null  object \n",
      " 21  Monthly_Balance           100000 non-null  float64\n",
      " 22  Credit_Score              100000 non-null  object \n",
      "dtypes: float64(17), object(6)\n",
      "memory usage: 18.3+ MB\n"
     ]
    }
   ],
   "source": [
    "df.info()"
   ]
  },
  {
   "cell_type": "code",
   "execution_count": 9,
   "metadata": {
    "execution": {
     "iopub.execute_input": "2022-10-30T16:12:47.823403Z",
     "iopub.status.busy": "2022-10-30T16:12:47.822939Z",
     "iopub.status.idle": "2022-10-30T16:12:48.277344Z",
     "shell.execute_reply": "2022-10-30T16:12:48.276144Z",
     "shell.execute_reply.started": "2022-10-30T16:12:47.823358Z"
    }
   },
   "outputs": [
    {
     "data": {
      "image/png": "[encoded data removed]",
      "text/plain": [
       "<Figure size 576x396 with 2 Axes>"
      ]
     },
     "metadata": {},
     "output_type": "display_data"
    }
   ],
   "source": [
    "# check Target Feature for classification\n",
    "fig,(hist, box) = plt.subplots(nrows = 2, sharex = True, \n",
    "                              gridspec_kw = {'height_ratios': [3, 1]})\n",
    "\n",
    "sns.histplot(df['Credit_Score'], discrete=True, stat='percent', shrink=.8, \n",
    "             kde=False, ax=hist).grid(axis='y')\n",
    "hist.bar_label(hist.containers[0], fmt=\"%% %.0f\",\n",
    "              padding = -21, color = \"w\",\n",
    "              fontsize=14)\n",
    "sns.boxplot(pd.factorize(df[\"Credit_Score\"])[0],\n",
    "            ax = box, showmeans=True).grid(axis = 'x')"
   ]
  },
  {
   "cell_type": "code",
   "execution_count": 10,
   "metadata": {
    "execution": {
     "iopub.execute_input": "2022-10-30T16:12:48.279911Z",
     "iopub.status.busy": "2022-10-30T16:12:48.279149Z",
     "iopub.status.idle": "2022-10-30T16:12:49.764494Z",
     "shell.execute_reply": "2022-10-30T16:12:49.763322Z",
     "shell.execute_reply.started": "2022-10-30T16:12:48.279867Z"
    }
   },
   "outputs": [
    {
     "data": {
      "text/plain": [
       "<AxesSubplot:>"
      ]
     },
     "execution_count": 10,
     "metadata": {},
     "output_type": "execute_result"
    },
    {
     "data": {
      "image/png": "[encoded data removed]",
      "text/plain": [
       "<Figure size 1008x576 with 2 Axes>"
      ]
     },
     "metadata": {},
     "output_type": "display_data"
    }
   ],
   "source": [
    "# correlation between numerical features\n",
    "plt.figure(figsize = (14,8))\n",
    "sns.heatmap(df.corr(),\n",
    "           mask=np.triu(np.ones_like(df.corr(), dtype=bool))\n",
    "           ,annot=True, vmin=-1, vmax =1, cmap=\"PiYG\"\n",
    "           )"
   ]
  },
  {
   "cell_type": "code",
   "execution_count": 11,
   "metadata": {
    "execution": {
     "iopub.execute_input": "2022-10-30T16:12:49.770149Z",
     "iopub.status.busy": "2022-10-30T16:12:49.769427Z",
     "iopub.status.idle": "2022-10-30T16:12:49.952560Z",
     "shell.execute_reply": "2022-10-30T16:12:49.951388Z",
     "shell.execute_reply.started": "2022-10-30T16:12:49.770101Z"
    }
   },
   "outputs": [
    {
     "data": {
      "text/html": [
       "<div>\n",
       "<style scoped>\n",
       "    .dataframe tbody tr th:only-of-type {\n",
       "        vertical-align: middle;\n",
       "    }\n",
       "\n",
       "    .dataframe tbody tr th {\n",
       "        vertical-align: top;\n",
       "    }\n",
       "\n",
       "    .dataframe thead th {\n",
       "        text-align: right;\n",
       "    }\n",
       "</style>\n",
       "<table border=\"1\" class=\"dataframe\">\n",
       "  <thead>\n",
       "    <tr style=\"text-align: right;\">\n",
       "      <th></th>\n",
       "      <th>count</th>\n",
       "      <th>unique</th>\n",
       "      <th>top</th>\n",
       "      <th>freq</th>\n",
       "      <th>mean</th>\n",
       "      <th>std</th>\n",
       "      <th>min</th>\n",
       "      <th>25%</th>\n",
       "      <th>50%</th>\n",
       "      <th>75%</th>\n",
       "      <th>max</th>\n",
       "    </tr>\n",
       "  </thead>\n",
       "  <tbody>\n",
       "    <tr>\n",
       "      <th>Age</th>\n",
       "      <td>100000.000</td>\n",
       "      <td>NaN</td>\n",
       "      <td>NaN</td>\n",
       "      <td>NaN</td>\n",
       "      <td>33.316</td>\n",
       "      <td>10.765</td>\n",
       "      <td>14.000</td>\n",
       "      <td>24.000</td>\n",
       "      <td>33.000</td>\n",
       "      <td>42.000</td>\n",
       "      <td>56.000</td>\n",
       "    </tr>\n",
       "    <tr>\n",
       "      <th>Occupation</th>\n",
       "      <td>100000</td>\n",
       "      <td>15</td>\n",
       "      <td>Lawyer</td>\n",
       "      <td>7096</td>\n",
       "      <td>NaN</td>\n",
       "      <td>NaN</td>\n",
       "      <td>NaN</td>\n",
       "      <td>NaN</td>\n",
       "      <td>NaN</td>\n",
       "      <td>NaN</td>\n",
       "      <td>NaN</td>\n",
       "    </tr>\n",
       "    <tr>\n",
       "      <th>Annual_Income</th>\n",
       "      <td>100000.000</td>\n",
       "      <td>NaN</td>\n",
       "      <td>NaN</td>\n",
       "      <td>NaN</td>\n",
       "      <td>50505.123</td>\n",
       "      <td>38299.422</td>\n",
       "      <td>7005.930</td>\n",
       "      <td>19342.972</td>\n",
       "      <td>36999.705</td>\n",
       "      <td>71683.470</td>\n",
       "      <td>179987.280</td>\n",
       "    </tr>\n",
       "    <tr>\n",
       "      <th>Monthly_Inhand_Salary</th>\n",
       "      <td>100000.000</td>\n",
       "      <td>NaN</td>\n",
       "      <td>NaN</td>\n",
       "      <td>NaN</td>\n",
       "      <td>4197.271</td>\n",
       "      <td>3186.432</td>\n",
       "      <td>303.645</td>\n",
       "      <td>1626.594</td>\n",
       "      <td>3095.905</td>\n",
       "      <td>5957.715</td>\n",
       "      <td>15204.633</td>\n",
       "    </tr>\n",
       "    <tr>\n",
       "      <th>Num_Bank_Accounts</th>\n",
       "      <td>100000.000</td>\n",
       "      <td>NaN</td>\n",
       "      <td>NaN</td>\n",
       "      <td>NaN</td>\n",
       "      <td>5.369</td>\n",
       "      <td>2.594</td>\n",
       "      <td>-1.000</td>\n",
       "      <td>3.000</td>\n",
       "      <td>5.000</td>\n",
       "      <td>7.000</td>\n",
       "      <td>11.000</td>\n",
       "    </tr>\n",
       "    <tr>\n",
       "      <th>Num_Credit_Card</th>\n",
       "      <td>100000.000</td>\n",
       "      <td>NaN</td>\n",
       "      <td>NaN</td>\n",
       "      <td>NaN</td>\n",
       "      <td>5.534</td>\n",
       "      <td>2.067</td>\n",
       "      <td>0.000</td>\n",
       "      <td>4.000</td>\n",
       "      <td>5.000</td>\n",
       "      <td>7.000</td>\n",
       "      <td>11.000</td>\n",
       "    </tr>\n",
       "    <tr>\n",
       "      <th>Interest_Rate</th>\n",
       "      <td>100000.000</td>\n",
       "      <td>NaN</td>\n",
       "      <td>NaN</td>\n",
       "      <td>NaN</td>\n",
       "      <td>14.532</td>\n",
       "      <td>8.741</td>\n",
       "      <td>1.000</td>\n",
       "      <td>7.000</td>\n",
       "      <td>13.000</td>\n",
       "      <td>20.000</td>\n",
       "      <td>34.000</td>\n",
       "    </tr>\n",
       "    <tr>\n",
       "      <th>Num_of_Loan</th>\n",
       "      <td>100000.000</td>\n",
       "      <td>NaN</td>\n",
       "      <td>NaN</td>\n",
       "      <td>NaN</td>\n",
       "      <td>3.533</td>\n",
       "      <td>2.446</td>\n",
       "      <td>0.000</td>\n",
       "      <td>2.000</td>\n",
       "      <td>3.000</td>\n",
       "      <td>5.000</td>\n",
       "      <td>9.000</td>\n",
       "    </tr>\n",
       "    <tr>\n",
       "      <th>Type_of_Loan</th>\n",
       "      <td>100000</td>\n",
       "      <td>6261</td>\n",
       "      <td>No Data</td>\n",
       "      <td>11408</td>\n",
       "      <td>NaN</td>\n",
       "      <td>NaN</td>\n",
       "      <td>NaN</td>\n",
       "      <td>NaN</td>\n",
       "      <td>NaN</td>\n",
       "      <td>NaN</td>\n",
       "      <td>NaN</td>\n",
       "    </tr>\n",
       "    <tr>\n",
       "      <th>Delay_from_due_date</th>\n",
       "      <td>100000.000</td>\n",
       "      <td>NaN</td>\n",
       "      <td>NaN</td>\n",
       "      <td>NaN</td>\n",
       "      <td>21.075</td>\n",
       "      <td>14.813</td>\n",
       "      <td>-1.000</td>\n",
       "      <td>10.000</td>\n",
       "      <td>18.000</td>\n",
       "      <td>28.000</td>\n",
       "      <td>62.000</td>\n",
       "    </tr>\n",
       "    <tr>\n",
       "      <th>Num_of_Delayed_Payment</th>\n",
       "      <td>100000.000</td>\n",
       "      <td>NaN</td>\n",
       "      <td>NaN</td>\n",
       "      <td>NaN</td>\n",
       "      <td>13.301</td>\n",
       "      <td>6.264</td>\n",
       "      <td>-2.000</td>\n",
       "      <td>9.000</td>\n",
       "      <td>14.000</td>\n",
       "      <td>18.000</td>\n",
       "      <td>25.000</td>\n",
       "    </tr>\n",
       "    <tr>\n",
       "      <th>Changed_Credit_Limit</th>\n",
       "      <td>100000.000</td>\n",
       "      <td>NaN</td>\n",
       "      <td>NaN</td>\n",
       "      <td>NaN</td>\n",
       "      <td>10.470</td>\n",
       "      <td>6.609</td>\n",
       "      <td>0.500</td>\n",
       "      <td>5.380</td>\n",
       "      <td>9.400</td>\n",
       "      <td>14.850</td>\n",
       "      <td>29.980</td>\n",
       "    </tr>\n",
       "    <tr>\n",
       "      <th>Num_Credit_Inquiries</th>\n",
       "      <td>100000.000</td>\n",
       "      <td>NaN</td>\n",
       "      <td>NaN</td>\n",
       "      <td>NaN</td>\n",
       "      <td>5.798</td>\n",
       "      <td>3.868</td>\n",
       "      <td>0.000</td>\n",
       "      <td>3.000</td>\n",
       "      <td>5.000</td>\n",
       "      <td>8.000</td>\n",
       "      <td>17.000</td>\n",
       "    </tr>\n",
       "    <tr>\n",
       "      <th>Credit_Mix</th>\n",
       "      <td>100000</td>\n",
       "      <td>3</td>\n",
       "      <td>Standard</td>\n",
       "      <td>45848</td>\n",
       "      <td>NaN</td>\n",
       "      <td>NaN</td>\n",
       "      <td>NaN</td>\n",
       "      <td>NaN</td>\n",
       "      <td>NaN</td>\n",
       "      <td>NaN</td>\n",
       "      <td>NaN</td>\n",
       "    </tr>\n",
       "    <tr>\n",
       "      <th>Outstanding_Debt</th>\n",
       "      <td>100000.000</td>\n",
       "      <td>NaN</td>\n",
       "      <td>NaN</td>\n",
       "      <td>NaN</td>\n",
       "      <td>1426.220</td>\n",
       "      <td>1155.129</td>\n",
       "      <td>0.230</td>\n",
       "      <td>566.072</td>\n",
       "      <td>1166.155</td>\n",
       "      <td>1945.963</td>\n",
       "      <td>4998.070</td>\n",
       "    </tr>\n",
       "    <tr>\n",
       "      <th>Credit_Utilization_Ratio</th>\n",
       "      <td>100000.000</td>\n",
       "      <td>NaN</td>\n",
       "      <td>NaN</td>\n",
       "      <td>NaN</td>\n",
       "      <td>28.349</td>\n",
       "      <td>3.861</td>\n",
       "      <td>20.000</td>\n",
       "      <td>25.047</td>\n",
       "      <td>27.777</td>\n",
       "      <td>31.626</td>\n",
       "      <td>35.793</td>\n",
       "    </tr>\n",
       "    <tr>\n",
       "      <th>Credit_History_Age</th>\n",
       "      <td>100000.000</td>\n",
       "      <td>NaN</td>\n",
       "      <td>NaN</td>\n",
       "      <td>NaN</td>\n",
       "      <td>220.875</td>\n",
       "      <td>99.619</td>\n",
       "      <td>1.000</td>\n",
       "      <td>144.000</td>\n",
       "      <td>219.000</td>\n",
       "      <td>302.000</td>\n",
       "      <td>397.000</td>\n",
       "    </tr>\n",
       "    <tr>\n",
       "      <th>Payment_of_Min_Amount</th>\n",
       "      <td>100000</td>\n",
       "      <td>3</td>\n",
       "      <td>Yes</td>\n",
       "      <td>52326</td>\n",
       "      <td>NaN</td>\n",
       "      <td>NaN</td>\n",
       "      <td>NaN</td>\n",
       "      <td>NaN</td>\n",
       "      <td>NaN</td>\n",
       "      <td>NaN</td>\n",
       "      <td>NaN</td>\n",
       "    </tr>\n",
       "    <tr>\n",
       "      <th>Total_EMI_per_month</th>\n",
       "      <td>100000.000</td>\n",
       "      <td>NaN</td>\n",
       "      <td>NaN</td>\n",
       "      <td>NaN</td>\n",
       "      <td>107.699</td>\n",
       "      <td>132.267</td>\n",
       "      <td>0.000</td>\n",
       "      <td>29.269</td>\n",
       "      <td>66.462</td>\n",
       "      <td>147.393</td>\n",
       "      <td>1779.103</td>\n",
       "    </tr>\n",
       "    <tr>\n",
       "      <th>Amount_invested_monthly</th>\n",
       "      <td>100000.000</td>\n",
       "      <td>NaN</td>\n",
       "      <td>NaN</td>\n",
       "      <td>NaN</td>\n",
       "      <td>648.005</td>\n",
       "      <td>2079.552</td>\n",
       "      <td>0.000</td>\n",
       "      <td>70.623</td>\n",
       "      <td>130.496</td>\n",
       "      <td>258.508</td>\n",
       "      <td>10000.000</td>\n",
       "    </tr>\n",
       "    <tr>\n",
       "      <th>Payment_Behaviour</th>\n",
       "      <td>100000</td>\n",
       "      <td>6</td>\n",
       "      <td>Low_spent_Small_value_payments</td>\n",
       "      <td>28345</td>\n",
       "      <td>NaN</td>\n",
       "      <td>NaN</td>\n",
       "      <td>NaN</td>\n",
       "      <td>NaN</td>\n",
       "      <td>NaN</td>\n",
       "      <td>NaN</td>\n",
       "      <td>NaN</td>\n",
       "    </tr>\n",
       "    <tr>\n",
       "      <th>Monthly_Balance</th>\n",
       "      <td>100000.000</td>\n",
       "      <td>NaN</td>\n",
       "      <td>NaN</td>\n",
       "      <td>NaN</td>\n",
       "      <td>-33333333333333331935232.000</td>\n",
       "      <td>3333183328458098528485376.000</td>\n",
       "      <td>-333333333333333314856026112.000</td>\n",
       "      <td>267.612</td>\n",
       "      <td>333.860</td>\n",
       "      <td>463.216</td>\n",
       "      <td>1183.931</td>\n",
       "    </tr>\n",
       "    <tr>\n",
       "      <th>Credit_Score</th>\n",
       "      <td>100000</td>\n",
       "      <td>3</td>\n",
       "      <td>Standard</td>\n",
       "      <td>53174</td>\n",
       "      <td>NaN</td>\n",
       "      <td>NaN</td>\n",
       "      <td>NaN</td>\n",
       "      <td>NaN</td>\n",
       "      <td>NaN</td>\n",
       "      <td>NaN</td>\n",
       "      <td>NaN</td>\n",
       "    </tr>\n",
       "  </tbody>\n",
       "</table>\n",
       "</div>"
      ],
      "text/plain": [
       "                              count unique                             top  \\\n",
       "Age                      100000.000    NaN                             NaN   \n",
       "Occupation                   100000     15                          Lawyer   \n",
       "Annual_Income            100000.000    NaN                             NaN   \n",
       "Monthly_Inhand_Salary    100000.000    NaN                             NaN   \n",
       "Num_Bank_Accounts        100000.000    NaN                             NaN   \n",
       "Num_Credit_Card          100000.000    NaN                             NaN   \n",
       "Interest_Rate            100000.000    NaN                             NaN   \n",
       "Num_of_Loan              100000.000    NaN                             NaN   \n",
       "Type_of_Loan                 100000   6261                         No Data   \n",
       "Delay_from_due_date      100000.000    NaN                             NaN   \n",
       "Num_of_Delayed_Payment   100000.000    NaN                             NaN   \n",
       "Changed_Credit_Limit     100000.000    NaN                             NaN   \n",
       "Num_Credit_Inquiries     100000.000    NaN                             NaN   \n",
       "Credit_Mix                   100000      3                        Standard   \n",
       "Outstanding_Debt         100000.000    NaN                             NaN   \n",
       "Credit_Utilization_Ratio 100000.000    NaN                             NaN   \n",
       "Credit_History_Age       100000.000    NaN                             NaN   \n",
       "Payment_of_Min_Amount        100000      3                             Yes   \n",
       "Total_EMI_per_month      100000.000    NaN                             NaN   \n",
       "Amount_invested_monthly  100000.000    NaN                             NaN   \n",
       "Payment_Behaviour            100000      6  Low_spent_Small_value_payments   \n",
       "Monthly_Balance          100000.000    NaN                             NaN   \n",
       "Credit_Score                 100000      3                        Standard   \n",
       "\n",
       "                           freq                         mean  \\\n",
       "Age                         NaN                       33.316   \n",
       "Occupation                 7096                          NaN   \n",
       "Annual_Income               NaN                    50505.123   \n",
       "Monthly_Inhand_Salary       NaN                     4197.271   \n",
       "Num_Bank_Accounts           NaN                        5.369   \n",
       "Num_Credit_Card             NaN                        5.534   \n",
       "Interest_Rate               NaN                       14.532   \n",
       "Num_of_Loan                 NaN                        3.533   \n",
       "Type_of_Loan              11408                          NaN   \n",
       "Delay_from_due_date         NaN                       21.075   \n",
       "Num_of_Delayed_Payment      NaN                       13.301   \n",
       "Changed_Credit_Limit        NaN                       10.470   \n",
       "Num_Credit_Inquiries        NaN                        5.798   \n",
       "Credit_Mix                45848                          NaN   \n",
       "Outstanding_Debt            NaN                     1426.220   \n",
       "Credit_Utilization_Ratio    NaN                       28.349   \n",
       "Credit_History_Age          NaN                      220.875   \n",
       "Payment_of_Min_Amount     52326                          NaN   \n",
       "Total_EMI_per_month         NaN                      107.699   \n",
       "Amount_invested_monthly     NaN                      648.005   \n",
       "Payment_Behaviour         28345                          NaN   \n",
       "Monthly_Balance             NaN -33333333333333331935232.000   \n",
       "Credit_Score              53174                          NaN   \n",
       "\n",
       "                                                   std  \\\n",
       "Age                                             10.765   \n",
       "Occupation                                         NaN   \n",
       "Annual_Income                                38299.422   \n",
       "Monthly_Inhand_Salary                         3186.432   \n",
       "Num_Bank_Accounts                                2.594   \n",
       "Num_Credit_Card                                  2.067   \n",
       "Interest_Rate                                    8.741   \n",
       "Num_of_Loan                                      2.446   \n",
       "Type_of_Loan                                       NaN   \n",
       "Delay_from_due_date                             14.813   \n",
       "Num_of_Delayed_Payment                           6.264   \n",
       "Changed_Credit_Limit                             6.609   \n",
       "Num_Credit_Inquiries                             3.868   \n",
       "Credit_Mix                                         NaN   \n",
       "Outstanding_Debt                              1155.129   \n",
       "Credit_Utilization_Ratio                         3.861   \n",
       "Credit_History_Age                              99.619   \n",
       "Payment_of_Min_Amount                              NaN   \n",
       "Total_EMI_per_month                            132.267   \n",
       "Amount_invested_monthly                       2079.552   \n",
       "Payment_Behaviour                                  NaN   \n",
       "Monthly_Balance          3333183328458098528485376.000   \n",
       "Credit_Score                                       NaN   \n",
       "\n",
       "                                                      min       25%       50%  \\\n",
       "Age                                                14.000    24.000    33.000   \n",
       "Occupation                                            NaN       NaN       NaN   \n",
       "Annual_Income                                    7005.930 19342.972 36999.705   \n",
       "Monthly_Inhand_Salary                             303.645  1626.594  3095.905   \n",
       "Num_Bank_Accounts                                  -1.000     3.000     5.000   \n",
       "Num_Credit_Card                                     0.000     4.000     5.000   \n",
       "Interest_Rate                                       1.000     7.000    13.000   \n",
       "Num_of_Loan                                         0.000     2.000     3.000   \n",
       "Type_of_Loan                                          NaN       NaN       NaN   \n",
       "Delay_from_due_date                                -1.000    10.000    18.000   \n",
       "Num_of_Delayed_Payment                             -2.000     9.000    14.000   \n",
       "Changed_Credit_Limit                                0.500     5.380     9.400   \n",
       "Num_Credit_Inquiries                                0.000     3.000     5.000   \n",
       "Credit_Mix                                            NaN       NaN       NaN   \n",
       "Outstanding_Debt                                    0.230   566.072  1166.155   \n",
       "Credit_Utilization_Ratio                           20.000    25.047    27.777   \n",
       "Credit_History_Age                                  1.000   144.000   219.000   \n",
       "Payment_of_Min_Amount                                 NaN       NaN       NaN   \n",
       "Total_EMI_per_month                                 0.000    29.269    66.462   \n",
       "Amount_invested_monthly                             0.000    70.623   130.496   \n",
       "Payment_Behaviour                                     NaN       NaN       NaN   \n",
       "Monthly_Balance          -333333333333333314856026112.000   267.612   333.860   \n",
       "Credit_Score                                          NaN       NaN       NaN   \n",
       "\n",
       "                               75%        max  \n",
       "Age                         42.000     56.000  \n",
       "Occupation                     NaN        NaN  \n",
       "Annual_Income            71683.470 179987.280  \n",
       "Monthly_Inhand_Salary     5957.715  15204.633  \n",
       "Num_Bank_Accounts            7.000     11.000  \n",
       "Num_Credit_Card              7.000     11.000  \n",
       "Interest_Rate               20.000     34.000  \n",
       "Num_of_Loan                  5.000      9.000  \n",
       "Type_of_Loan                   NaN        NaN  \n",
       "Delay_from_due_date         28.000     62.000  \n",
       "Num_of_Delayed_Payment      18.000     25.000  \n",
       "Changed_Credit_Limit        14.850     29.980  \n",
       "Num_Credit_Inquiries         8.000     17.000  \n",
       "Credit_Mix                     NaN        NaN  \n",
       "Outstanding_Debt          1945.963   4998.070  \n",
       "Credit_Utilization_Ratio    31.626     35.793  \n",
       "Credit_History_Age         302.000    397.000  \n",
       "Payment_of_Min_Amount          NaN        NaN  \n",
       "Total_EMI_per_month        147.393   1779.103  \n",
       "Amount_invested_monthly    258.508  10000.000  \n",
       "Payment_Behaviour              NaN        NaN  \n",
       "Monthly_Balance            463.216   1183.931  \n",
       "Credit_Score                   NaN        NaN  "
      ]
     },
     "execution_count": 11,
     "metadata": {},
     "output_type": "execute_result"
    }
   ],
   "source": [
    "df.describe(include=\"all\").T"
   ]
  },
  {
   "cell_type": "markdown",
   "metadata": {},
   "source": [
    "Train | Test split"
   ]
  },
  {
   "cell_type": "code",
   "execution_count": 12,
   "metadata": {
    "execution": {
     "iopub.execute_input": "2022-10-30T16:12:49.954487Z",
     "iopub.status.busy": "2022-10-30T16:12:49.954140Z",
     "iopub.status.idle": "2022-10-30T16:12:50.019611Z",
     "shell.execute_reply": "2022-10-30T16:12:50.018405Z",
     "shell.execute_reply.started": "2022-10-30T16:12:49.954454Z"
    }
   },
   "outputs": [
    {
     "data": {
      "text/plain": [
       "((80000, 22), (20000, 22), (80000,))"
      ]
     },
     "execution_count": 12,
     "metadata": {},
     "output_type": "execute_result"
    }
   ],
   "source": [
    "X = df.drop(columns = \"Credit_Score\") # feature\n",
    "y = df[\"Credit_Score\"] # target\n",
    "\n",
    "X_train, X_test, y_train , y_test = train_test_split(X, y, \n",
    "                                                    test_size = 0.2, random_state=random_state)\n",
    "\n",
    "X_train.shape, X_test.shape, y_train.shape"
   ]
  },
  {
   "cell_type": "markdown",
   "metadata": {},
   "source": [
    "Dummy Operation"
   ]
  },
  {
   "cell_type": "code",
   "execution_count": 13,
   "metadata": {
    "execution": {
     "iopub.execute_input": "2022-10-30T16:12:50.022296Z",
     "iopub.status.busy": "2022-10-30T16:12:50.021356Z",
     "iopub.status.idle": "2022-10-30T16:12:51.286929Z",
     "shell.execute_reply": "2022-10-30T16:12:51.285670Z",
     "shell.execute_reply.started": "2022-10-30T16:12:50.022239Z"
    }
   },
   "outputs": [
    {
     "data": {
      "text/plain": [
       "((80000, 49), (20000, 49))"
      ]
     },
     "execution_count": 13,
     "metadata": {},
     "output_type": "execute_result"
    }
   ],
   "source": [
    "X_train = X_train.join(X_train[\"Type_of_Loan\"].str.get_dummies(sep = \",\").add_prefix(\"tol_\"))\n",
    "X_test = X_test.join(X_test[\"Type_of_Loan\"].str.get_dummies(sep = \",\").add_prefix(\"tol_\"))\n",
    "X_test = X_test.reindex(columns = X_train.columns, fill_value=0) # \"0\"\n",
    "\n",
    "X_train.drop(columns=[\"Type_of_Loan\"], inplace = True)\n",
    "X_test.drop(columns=[\"Type_of_Loan\"], inplace = True)\n",
    "\n",
    "X_train.shape, X_test.shape"
   ]
  },
  {
   "cell_type": "markdown",
   "metadata": {
    "execution": {
     "iopub.execute_input": "2022-10-30T12:55:41.921528Z",
     "iopub.status.busy": "2022-10-30T12:55:41.921093Z",
     "iopub.status.idle": "2022-10-30T12:55:41.951794Z",
     "shell.execute_reply": "2022-10-30T12:55:41.949843Z",
     "shell.execute_reply.started": "2022-10-30T12:55:41.921413Z"
    }
   },
   "source": [
    "OneHotEncoder and LabelEncoder"
   ]
  },
  {
   "cell_type": "code",
   "execution_count": 14,
   "metadata": {
    "execution": {
     "iopub.execute_input": "2022-10-30T16:12:51.289136Z",
     "iopub.status.busy": "2022-10-30T16:12:51.288692Z",
     "iopub.status.idle": "2022-10-30T16:12:51.515422Z",
     "shell.execute_reply": "2022-10-30T16:12:51.514407Z",
     "shell.execute_reply.started": "2022-10-30T16:12:51.289093Z"
    }
   },
   "outputs": [
    {
     "data": {
      "text/plain": [
       "((80000, 72), (20000, 72))"
      ]
     },
     "execution_count": 14,
     "metadata": {},
     "output_type": "execute_result"
    }
   ],
   "source": [
    "cat = X_train.select_dtypes(exclude=\"number\").columns.to_list()    \n",
    "enc = OneHotEncoder(handle_unknown=\"ignore\", sparse=False)\n",
    "\n",
    "X_train_cat = pd.DataFrame(\n",
    "    enc.fit_transform(X_train[cat]), index = X_train.index, \n",
    "    columns = enc.get_feature_names_out(cat)\n",
    ")    \n",
    "X_test_cat  = pd.DataFrame(\n",
    "    enc.transform(X_test[cat]), index = X_test.index, \n",
    "    columns = enc.get_feature_names_out(cat)\n",
    ")    \n",
    "X_train_enc = X_train_cat.join(X_train.select_dtypes(\"number\"))\n",
    "X_test_enc = X_test_cat.join(X_test.select_dtypes(\"number\"))\n",
    "\n",
    "X_train_enc.shape, X_test_enc.shape"
   ]
  },
  {
   "cell_type": "code",
   "execution_count": 15,
   "metadata": {
    "execution": {
     "iopub.execute_input": "2022-10-30T16:12:51.516880Z",
     "iopub.status.busy": "2022-10-30T16:12:51.516586Z",
     "iopub.status.idle": "2022-10-30T16:12:51.523761Z",
     "shell.execute_reply": "2022-10-30T16:12:51.522891Z",
     "shell.execute_reply.started": "2022-10-30T16:12:51.516853Z"
    }
   },
   "outputs": [
    {
     "data": {
      "text/plain": [
       "Index(['Occupation_Accountant', 'Occupation_Architect', 'Occupation_Developer',\n",
       "       'Occupation_Doctor', 'Occupation_Engineer', 'Occupation_Entrepreneur',\n",
       "       'Occupation_Journalist', 'Occupation_Lawyer', 'Occupation_Manager',\n",
       "       'Occupation_Mechanic', 'Occupation_Media_Manager',\n",
       "       'Occupation_Musician', 'Occupation_Scientist', 'Occupation_Teacher',\n",
       "       'Occupation_Writer', 'Credit_Mix_Bad', 'Credit_Mix_Good',\n",
       "       'Credit_Mix_Standard', 'Payment_of_Min_Amount_NM',\n",
       "       'Payment_of_Min_Amount_No', 'Payment_of_Min_Amount_Yes',\n",
       "       'Payment_Behaviour_High_spent_Large_value_payments',\n",
       "       'Payment_Behaviour_High_spent_Medium_value_payments',\n",
       "       'Payment_Behaviour_High_spent_Small_value_payments',\n",
       "       'Payment_Behaviour_Low_spent_Large_value_payments',\n",
       "       'Payment_Behaviour_Low_spent_Medium_value_payments',\n",
       "       'Payment_Behaviour_Low_spent_Small_value_payments', 'Age',\n",
       "       'Annual_Income', 'Monthly_Inhand_Salary', 'Num_Bank_Accounts',\n",
       "       'Num_Credit_Card', 'Interest_Rate', 'Num_of_Loan',\n",
       "       'Delay_from_due_date', 'Num_of_Delayed_Payment', 'Changed_Credit_Limit',\n",
       "       'Num_Credit_Inquiries', 'Outstanding_Debt', 'Credit_Utilization_Ratio',\n",
       "       'Credit_History_Age', 'Total_EMI_per_month', 'Amount_invested_monthly',\n",
       "       'Monthly_Balance', 'tol_ Auto Loan', 'tol_ Credit-Builder Loan',\n",
       "       'tol_ Debt Consolidation Loan', 'tol_ Home Equity Loan',\n",
       "       'tol_ Mortgage Loan', 'tol_ Not Specified', 'tol_ Payday Loan',\n",
       "       'tol_ Personal Loan', 'tol_ Student Loan', 'tol_ and Auto Loan',\n",
       "       'tol_ and Credit-Builder Loan', 'tol_ and Debt Consolidation Loan',\n",
       "       'tol_ and Home Equity Loan', 'tol_ and Mortgage Loan',\n",
       "       'tol_ and Not Specified', 'tol_ and Payday Loan',\n",
       "       'tol_ and Personal Loan', 'tol_ and Student Loan', 'tol_Auto Loan',\n",
       "       'tol_Credit-Builder Loan', 'tol_Debt Consolidation Loan',\n",
       "       'tol_Home Equity Loan', 'tol_Mortgage Loan', 'tol_No Data',\n",
       "       'tol_Not Specified', 'tol_Payday Loan', 'tol_Personal Loan',\n",
       "       'tol_Student Loan'],\n",
       "      dtype='object')"
      ]
     },
     "execution_count": 15,
     "metadata": {},
     "output_type": "execute_result"
    }
   ],
   "source": [
    "X_train_enc.columns"
   ]
  },
  {
   "cell_type": "code",
   "execution_count": 16,
   "metadata": {
    "execution": {
     "iopub.execute_input": "2022-10-30T16:12:51.525901Z",
     "iopub.status.busy": "2022-10-30T16:12:51.524975Z",
     "iopub.status.idle": "2022-10-30T16:12:51.569185Z",
     "shell.execute_reply": "2022-10-30T16:12:51.568175Z",
     "shell.execute_reply.started": "2022-10-30T16:12:51.525869Z"
    }
   },
   "outputs": [
    {
     "data": {
      "text/plain": [
       "0    14301\n",
       "1    23124\n",
       "2    42575\n",
       "dtype: int64"
      ]
     },
     "execution_count": 16,
     "metadata": {},
     "output_type": "execute_result"
    }
   ],
   "source": [
    "from sklearn.preprocessing import LabelEncoder\n",
    "le = LabelEncoder()\n",
    "y_train = le.fit_transform(y_train)\n",
    "y_test  = le.transform(y_test)\n",
    "\n",
    "pd.DataFrame(y_train).value_counts().sort_index()"
   ]
  },
  {
   "cell_type": "markdown",
   "metadata": {},
   "source": [
    "Scale data"
   ]
  },
  {
   "cell_type": "code",
   "execution_count": 17,
   "metadata": {
    "execution": {
     "iopub.execute_input": "2022-10-30T16:12:51.573442Z",
     "iopub.status.busy": "2022-10-30T16:12:51.572671Z",
     "iopub.status.idle": "2022-10-30T16:12:51.711725Z",
     "shell.execute_reply": "2022-10-30T16:12:51.710618Z",
     "shell.execute_reply.started": "2022-10-30T16:12:51.573408Z"
    }
   },
   "outputs": [],
   "source": [
    "scaler = MinMaxScaler()\n",
    "\n",
    "X_train_scaled = pd.DataFrame(scaler.fit_transform(X_train_enc),\n",
    "                             columns = X_train_enc.columns)\n",
    "X_test_scaled = pd.DataFrame(scaler.transform(X_test_enc),\n",
    "                            columns = X_test_enc.columns)"
   ]
  },
  {
   "cell_type": "markdown",
   "metadata": {
    "execution": {
     "iopub.execute_input": "2022-10-30T13:48:29.798394Z",
     "iopub.status.busy": "2022-10-30T13:48:29.797948Z",
     "iopub.status.idle": "2022-10-30T13:48:29.835585Z",
     "shell.execute_reply": "2022-10-30T13:48:29.834527Z",
     "shell.execute_reply.started": "2022-10-30T13:48:29.798359Z"
    }
   },
   "source": [
    "# 01. Implement Logistic Regression Model"
   ]
  },
  {
   "cell_type": "code",
   "execution_count": 18,
   "metadata": {
    "execution": {
     "iopub.execute_input": "2022-10-30T16:12:51.713690Z",
     "iopub.status.busy": "2022-10-30T16:12:51.713198Z",
     "iopub.status.idle": "2022-10-30T16:12:51.718631Z",
     "shell.execute_reply": "2022-10-30T16:12:51.717662Z",
     "shell.execute_reply.started": "2022-10-30T16:12:51.713652Z"
    }
   },
   "outputs": [],
   "source": [
    "log_model = LogisticRegression(class_weight = \"balanced\",\n",
    "                              random_state = random_state)"
   ]
  },
  {
   "cell_type": "code",
   "execution_count": 19,
   "metadata": {
    "execution": {
     "iopub.execute_input": "2022-10-30T16:12:51.720346Z",
     "iopub.status.busy": "2022-10-30T16:12:51.719991Z",
     "iopub.status.idle": "2022-10-30T16:12:58.852774Z",
     "shell.execute_reply": "2022-10-30T16:12:58.851318Z",
     "shell.execute_reply.started": "2022-10-30T16:12:51.720301Z"
    }
   },
   "outputs": [
    {
     "data": {
      "text/plain": [
       "LogisticRegression(class_weight='balanced', random_state=42)"
      ]
     },
     "execution_count": 19,
     "metadata": {},
     "output_type": "execute_result"
    }
   ],
   "source": [
    "log_model.fit(X_train_scaled, y_train)"
   ]
  },
  {
   "cell_type": "code",
   "execution_count": 20,
   "metadata": {
    "execution": {
     "iopub.execute_input": "2022-10-30T16:12:58.856023Z",
     "iopub.status.busy": "2022-10-30T16:12:58.855071Z",
     "iopub.status.idle": "2022-10-30T16:12:59.137494Z",
     "shell.execute_reply": "2022-10-30T16:12:59.136336Z",
     "shell.execute_reply.started": "2022-10-30T16:12:58.855965Z"
    }
   },
   "outputs": [
    {
     "name": "stdout",
     "output_type": "stream",
     "text": [
      "              precision    recall  f1-score   support\n",
      "\n",
      "           0       0.49      0.84      0.62     14301\n",
      "           1       0.64      0.68      0.66     23124\n",
      "           2       0.82      0.60      0.69     42575\n",
      "\n",
      "    accuracy                           0.67     80000\n",
      "   macro avg       0.65      0.71      0.66     80000\n",
      "weighted avg       0.71      0.67      0.67     80000\n",
      "\n",
      "              precision    recall  f1-score   support\n",
      "\n",
      "           0       0.50      0.83      0.62      3527\n",
      "           1       0.64      0.69      0.67      5874\n",
      "           2       0.82      0.60      0.69     10599\n",
      "\n",
      "    accuracy                           0.67     20000\n",
      "   macro avg       0.65      0.71      0.66     20000\n",
      "weighted avg       0.71      0.67      0.67     20000\n",
      "\n"
     ]
    }
   ],
   "source": [
    "y_pred_train = log_model.predict(X_train_scaled)\n",
    "y_pred_test = log_model.predict(X_test_scaled)\n",
    "\n",
    "print(classification_report(y_train,y_pred_train))\n",
    "print(classification_report(y_test, y_pred_test))"
   ]
  },
  {
   "cell_type": "markdown",
   "metadata": {},
   "source": [
    "With Best Parameters(GridsearchCV)\n"
   ]
  },
  {
   "cell_type": "code",
   "execution_count": 21,
   "metadata": {
    "execution": {
     "iopub.execute_input": "2022-10-30T16:12:59.140298Z",
     "iopub.status.busy": "2022-10-30T16:12:59.139445Z",
     "iopub.status.idle": "2022-10-30T16:12:59.148525Z",
     "shell.execute_reply": "2022-10-30T16:12:59.147611Z",
     "shell.execute_reply.started": "2022-10-30T16:12:59.140230Z"
    }
   },
   "outputs": [],
   "source": [
    "from sklearn.model_selection import GridSearchCV\n",
    "from sklearn.metrics import make_scorer\n",
    "\n",
    "model = LogisticRegression(\n",
    "        class_weight = \"balanced\",\n",
    "        max_iter = 1000,\n",
    "        random_state = random_state)\n",
    "\n",
    "param_grid = {\n",
    "    \"penalty\" : [\"l1\"],\n",
    "    \"C\": [0.1],\n",
    "    \"solver\": [\"saga\"], #libliner\n",
    "}\n",
    "\n",
    "# Identify poeple with low credit score\n",
    "recall_poor = make_scorer(recall_score, average=None,\n",
    "                         labels = [1])\n",
    "\n",
    "grid_model_log = GridSearchCV(estimator = model,\n",
    "                             param_grid = param_grid,\n",
    "                             scoring = recall_poor,\n",
    "                             error_score = \"raise\",\n",
    "                             n_jobs = -1,\n",
    "                             cv = 5)"
   ]
  },
  {
   "cell_type": "code",
   "execution_count": 22,
   "metadata": {
    "execution": {
     "iopub.execute_input": "2022-10-30T16:12:59.150767Z",
     "iopub.status.busy": "2022-10-30T16:12:59.149964Z",
     "iopub.status.idle": "2022-10-30T16:13:17.250394Z",
     "shell.execute_reply": "2022-10-30T16:13:17.249080Z",
     "shell.execute_reply.started": "2022-10-30T16:12:59.150721Z"
    }
   },
   "outputs": [
    {
     "name": "stdout",
     "output_type": "stream",
     "text": [
      "CPU times: user 5.02 s, sys: 126 ms, total: 5.15 s\n",
      "Wall time: 18.1 s\n"
     ]
    },
    {
     "data": {
      "text/plain": [
       "GridSearchCV(cv=5, error_score='raise',\n",
       "             estimator=LogisticRegression(class_weight='balanced',\n",
       "                                          max_iter=1000, random_state=42),\n",
       "             n_jobs=-1,\n",
       "             param_grid={'C': [0.1], 'penalty': ['l1'], 'solver': ['saga']},\n",
       "             scoring=make_scorer(recall_score, average=None, labels=[1]))"
      ]
     },
     "execution_count": 22,
     "metadata": {},
     "output_type": "execute_result"
    }
   ],
   "source": [
    "%%time\n",
    "grid_model_log.fit(X_train_scaled, y_train)"
   ]
  },
  {
   "cell_type": "code",
   "execution_count": 23,
   "metadata": {
    "execution": {
     "iopub.execute_input": "2022-10-30T16:13:17.252314Z",
     "iopub.status.busy": "2022-10-30T16:13:17.251926Z",
     "iopub.status.idle": "2022-10-30T16:13:17.259688Z",
     "shell.execute_reply": "2022-10-30T16:13:17.258532Z",
     "shell.execute_reply.started": "2022-10-30T16:13:17.252272Z"
    }
   },
   "outputs": [
    {
     "data": {
      "text/plain": [
       "{'C': 0.1, 'penalty': 'l1', 'solver': 'saga'}"
      ]
     },
     "execution_count": 23,
     "metadata": {},
     "output_type": "execute_result"
    }
   ],
   "source": [
    "grid_model_log.best_params_"
   ]
  },
  {
   "cell_type": "code",
   "execution_count": 24,
   "metadata": {
    "execution": {
     "iopub.execute_input": "2022-10-30T16:13:17.262714Z",
     "iopub.status.busy": "2022-10-30T16:13:17.261140Z",
     "iopub.status.idle": "2022-10-30T16:13:17.271674Z",
     "shell.execute_reply": "2022-10-30T16:13:17.270817Z",
     "shell.execute_reply.started": "2022-10-30T16:13:17.262679Z"
    }
   },
   "outputs": [
    {
     "data": {
      "text/plain": [
       "0.6815861030580754"
      ]
     },
     "execution_count": 24,
     "metadata": {},
     "output_type": "execute_result"
    }
   ],
   "source": [
    "grid_model_log.best_score_"
   ]
  },
  {
   "cell_type": "code",
   "execution_count": 25,
   "metadata": {
    "execution": {
     "iopub.execute_input": "2022-10-30T16:13:17.273098Z",
     "iopub.status.busy": "2022-10-30T16:13:17.272808Z",
     "iopub.status.idle": "2022-10-30T16:13:17.553234Z",
     "shell.execute_reply": "2022-10-30T16:13:17.552031Z",
     "shell.execute_reply.started": "2022-10-30T16:13:17.273072Z"
    }
   },
   "outputs": [
    {
     "name": "stdout",
     "output_type": "stream",
     "text": [
      "              precision    recall  f1-score   support\n",
      "\n",
      "           0       0.49      0.84      0.62     14301\n",
      "           1       0.64      0.68      0.66     23124\n",
      "           2       0.82      0.60      0.69     42575\n",
      "\n",
      "    accuracy                           0.67     80000\n",
      "   macro avg       0.65      0.71      0.66     80000\n",
      "weighted avg       0.71      0.67      0.67     80000\n",
      "\n",
      "              precision    recall  f1-score   support\n",
      "\n",
      "           0       0.50      0.83      0.62      3527\n",
      "           1       0.64      0.69      0.67      5874\n",
      "           2       0.82      0.60      0.69     10599\n",
      "\n",
      "    accuracy                           0.67     20000\n",
      "   macro avg       0.65      0.71      0.66     20000\n",
      "weighted avg       0.71      0.67      0.67     20000\n",
      "\n"
     ]
    }
   ],
   "source": [
    "y_pred_train = grid_model_log.predict(X_train_scaled)\n",
    "y_pred_test = grid_model_log.predict(X_test_scaled)\n",
    "\n",
    "print(classification_report(y_train,y_pred_train))\n",
    "print(classification_report(y_test, y_pred_test))"
   ]
  },
  {
   "cell_type": "markdown",
   "metadata": {},
   "source": [
    "# 02. Implement Random Forest Classifier Model\n",
    "\n",
    "OrdinalEncoder"
   ]
  },
  {
   "cell_type": "code",
   "execution_count": 26,
   "metadata": {
    "execution": {
     "iopub.execute_input": "2022-10-30T16:13:17.554927Z",
     "iopub.status.busy": "2022-10-30T16:13:17.554604Z",
     "iopub.status.idle": "2022-10-30T16:13:17.700988Z",
     "shell.execute_reply": "2022-10-30T16:13:17.699798Z",
     "shell.execute_reply.started": "2022-10-30T16:13:17.554895Z"
    }
   },
   "outputs": [
    {
     "data": {
      "text/plain": [
       "((80000, 49), (20000, 49))"
      ]
     },
     "execution_count": 26,
     "metadata": {},
     "output_type": "execute_result"
    }
   ],
   "source": [
    "from sklearn.preprocessing import OrdinalEncoder\n",
    "\n",
    "cat = X_train.select_dtypes(exclude = \"number\").columns.to_list()\n",
    "\n",
    "enc = OrdinalEncoder(handle_unknown = \"use_encoded_value\",\n",
    "                    unknown_value = -1)\n",
    "\n",
    "X_train[cat] = enc.fit_transform(X_train[cat])\n",
    "X_test[cat] = enc.transform(X_test[cat])\n",
    "\n",
    "X_train.shape, X_test.shape"
   ]
  },
  {
   "cell_type": "markdown",
   "metadata": {
    "execution": {
     "iopub.execute_input": "2022-10-30T14:14:55.616705Z",
     "iopub.status.busy": "2022-10-30T14:14:55.616208Z",
     "iopub.status.idle": "2022-10-30T14:14:55.661306Z",
     "shell.execute_reply": "2022-10-30T14:14:55.660371Z",
     "shell.execute_reply.started": "2022-10-30T14:14:55.616665Z"
    }
   },
   "source": [
    "RandomForest Classifier"
   ]
  },
  {
   "cell_type": "code",
   "execution_count": 27,
   "metadata": {
    "execution": {
     "iopub.execute_input": "2022-10-30T16:13:17.702836Z",
     "iopub.status.busy": "2022-10-30T16:13:17.702509Z",
     "iopub.status.idle": "2022-10-30T16:13:17.707737Z",
     "shell.execute_reply": "2022-10-30T16:13:17.706720Z",
     "shell.execute_reply.started": "2022-10-30T16:13:17.702806Z"
    }
   },
   "outputs": [],
   "source": [
    "from sklearn.ensemble import RandomForestClassifier\n",
    "\n",
    "rfc_model = RandomForestClassifier(class_weight = \"balanced\",\n",
    "                                  random_state = random_state)"
   ]
  },
  {
   "cell_type": "code",
   "execution_count": 28,
   "metadata": {
    "execution": {
     "iopub.execute_input": "2022-10-30T16:13:17.709412Z",
     "iopub.status.busy": "2022-10-30T16:13:17.709035Z",
     "iopub.status.idle": "2022-10-30T16:13:49.332809Z",
     "shell.execute_reply": "2022-10-30T16:13:49.331569Z",
     "shell.execute_reply.started": "2022-10-30T16:13:17.709381Z"
    }
   },
   "outputs": [
    {
     "name": "stdout",
     "output_type": "stream",
     "text": [
      "CPU times: user 31.5 s, sys: 121 ms, total: 31.6 s\n",
      "Wall time: 31.6 s\n"
     ]
    },
    {
     "data": {
      "text/plain": [
       "RandomForestClassifier(class_weight='balanced', random_state=42)"
      ]
     },
     "execution_count": 28,
     "metadata": {},
     "output_type": "execute_result"
    }
   ],
   "source": [
    "%%time\n",
    "rfc_model.fit(X_train, y_train)"
   ]
  },
  {
   "cell_type": "code",
   "execution_count": 29,
   "metadata": {
    "execution": {
     "iopub.execute_input": "2022-10-30T16:13:49.339142Z",
     "iopub.status.busy": "2022-10-30T16:13:49.338808Z",
     "iopub.status.idle": "2022-10-30T16:13:53.327560Z",
     "shell.execute_reply": "2022-10-30T16:13:53.326442Z",
     "shell.execute_reply.started": "2022-10-30T16:13:49.339112Z"
    }
   },
   "outputs": [
    {
     "name": "stdout",
     "output_type": "stream",
     "text": [
      "              precision    recall  f1-score   support\n",
      "\n",
      "           0       1.00      1.00      1.00     14301\n",
      "           1       1.00      1.00      1.00     23124\n",
      "           2       1.00      1.00      1.00     42575\n",
      "\n",
      "    accuracy                           1.00     80000\n",
      "   macro avg       1.00      1.00      1.00     80000\n",
      "weighted avg       1.00      1.00      1.00     80000\n",
      "\n",
      "              precision    recall  f1-score   support\n",
      "\n",
      "           0       0.79      0.76      0.77      3527\n",
      "           1       0.80      0.83      0.82      5874\n",
      "           2       0.83      0.82      0.83     10599\n",
      "\n",
      "    accuracy                           0.81     20000\n",
      "   macro avg       0.81      0.81      0.81     20000\n",
      "weighted avg       0.81      0.81      0.81     20000\n",
      "\n"
     ]
    }
   ],
   "source": [
    "y_pred_train = rfc_model.predict(X_train)\n",
    "y_pred_test = rfc_model.predict(X_test)\n",
    "\n",
    "print(classification_report(y_train,y_pred_train))\n",
    "print(classification_report(y_test, y_pred_test))"
   ]
  },
  {
   "cell_type": "code",
   "execution_count": 30,
   "metadata": {
    "execution": {
     "iopub.execute_input": "2022-10-30T16:13:53.329232Z",
     "iopub.status.busy": "2022-10-30T16:13:53.328897Z",
     "iopub.status.idle": "2022-10-30T16:13:53.336919Z",
     "shell.execute_reply": "2022-10-30T16:13:53.335556Z",
     "shell.execute_reply.started": "2022-10-30T16:13:53.329199Z"
    }
   },
   "outputs": [],
   "source": [
    "from sklearn.model_selection import GridSearchCV\n",
    "\n",
    "model = RandomForestClassifier(\n",
    "    class_weight = 'balanced',\n",
    "    random_state=random_state\n",
    ")\n",
    "param_grid = {\n",
    "    'max_depth': [3], \n",
    "    'n_estimators': [10],\n",
    "    'max_features': [None],\n",
    "}\n",
    "# Identify people with low credit scores\n",
    "recall_poor = make_scorer(recall_score, average = None, labels=[1])\n",
    "grid_model_rfc = GridSearchCV(\n",
    "    estimator=model,\n",
    "    param_grid = param_grid, \n",
    "    error_score=\"raise\",\n",
    "    scoring=recall_poor,\n",
    "    refit=True,\n",
    "#     verbose=2,\n",
    "    n_jobs=-1,\n",
    "    cv=5,\n",
    ")"
   ]
  },
  {
   "cell_type": "code",
   "execution_count": 31,
   "metadata": {
    "execution": {
     "iopub.execute_input": "2022-10-30T16:13:53.339040Z",
     "iopub.status.busy": "2022-10-30T16:13:53.338591Z",
     "iopub.status.idle": "2022-10-30T16:14:02.642541Z",
     "shell.execute_reply": "2022-10-30T16:14:02.641339Z",
     "shell.execute_reply.started": "2022-10-30T16:13:53.339006Z"
    }
   },
   "outputs": [
    {
     "name": "stdout",
     "output_type": "stream",
     "text": [
      "CPU times: user 3.28 s, sys: 24.5 ms, total: 3.3 s\n",
      "Wall time: 9.29 s\n"
     ]
    },
    {
     "data": {
      "text/plain": [
       "GridSearchCV(cv=5, error_score='raise',\n",
       "             estimator=RandomForestClassifier(class_weight='balanced',\n",
       "                                              random_state=42),\n",
       "             n_jobs=-1,\n",
       "             param_grid={'max_depth': [3], 'max_features': [None],\n",
       "                         'n_estimators': [10]},\n",
       "             scoring=make_scorer(recall_score, average=None, labels=[1]))"
      ]
     },
     "execution_count": 31,
     "metadata": {},
     "output_type": "execute_result"
    }
   ],
   "source": [
    "%%time\n",
    "grid_model_rfc.fit(X_train, y_train)"
   ]
  },
  {
   "cell_type": "code",
   "execution_count": 32,
   "metadata": {
    "execution": {
     "iopub.execute_input": "2022-10-30T16:14:02.644558Z",
     "iopub.status.busy": "2022-10-30T16:14:02.644190Z",
     "iopub.status.idle": "2022-10-30T16:14:02.651563Z",
     "shell.execute_reply": "2022-10-30T16:14:02.650528Z",
     "shell.execute_reply.started": "2022-10-30T16:14:02.644526Z"
    }
   },
   "outputs": [
    {
     "data": {
      "text/plain": [
       "{'max_depth': 3, 'max_features': None, 'n_estimators': 10}"
      ]
     },
     "execution_count": 32,
     "metadata": {},
     "output_type": "execute_result"
    }
   ],
   "source": [
    "grid_model_rfc.best_params_"
   ]
  },
  {
   "cell_type": "code",
   "execution_count": 33,
   "metadata": {
    "execution": {
     "iopub.execute_input": "2022-10-30T16:14:02.653512Z",
     "iopub.status.busy": "2022-10-30T16:14:02.653063Z",
     "iopub.status.idle": "2022-10-30T16:14:02.663183Z",
     "shell.execute_reply": "2022-10-30T16:14:02.662273Z",
     "shell.execute_reply.started": "2022-10-30T16:14:02.653471Z"
    }
   },
   "outputs": [
    {
     "data": {
      "text/plain": [
       "0.8050509959786776"
      ]
     },
     "execution_count": 33,
     "metadata": {},
     "output_type": "execute_result"
    }
   ],
   "source": [
    "grid_model_rfc.best_score_"
   ]
  },
  {
   "cell_type": "code",
   "execution_count": 34,
   "metadata": {
    "execution": {
     "iopub.execute_input": "2022-10-30T16:14:02.665974Z",
     "iopub.status.busy": "2022-10-30T16:14:02.665536Z",
     "iopub.status.idle": "2022-10-30T16:14:02.948059Z",
     "shell.execute_reply": "2022-10-30T16:14:02.946941Z",
     "shell.execute_reply.started": "2022-10-30T16:14:02.665931Z"
    }
   },
   "outputs": [
    {
     "name": "stdout",
     "output_type": "stream",
     "text": [
      "              precision    recall  f1-score   support\n",
      "\n",
      "           0       0.52      0.75      0.62     14301\n",
      "           1       0.61      0.80      0.69     23124\n",
      "           2       0.85      0.57      0.69     42575\n",
      "\n",
      "    accuracy                           0.67     80000\n",
      "   macro avg       0.66      0.71      0.67     80000\n",
      "weighted avg       0.72      0.67      0.68     80000\n",
      "\n",
      "              precision    recall  f1-score   support\n",
      "\n",
      "           0       0.52      0.75      0.61      3527\n",
      "           1       0.61      0.80      0.69      5874\n",
      "           2       0.85      0.57      0.68     10599\n",
      "\n",
      "    accuracy                           0.67     20000\n",
      "   macro avg       0.66      0.71      0.66     20000\n",
      "weighted avg       0.72      0.67      0.67     20000\n",
      "\n"
     ]
    }
   ],
   "source": [
    "y_pred_train = grid_model_rfc.predict(X_train)\n",
    "y_pred_test = grid_model_rfc.predict(X_test)\n",
    "\n",
    "print(classification_report(y_train, y_pred_train))\n",
    "print(classification_report(y_test, y_pred_test))"
   ]
  },
  {
   "cell_type": "markdown",
   "metadata": {},
   "source": [
    "# 03. Implement XGBoost Classifier Model"
   ]
  },
  {
   "cell_type": "code",
   "execution_count": 35,
   "metadata": {
    "execution": {
     "iopub.execute_input": "2022-10-30T16:14:02.950250Z",
     "iopub.status.busy": "2022-10-30T16:14:02.949713Z",
     "iopub.status.idle": "2022-10-30T16:14:02.956508Z",
     "shell.execute_reply": "2022-10-30T16:14:02.955144Z",
     "shell.execute_reply.started": "2022-10-30T16:14:02.950184Z"
    }
   },
   "outputs": [],
   "source": [
    "from xgboost import XGBClassifier\n",
    "\n",
    "xgb_model = XGBClassifier(random_state = random_state)\n"
   ]
  },
  {
   "cell_type": "code",
   "execution_count": 36,
   "metadata": {
    "execution": {
     "iopub.execute_input": "2022-10-30T16:14:02.958547Z",
     "iopub.status.busy": "2022-10-30T16:14:02.958076Z",
     "iopub.status.idle": "2022-10-30T16:14:02.983432Z",
     "shell.execute_reply": "2022-10-30T16:14:02.982219Z",
     "shell.execute_reply.started": "2022-10-30T16:14:02.958503Z"
    }
   },
   "outputs": [
    {
     "data": {
      "text/plain": [
       "array([0.62634566, 1.86467147, 1.86467147, ..., 0.62634566, 0.62634566,\n",
       "       1.15320302])"
      ]
     },
     "execution_count": 36,
     "metadata": {},
     "output_type": "execute_result"
    }
   ],
   "source": [
    "from sklearn.utils import class_weight\n",
    "classes_weights = class_weight.compute_sample_weight(class_weight = \"balanced\", y = y_train)\n",
    "classes_weights"
   ]
  },
  {
   "cell_type": "code",
   "execution_count": 37,
   "metadata": {
    "execution": {
     "iopub.execute_input": "2022-10-30T16:14:02.985156Z",
     "iopub.status.busy": "2022-10-30T16:14:02.984728Z",
     "iopub.status.idle": "2022-10-30T16:14:03.007663Z",
     "shell.execute_reply": "2022-10-30T16:14:03.006157Z",
     "shell.execute_reply.started": "2022-10-30T16:14:02.985113Z"
    }
   },
   "outputs": [
    {
     "data": {
      "text/plain": [
       "label  0    \n",
       "0      1.865    14301\n",
       "1      1.153    23124\n",
       "2      0.626    42575\n",
       "Name: 0, dtype: int64"
      ]
     },
     "execution_count": 37,
     "metadata": {},
     "output_type": "execute_result"
    }
   ],
   "source": [
    "comp = pd.DataFrame(classes_weights)\n",
    "\n",
    "comp[\"label\"] = pd.DataFrame(y_train).reset_index(drop=True)\n",
    "comp.groupby(\"label\")[0].value_counts()"
   ]
  },
  {
   "cell_type": "code",
   "execution_count": 38,
   "metadata": {
    "execution": {
     "iopub.execute_input": "2022-10-30T16:14:03.010288Z",
     "iopub.status.busy": "2022-10-30T16:14:03.009790Z",
     "iopub.status.idle": "2022-10-30T16:14:37.533926Z",
     "shell.execute_reply": "2022-10-30T16:14:37.533045Z",
     "shell.execute_reply.started": "2022-10-30T16:14:03.010223Z"
    }
   },
   "outputs": [
    {
     "name": "stdout",
     "output_type": "stream",
     "text": [
      "CPU times: user 2min 14s, sys: 266 ms, total: 2min 15s\n",
      "Wall time: 34.5 s\n"
     ]
    },
    {
     "data": {
      "text/plain": [
       "XGBClassifier(base_score=0.5, booster='gbtree', callbacks=None,\n",
       "              colsample_bylevel=1, colsample_bynode=1, colsample_bytree=1,\n",
       "              early_stopping_rounds=None, enable_categorical=False,\n",
       "              eval_metric=None, gamma=0, gpu_id=-1, grow_policy='depthwise',\n",
       "              importance_type=None, interaction_constraints='',\n",
       "              learning_rate=0.300000012, max_bin=256, max_cat_to_onehot=4,\n",
       "              max_delta_step=0, max_depth=6, max_leaves=0, min_child_weight=1,\n",
       "              missing=nan, monotone_constraints='()', n_estimators=100,\n",
       "              n_jobs=0, num_parallel_tree=1, objective='multi:softprob',\n",
       "              predictor='auto', random_state=42, reg_alpha=0, ...)"
      ]
     },
     "execution_count": 38,
     "metadata": {},
     "output_type": "execute_result"
    }
   ],
   "source": [
    "%%time\n",
    "xgb_model.fit(X_train,y_train,\n",
    "             sample_weight = classes_weights)\n",
    "\n",
    "#weight parameter in XGBoost is per instance not per\n",
    "# class"
   ]
  },
  {
   "cell_type": "code",
   "execution_count": 39,
   "metadata": {
    "execution": {
     "iopub.execute_input": "2022-10-30T16:14:37.536712Z",
     "iopub.status.busy": "2022-10-30T16:14:37.536334Z",
     "iopub.status.idle": "2022-10-30T16:14:38.087946Z",
     "shell.execute_reply": "2022-10-30T16:14:38.086597Z",
     "shell.execute_reply.started": "2022-10-30T16:14:37.536678Z"
    }
   },
   "outputs": [
    {
     "name": "stdout",
     "output_type": "stream",
     "text": [
      "              precision    recall  f1-score   support\n",
      "\n",
      "           0       0.64      0.92      0.75     14301\n",
      "           1       0.76      0.87      0.82     23124\n",
      "           2       0.91      0.71      0.80     42575\n",
      "\n",
      "    accuracy                           0.79     80000\n",
      "   macro avg       0.77      0.83      0.79     80000\n",
      "weighted avg       0.82      0.79      0.79     80000\n",
      "\n",
      "              precision    recall  f1-score   support\n",
      "\n",
      "           0       0.59      0.87      0.70      3527\n",
      "           1       0.73      0.82      0.77      5874\n",
      "           2       0.87      0.67      0.76     10599\n",
      "\n",
      "    accuracy                           0.75     20000\n",
      "   macro avg       0.73      0.79      0.74     20000\n",
      "weighted avg       0.78      0.75      0.75     20000\n",
      "\n"
     ]
    }
   ],
   "source": [
    "y_pred_train = xgb_model.predict(X_train)\n",
    "y_pred_test = xgb_model.predict(X_test)\n",
    "\n",
    "print(classification_report(y_train, y_pred_train))\n",
    "print(classification_report(y_test, y_pred_test))"
   ]
  },
  {
   "cell_type": "code",
   "execution_count": 40,
   "metadata": {
    "execution": {
     "iopub.execute_input": "2022-10-30T16:14:38.090243Z",
     "iopub.status.busy": "2022-10-30T16:14:38.089788Z",
     "iopub.status.idle": "2022-10-30T16:14:38.098586Z",
     "shell.execute_reply": "2022-10-30T16:14:38.097186Z",
     "shell.execute_reply.started": "2022-10-30T16:14:38.090197Z"
    }
   },
   "outputs": [],
   "source": [
    "from sklearn.model_selection import GridSearchCV\n",
    "\n",
    "model = XGBClassifier(\n",
    "    random_state=random_state\n",
    ")\n",
    "param_grid = {\n",
    "    'n_estimators':[50, 100],\n",
    "}\n",
    "# Identify people with low credit scores\n",
    "recall_poor = make_scorer(recall_score, average = None, labels=[1])\n",
    "grid_model_xgb = GridSearchCV(\n",
    "    estimator=model,\n",
    "    param_grid = param_grid, \n",
    "    error_score=\"raise\",\n",
    "    scoring=recall_poor,\n",
    "    refit=True,\n",
    "    n_jobs=-1\n",
    ")"
   ]
  },
  {
   "cell_type": "code",
   "execution_count": 41,
   "metadata": {
    "execution": {
     "iopub.execute_input": "2022-10-30T16:14:38.101011Z",
     "iopub.status.busy": "2022-10-30T16:14:38.100315Z",
     "iopub.status.idle": "2022-10-30T16:19:06.564824Z",
     "shell.execute_reply": "2022-10-30T16:19:06.563607Z",
     "shell.execute_reply.started": "2022-10-30T16:14:38.100965Z"
    }
   },
   "outputs": [
    {
     "name": "stdout",
     "output_type": "stream",
     "text": [
      "CPU times: user 2min 13s, sys: 203 ms, total: 2min 13s\n",
      "Wall time: 4min 28s\n"
     ]
    },
    {
     "data": {
      "text/plain": [
       "GridSearchCV(error_score='raise',\n",
       "             estimator=XGBClassifier(base_score=None, booster=None,\n",
       "                                     callbacks=None, colsample_bylevel=None,\n",
       "                                     colsample_bynode=None,\n",
       "                                     colsample_bytree=None,\n",
       "                                     early_stopping_rounds=None,\n",
       "                                     enable_categorical=False, eval_metric=None,\n",
       "                                     gamma=None, gpu_id=None, grow_policy=None,\n",
       "                                     importance_type=None,\n",
       "                                     interaction_constraints=None,\n",
       "                                     learning_rate=None, max_...\n",
       "                                     max_cat_to_onehot=None,\n",
       "                                     max_delta_step=None, max_depth=None,\n",
       "                                     max_leaves=None, min_child_weight=None,\n",
       "                                     missing=nan, monotone_constraints=None,\n",
       "                                     n_estimators=100, n_jobs=None,\n",
       "                                     num_parallel_tree=None, predictor=None,\n",
       "                                     random_state=42, reg_alpha=None,\n",
       "                                     reg_lambda=None, ...),\n",
       "             n_jobs=-1, param_grid={'n_estimators': [50, 100]},\n",
       "             scoring=make_scorer(recall_score, average=None, labels=[1]))"
      ]
     },
     "execution_count": 41,
     "metadata": {},
     "output_type": "execute_result"
    }
   ],
   "source": [
    "%%time\n",
    "grid_model_xgb.fit(X_train, y_train, \n",
    "                  sample_weight = classes_weights)"
   ]
  },
  {
   "cell_type": "code",
   "execution_count": 42,
   "metadata": {
    "execution": {
     "iopub.execute_input": "2022-10-30T16:19:06.567657Z",
     "iopub.status.busy": "2022-10-30T16:19:06.566861Z",
     "iopub.status.idle": "2022-10-30T16:19:06.575003Z",
     "shell.execute_reply": "2022-10-30T16:19:06.574038Z",
     "shell.execute_reply.started": "2022-10-30T16:19:06.567610Z"
    }
   },
   "outputs": [
    {
     "data": {
      "text/plain": [
       "{'n_estimators': 100}"
      ]
     },
     "execution_count": 42,
     "metadata": {},
     "output_type": "execute_result"
    }
   ],
   "source": [
    "grid_model_xgb.best_params_"
   ]
  },
  {
   "cell_type": "code",
   "execution_count": 43,
   "metadata": {
    "execution": {
     "iopub.execute_input": "2022-10-30T16:19:06.577056Z",
     "iopub.status.busy": "2022-10-30T16:19:06.576575Z",
     "iopub.status.idle": "2022-10-30T16:19:06.585445Z",
     "shell.execute_reply": "2022-10-30T16:19:06.584299Z",
     "shell.execute_reply.started": "2022-10-30T16:19:06.577020Z"
    }
   },
   "outputs": [
    {
     "data": {
      "text/plain": [
       "0.8232142710184233"
      ]
     },
     "execution_count": 43,
     "metadata": {},
     "output_type": "execute_result"
    }
   ],
   "source": [
    "grid_model_xgb.best_score_"
   ]
  },
  {
   "cell_type": "code",
   "execution_count": 44,
   "metadata": {
    "execution": {
     "iopub.execute_input": "2022-10-30T16:19:06.587865Z",
     "iopub.status.busy": "2022-10-30T16:19:06.586808Z",
     "iopub.status.idle": "2022-10-30T16:19:07.128944Z",
     "shell.execute_reply": "2022-10-30T16:19:07.127785Z",
     "shell.execute_reply.started": "2022-10-30T16:19:06.587823Z"
    }
   },
   "outputs": [
    {
     "name": "stdout",
     "output_type": "stream",
     "text": [
      "              precision    recall  f1-score   support\n",
      "\n",
      "           0       0.64      0.92      0.75     14301\n",
      "           1       0.76      0.87      0.82     23124\n",
      "           2       0.91      0.71      0.80     42575\n",
      "\n",
      "    accuracy                           0.79     80000\n",
      "   macro avg       0.77      0.83      0.79     80000\n",
      "weighted avg       0.82      0.79      0.79     80000\n",
      "\n",
      "              precision    recall  f1-score   support\n",
      "\n",
      "           0       0.59      0.87      0.70      3527\n",
      "           1       0.73      0.82      0.77      5874\n",
      "           2       0.87      0.67      0.76     10599\n",
      "\n",
      "    accuracy                           0.75     20000\n",
      "   macro avg       0.73      0.79      0.74     20000\n",
      "weighted avg       0.78      0.75      0.75     20000\n",
      "\n"
     ]
    }
   ],
   "source": [
    "y_pred_train = grid_model_xgb.predict(X_train)\n",
    "y_pred_test  = grid_model_xgb.predict(X_test)\n",
    "\n",
    "print(classification_report(y_train, y_pred_train))\n",
    "print(classification_report(y_test, y_pred_test))"
   ]
  },
  {
   "cell_type": "code",
   "execution_count": 45,
   "metadata": {
    "execution": {
     "iopub.execute_input": "2022-10-30T16:19:07.130686Z",
     "iopub.status.busy": "2022-10-30T16:19:07.130313Z",
     "iopub.status.idle": "2022-10-30T16:19:07.745588Z",
     "shell.execute_reply": "2022-10-30T16:19:07.744774Z",
     "shell.execute_reply.started": "2022-10-30T16:19:07.130651Z"
    }
   },
   "outputs": [
    {
     "data": {
      "image/png": "[encoded data removed]",
      "text/plain": [
       "<Figure size 576x396 with 1 Axes>"
      ]
     },
     "metadata": {},
     "output_type": "display_data"
    },
    {
     "data": {
      "text/plain": [
       "<AxesSubplot:title={'center':'ROC Curves for GridSearchCV'}, xlabel='False Positive Rate', ylabel='True Positive Rate'>"
      ]
     },
     "execution_count": 45,
     "metadata": {},
     "output_type": "execute_result"
    }
   ],
   "source": [
    "from yellowbrick.classifier import ROCAUC\n",
    "model = grid_model_log\n",
    "\n",
    "visualizer = ROCAUC(model, encoder={0: \"Good\", \n",
    "                                   1: \"Poor\",\n",
    "                                   2: \"Standard\"})\n",
    "visualizer.fit(X_train_scaled, y_train)\n",
    "#fit the training dfata to the visualizer\n",
    "visualizer.score(X_train_scaled, y_train)\n",
    "# evaluate the model on the test data\n",
    "visualizer.show()"
   ]
  },
  {
   "cell_type": "code",
   "execution_count": 47,
   "metadata": {
    "execution": {
     "iopub.execute_input": "2022-10-30T16:21:48.648421Z",
     "iopub.status.busy": "2022-10-30T16:21:48.647967Z",
     "iopub.status.idle": "2022-10-30T16:21:49.211611Z",
     "shell.execute_reply": "2022-10-30T16:21:49.210818Z",
     "shell.execute_reply.started": "2022-10-30T16:21:48.648384Z"
    }
   },
   "outputs": [
    {
     "data": {
      "image/png": "[encoded data removed]",
      "text/plain": [
       "<Figure size 576x396 with 1 Axes>"
      ]
     },
     "metadata": {},
     "output_type": "display_data"
    },
    {
     "data": {
      "text/plain": [
       "<AxesSubplot:title={'center':'ROC Curves for GridSearchCV'}, xlabel='False Positive Rate', ylabel='True Positive Rate'>"
      ]
     },
     "execution_count": 47,
     "metadata": {},
     "output_type": "execute_result"
    }
   ],
   "source": [
    "from yellowbrick.classifier import ROCAUC\n",
    "model = grid_model_rfc\n",
    "\n",
    "visualizer = ROCAUC(model, encoder={0: \"Good\", \n",
    "                                   1: \"Poor\",\n",
    "                                   2: \"Standard\"})\n",
    "visualizer.fit(X_train, y_train)\n",
    "#fit the training dfata to the visualizer\n",
    "visualizer.score(X_train, y_train)\n",
    "# evaluate the model on the test data\n",
    "visualizer.show()"
   ]
  },
  {
   "cell_type": "code",
   "execution_count": 48,
   "metadata": {
    "execution": {
     "iopub.execute_input": "2022-10-30T16:22:31.853031Z",
     "iopub.status.busy": "2022-10-30T16:22:31.852626Z",
     "iopub.status.idle": "2022-10-30T16:22:32.834694Z",
     "shell.execute_reply": "2022-10-30T16:22:32.833627Z",
     "shell.execute_reply.started": "2022-10-30T16:22:31.852999Z"
    }
   },
   "outputs": [
    {
     "data": {
      "image/png": "[encoded data removed]",
      "text/plain": [
       "<Figure size 576x396 with 1 Axes>"
      ]
     },
     "metadata": {},
     "output_type": "display_data"
    },
    {
     "data": {
      "text/plain": [
       "<AxesSubplot:title={'center':'ROC Curves for GridSearchCV'}, xlabel='False Positive Rate', ylabel='True Positive Rate'>"
      ]
     },
     "execution_count": 48,
     "metadata": {},
     "output_type": "execute_result"
    }
   ],
   "source": [
    "from yellowbrick.classifier import ROCAUC\n",
    "model = grid_model_xgb\n",
    "\n",
    "visualizer = ROCAUC(model, encoder={0: \"Good\", \n",
    "                                   1: \"Poor\",\n",
    "                                   2: \"Standard\"})\n",
    "visualizer.fit(X_train, y_train)\n",
    "#fit the training dfata to the visualizer\n",
    "visualizer.score(X_train, y_train)\n",
    "# evaluate the model on the test data\n",
    "visualizer.show()"
   ]
  },
  {
   "cell_type": "code",
   "execution_count": 49,
   "metadata": {
    "execution": {
     "iopub.execute_input": "2022-10-30T16:25:20.670488Z",
     "iopub.status.busy": "2022-10-30T16:25:20.669977Z",
     "iopub.status.idle": "2022-10-30T16:25:21.337632Z",
     "shell.execute_reply": "2022-10-30T16:25:21.336696Z",
     "shell.execute_reply.started": "2022-10-30T16:25:20.670447Z"
    }
   },
   "outputs": [
    {
     "data": {
      "text/plain": [
       "<sklearn.metrics._plot.confusion_matrix.ConfusionMatrixDisplay at 0x7f9641bed290>"
      ]
     },
     "execution_count": 49,
     "metadata": {},
     "output_type": "execute_result"
    },
    {
     "data": {
      "image/png": "[encoded data removed]",
      "text/plain": [
       "<Figure size 576x396 with 2 Axes>"
      ]
     },
     "metadata": {},
     "output_type": "display_data"
    },
    {
     "data": {
      "image/png": "[encoded data removed]",
      "text/plain": [
       "<Figure size 576x396 with 2 Axes>"
      ]
     },
     "metadata": {},
     "output_type": "display_data"
    }
   ],
   "source": [
    "plot_confusion_matrix(grid_model_rfc, X_test, y_test)\n",
    "\n",
    "plot_confusion_matrix(grid_model_xgb, X_test, y_test)"
   ]
  },
  {
   "cell_type": "markdown",
   "metadata": {},
   "source": [
    "# 04. Future Importance XGBoost\n",
    "\n",
    "Permutation Based Feature Importance(with scikit-learn)"
   ]
  },
  {
   "cell_type": "code",
   "execution_count": 51,
   "metadata": {
    "execution": {
     "iopub.execute_input": "2022-10-30T16:28:16.607534Z",
     "iopub.status.busy": "2022-10-30T16:28:16.607126Z",
     "iopub.status.idle": "2022-10-30T16:28:16.618040Z",
     "shell.execute_reply": "2022-10-30T16:28:16.617034Z",
     "shell.execute_reply.started": "2022-10-30T16:28:16.607499Z"
    }
   },
   "outputs": [
    {
     "data": {
      "text/plain": [
       "array([0.00845307, 0.00939238, 0.01025769, 0.01200138, 0.01787825,\n",
       "       0.03056719, 0.11073121, 0.01276637, 0.01592977, 0.01323863,\n",
       "       0.01562317, 0.01182006, 0.3528172 , 0.07060619, 0.0041705 ,\n",
       "       0.0086033 , 0.01522687, 0.01451772, 0.00569097, 0.01001538,\n",
       "       0.0050902 , 0.00869145, 0.00929807, 0.00999413, 0.00832574,\n",
       "       0.00819576, 0.01072138, 0.00780628, 0.00871624, 0.00878437,\n",
       "       0.00955841, 0.00954988, 0.01023204, 0.00986795, 0.00877822,\n",
       "       0.00980446, 0.0091591 , 0.00641946, 0.00809117, 0.01027655,\n",
       "       0.00935421, 0.00989475, 0.00813556, 0.00784992, 0.        ,\n",
       "       0.01092856, 0.00730368, 0.008665  , 0.01020009], dtype=float32)"
      ]
     },
     "execution_count": 51,
     "metadata": {},
     "output_type": "execute_result"
    }
   ],
   "source": [
    "#xgb_model has best scorer default parameter\n",
    "\n",
    "xgb_model.feature_importances_"
   ]
  },
  {
   "cell_type": "code",
   "execution_count": 52,
   "metadata": {
    "execution": {
     "iopub.execute_input": "2022-10-30T16:29:12.967847Z",
     "iopub.status.busy": "2022-10-30T16:29:12.967442Z",
     "iopub.status.idle": "2022-10-30T16:29:13.757801Z",
     "shell.execute_reply": "2022-10-30T16:29:13.756653Z",
     "shell.execute_reply.started": "2022-10-30T16:29:12.967815Z"
    }
   },
   "outputs": [
    {
     "data": {
      "text/plain": [
       "<BarContainer object of 49 artists>"
      ]
     },
     "execution_count": 52,
     "metadata": {},
     "output_type": "execute_result"
    },
    {
     "data": {
      "image/png": "[encoded data removed]",
      "text/plain": [
       "<Figure size 1008x576 with 1 Axes>"
      ]
     },
     "metadata": {},
     "output_type": "display_data"
    }
   ],
   "source": [
    "plt.figure(figsize = (14, 8))\n",
    "plt.barh(X_test.columns, xgb_model.feature_importances_)"
   ]
  },
  {
   "cell_type": "code",
   "execution_count": 53,
   "metadata": {
    "execution": {
     "iopub.execute_input": "2022-10-30T16:31:47.409399Z",
     "iopub.status.busy": "2022-10-30T16:31:47.408562Z",
     "iopub.status.idle": "2022-10-30T16:32:05.358011Z",
     "shell.execute_reply": "2022-10-30T16:32:05.357054Z",
     "shell.execute_reply.started": "2022-10-30T16:31:47.409360Z"
    }
   },
   "outputs": [
    {
     "data": {
      "text/plain": [
       "{'importances_mean': array([ 7.1400e-03,  5.8600e-03,  1.2210e-02,  2.0970e-02,  1.4050e-02,\n",
       "         1.1300e-02,  8.6580e-02,  3.7000e-04,  4.3610e-02,  1.4220e-02,\n",
       "         3.2900e-02,  7.5800e-03,  1.6123e-01,  6.4780e-02,  6.5000e-04,\n",
       "         1.0520e-02, -3.2600e-03,  3.7030e-02,  2.1000e-04,  2.5600e-03,\n",
       "         4.4800e-03,  3.7000e-04,  5.5000e-04, -1.6000e-04,  1.0000e-05,\n",
       "         2.2000e-04,  8.1000e-04, -3.5000e-04,  3.4000e-04,  8.1000e-04,\n",
       "         2.5000e-04,  4.4000e-04,  7.1000e-04,  8.0000e-04,  1.1000e-04,\n",
       "         3.3000e-04,  4.6000e-04,  1.4300e-03,  1.8000e-04,  4.7000e-04,\n",
       "         4.4000e-04,  5.7000e-04,  2.2000e-04,  3.4000e-04,  0.0000e+00,\n",
       "        -1.6000e-04,  1.6000e-04,  4.8000e-04,  3.4000e-04]),\n",
       " 'importances_std': array([7.79358711e-04, 5.05371151e-04, 1.52098652e-03, 1.76113600e-03,\n",
       "        1.21696343e-03, 9.80306075e-04, 2.79008960e-03, 5.30659966e-04,\n",
       "        1.66204693e-03, 1.14000000e-03, 1.03101891e-03, 1.07870292e-03,\n",
       "        3.70696641e-03, 1.32348026e-03, 5.01996016e-04, 1.01419919e-03,\n",
       "        2.26715681e-04, 4.68614981e-04, 4.30581003e-04, 5.45343928e-04,\n",
       "        1.40875832e-03, 9.79795897e-05, 1.51657509e-04, 2.98998328e-04,\n",
       "        1.59373775e-04, 1.43527001e-04, 2.61533937e-04, 3.47850543e-04,\n",
       "        3.74165739e-05, 1.49666295e-04, 2.66458252e-04, 1.88148877e-04,\n",
       "        2.45764115e-04, 2.40831892e-04, 8.00000000e-05, 1.96468827e-04,\n",
       "        9.16515139e-05, 1.69115345e-04, 6.78232998e-05, 1.32664992e-04,\n",
       "        1.49666295e-04, 2.92574777e-04, 2.54165301e-04, 3.00665928e-04,\n",
       "        0.00000000e+00, 3.33766385e-04, 1.11355287e-04, 2.50199920e-04,\n",
       "        1.88148877e-04]),\n",
       " 'importances': array([[ 7.0000e-03,  6.9500e-03,  6.2500e-03,  8.6000e-03,  6.9000e-03],\n",
       "        [ 6.1000e-03,  6.6000e-03,  5.7500e-03,  5.8000e-03,  5.0500e-03],\n",
       "        [ 1.2450e-02,  1.2300e-02,  1.1750e-02,  1.4650e-02,  9.9000e-03],\n",
       "        [ 2.0350e-02,  2.2150e-02,  1.7850e-02,  2.1650e-02,  2.2850e-02],\n",
       "        [ 1.2500e-02,  1.5450e-02,  1.5250e-02,  1.4250e-02,  1.2800e-02],\n",
       "        [ 1.0000e-02,  1.1850e-02,  1.0550e-02,  1.2800e-02,  1.1300e-02],\n",
       "        [ 8.4800e-02,  8.6750e-02,  8.2950e-02,  8.7100e-02,  9.1300e-02],\n",
       "        [-4.0000e-04,  1.1000e-03,  0.0000e+00,  7.5000e-04,  4.0000e-04],\n",
       "        [ 4.4600e-02,  4.2900e-02,  4.0950e-02,  4.5900e-02,  4.3700e-02],\n",
       "        [ 1.3500e-02,  1.4550e-02,  1.6250e-02,  1.3850e-02,  1.2950e-02],\n",
       "        [ 3.1000e-02,  3.2600e-02,  3.3650e-02,  3.3600e-02,  3.3650e-02],\n",
       "        [ 7.3500e-03,  6.7500e-03,  6.9500e-03,  7.1500e-03,  9.7000e-03],\n",
       "        [ 1.6065e-01,  1.6580e-01,  1.5740e-01,  1.5710e-01,  1.6520e-01],\n",
       "        [ 6.5750e-02,  6.2450e-02,  6.4150e-02,  6.5700e-02,  6.5850e-02],\n",
       "        [ 9.5000e-04,  1.5000e-03,  2.0000e-04,  3.0000e-04,  3.0000e-04],\n",
       "        [ 8.9000e-03,  1.1700e-02,  1.1350e-02,  9.9000e-03,  1.0750e-02],\n",
       "        [-3.5000e-03, -3.2500e-03, -3.5000e-03, -3.1500e-03, -2.9000e-03],\n",
       "        [ 3.6600e-02,  3.6900e-02,  3.6550e-02,  3.7800e-02,  3.7300e-02],\n",
       "        [ 0.0000e+00,  8.5000e-04,  0.0000e+00, -3.5000e-04,  5.5000e-04],\n",
       "        [ 3.5000e-03,  2.7000e-03,  1.8500e-03,  2.4500e-03,  2.3000e-03],\n",
       "        [ 4.9000e-03,  4.4000e-03,  6.8500e-03,  2.6500e-03,  3.6000e-03],\n",
       "        [ 3.5000e-04,  2.5000e-04,  5.5000e-04,  3.5000e-04,  3.5000e-04],\n",
       "        [ 3.0000e-04,  6.5000e-04,  5.5000e-04,  5.0000e-04,  7.5000e-04],\n",
       "        [-4.5000e-04,  3.5000e-04, -4.0000e-04,  0.0000e+00, -3.0000e-04],\n",
       "        [ 5.0000e-05, -1.5000e-04, -5.0000e-05, -1.0000e-04,  3.0000e-04],\n",
       "        [ 3.5000e-04,  1.5000e-04,  0.0000e+00,  4.0000e-04,  2.0000e-04],\n",
       "        [ 8.0000e-04,  9.0000e-04,  1.2500e-03,  5.0000e-04,  6.0000e-04],\n",
       "        [-9.5000e-04, -2.5000e-04, -4.5000e-04,  1.0000e-04, -2.0000e-04],\n",
       "        [ 3.0000e-04,  3.0000e-04,  3.5000e-04,  3.5000e-04,  4.0000e-04],\n",
       "        [ 6.5000e-04,  1.0500e-03,  6.5000e-04,  8.5000e-04,  8.5000e-04],\n",
       "        [-1.0000e-04,  1.0000e-04,  1.5000e-04,  6.5000e-04,  4.5000e-04],\n",
       "        [ 5.0000e-04,  7.0000e-04,  5.5000e-04,  2.0000e-04,  2.5000e-04],\n",
       "        [ 6.0000e-04,  8.0000e-04,  7.0000e-04,  3.5000e-04,  1.1000e-03],\n",
       "        [ 1.0500e-03,  4.5000e-04,  6.0000e-04,  8.5000e-04,  1.0500e-03],\n",
       "        [ 2.0000e-04,  5.0000e-05,  2.0000e-04,  0.0000e+00,  1.0000e-04],\n",
       "        [ 4.5000e-04,  2.5000e-04,  2.0000e-04,  6.5000e-04,  1.0000e-04],\n",
       "        [ 3.5000e-04,  5.0000e-04,  5.5000e-04,  3.5000e-04,  5.5000e-04],\n",
       "        [ 1.4500e-03,  1.1000e-03,  1.5500e-03,  1.5000e-03,  1.5500e-03],\n",
       "        [ 2.0000e-04,  2.0000e-04,  2.5000e-04,  2.0000e-04,  5.0000e-05],\n",
       "        [ 4.0000e-04,  3.0000e-04,  4.5000e-04,  5.0000e-04,  7.0000e-04],\n",
       "        [ 7.0000e-04,  4.0000e-04,  5.0000e-04,  3.0000e-04,  3.0000e-04],\n",
       "        [ 5.5000e-04,  1.0000e-04,  1.0000e-03,  5.0000e-04,  7.0000e-04],\n",
       "        [ 4.5000e-04,  5.0000e-04,  0.0000e+00,  3.0000e-04, -1.5000e-04],\n",
       "        [ 5.5000e-04, -2.5000e-04,  4.0000e-04,  4.5000e-04,  5.5000e-04],\n",
       "        [ 0.0000e+00,  0.0000e+00,  0.0000e+00,  0.0000e+00,  0.0000e+00],\n",
       "        [-1.5000e-04,  4.0000e-04, -6.5000e-04, -2.0000e-04, -2.0000e-04],\n",
       "        [ 3.5000e-04,  5.0000e-05,  2.0000e-04,  5.0000e-05,  1.5000e-04],\n",
       "        [ 5.5000e-04,  5.0000e-04,  9.0000e-04,  2.5000e-04,  2.0000e-04],\n",
       "        [ 5.0000e-05,  5.5000e-04,  4.0000e-04,  2.0000e-04,  5.0000e-04]])}"
      ]
     },
     "execution_count": 53,
     "metadata": {},
     "output_type": "execute_result"
    }
   ],
   "source": [
    "from sklearn.inspection import permutation_importance\n",
    "perm_importance = permutation_importance(xgb_model, X_test, y_test)\n",
    "perm_importance"
   ]
  },
  {
   "cell_type": "code",
   "execution_count": 54,
   "metadata": {
    "execution": {
     "iopub.execute_input": "2022-10-30T16:33:54.393453Z",
     "iopub.status.busy": "2022-10-30T16:33:54.393029Z",
     "iopub.status.idle": "2022-10-30T16:33:55.169764Z",
     "shell.execute_reply": "2022-10-30T16:33:55.168625Z",
     "shell.execute_reply.started": "2022-10-30T16:33:54.393417Z"
    }
   },
   "outputs": [
    {
     "data": {
      "text/plain": [
       "Text(0.5, 0, 'Permutation Importance')"
      ]
     },
     "execution_count": 54,
     "metadata": {},
     "output_type": "execute_result"
    },
    {
     "data": {
      "image/png": "[encoded data removed]",
      "text/plain": [
       "<Figure size 1008x576 with 1 Axes>"
      ]
     },
     "metadata": {},
     "output_type": "display_data"
    }
   ],
   "source": [
    "sorted_idx = perm_importance.importances_mean.argsort()\n",
    "plt.figure(figsize = (14,8))\n",
    "plt.barh(X_test.columns[sorted_idx], perm_importance.importances_mean[sorted_idx])\n",
    "plt.xlabel(\"Permutation Importance\")"
   ]
  },
  {
   "cell_type": "code",
   "execution_count": 58,
   "metadata": {
    "execution": {
     "iopub.execute_input": "2022-10-30T16:35:27.307617Z",
     "iopub.status.busy": "2022-10-30T16:35:27.307109Z",
     "iopub.status.idle": "2022-10-30T16:35:27.316114Z",
     "shell.execute_reply": "2022-10-30T16:35:27.314640Z",
     "shell.execute_reply.started": "2022-10-30T16:35:27.307487Z"
    }
   },
   "outputs": [
    {
     "data": {
      "text/plain": [
       "Index(['Age', 'Occupation', 'Annual_Income', 'Monthly_Inhand_Salary',\n",
       "       'Num_Bank_Accounts', 'Num_Credit_Card', 'Interest_Rate', 'Num_of_Loan',\n",
       "       'Delay_from_due_date', 'Num_of_Delayed_Payment', 'Changed_Credit_Limit',\n",
       "       'Num_Credit_Inquiries', 'Credit_Mix', 'Outstanding_Debt',\n",
       "       'Credit_Utilization_Ratio', 'Credit_History_Age',\n",
       "       'Payment_of_Min_Amount', 'Total_EMI_per_month',\n",
       "       'Amount_invested_monthly', 'Payment_Behaviour', 'Monthly_Balance',\n",
       "       'tol_ Auto Loan', 'tol_ Credit-Builder Loan',\n",
       "       'tol_ Debt Consolidation Loan', 'tol_ Home Equity Loan',\n",
       "       'tol_ Mortgage Loan', 'tol_ Not Specified', 'tol_ Payday Loan',\n",
       "       'tol_ Personal Loan', 'tol_ Student Loan', 'tol_ and Auto Loan',\n",
       "       'tol_ and Credit-Builder Loan', 'tol_ and Debt Consolidation Loan',\n",
       "       'tol_ and Home Equity Loan', 'tol_ and Mortgage Loan',\n",
       "       'tol_ and Not Specified', 'tol_ and Payday Loan',\n",
       "       'tol_ and Personal Loan', 'tol_ and Student Loan', 'tol_Auto Loan',\n",
       "       'tol_Credit-Builder Loan', 'tol_Debt Consolidation Loan',\n",
       "       'tol_Home Equity Loan', 'tol_Mortgage Loan', 'tol_No Data',\n",
       "       'tol_Not Specified', 'tol_Payday Loan', 'tol_Personal Loan',\n",
       "       'tol_Student Loan'],\n",
       "      dtype='object')"
      ]
     },
     "execution_count": 58,
     "metadata": {},
     "output_type": "execute_result"
    }
   ],
   "source": [
    "X_test.columns"
   ]
  },
  {
   "cell_type": "markdown",
   "metadata": {},
   "source": [
    "# 05. Final Model\n"
   ]
  },
  {
   "cell_type": "code",
   "execution_count": 59,
   "metadata": {
    "execution": {
     "iopub.execute_input": "2022-10-30T16:39:01.097853Z",
     "iopub.status.busy": "2022-10-30T16:39:01.096931Z",
     "iopub.status.idle": "2022-10-30T16:39:01.107418Z",
     "shell.execute_reply": "2022-10-30T16:39:01.106380Z",
     "shell.execute_reply.started": "2022-10-30T16:39:01.097811Z"
    }
   },
   "outputs": [],
   "source": [
    "# we select 8 features for final model\n",
    "df_final = df[[\"Credit_Mix\", \"Interest_Rate\",\n",
    "              \"Outstanding_Debt\",\"Delay_from_due_date\",\n",
    "              \"Total_EMI_per_month\",\"Changed_Credit_Limit\",\n",
    "              \"Monthly_Inhand_Salary\",\"Annual_Income\",\n",
    "              \"Credit_Score\"]]"
   ]
  },
  {
   "cell_type": "code",
   "execution_count": 60,
   "metadata": {
    "execution": {
     "iopub.execute_input": "2022-10-30T16:39:10.468864Z",
     "iopub.status.busy": "2022-10-30T16:39:10.468452Z",
     "iopub.status.idle": "2022-10-30T16:39:10.487972Z",
     "shell.execute_reply": "2022-10-30T16:39:10.487084Z",
     "shell.execute_reply.started": "2022-10-30T16:39:10.468831Z"
    }
   },
   "outputs": [
    {
     "data": {
      "text/html": [
       "<div>\n",
       "<style scoped>\n",
       "    .dataframe tbody tr th:only-of-type {\n",
       "        vertical-align: middle;\n",
       "    }\n",
       "\n",
       "    .dataframe tbody tr th {\n",
       "        vertical-align: top;\n",
       "    }\n",
       "\n",
       "    .dataframe thead th {\n",
       "        text-align: right;\n",
       "    }\n",
       "</style>\n",
       "<table border=\"1\" class=\"dataframe\">\n",
       "  <thead>\n",
       "    <tr style=\"text-align: right;\">\n",
       "      <th></th>\n",
       "      <th>Credit_Mix</th>\n",
       "      <th>Interest_Rate</th>\n",
       "      <th>Outstanding_Debt</th>\n",
       "      <th>Delay_from_due_date</th>\n",
       "      <th>Total_EMI_per_month</th>\n",
       "      <th>Changed_Credit_Limit</th>\n",
       "      <th>Monthly_Inhand_Salary</th>\n",
       "      <th>Annual_Income</th>\n",
       "      <th>Credit_Score</th>\n",
       "    </tr>\n",
       "  </thead>\n",
       "  <tbody>\n",
       "    <tr>\n",
       "      <th>0</th>\n",
       "      <td>Good</td>\n",
       "      <td>3.000</td>\n",
       "      <td>809.980</td>\n",
       "      <td>3.000</td>\n",
       "      <td>49.575</td>\n",
       "      <td>11.270</td>\n",
       "      <td>1824.843</td>\n",
       "      <td>19114.120</td>\n",
       "      <td>Good</td>\n",
       "    </tr>\n",
       "    <tr>\n",
       "      <th>1</th>\n",
       "      <td>Good</td>\n",
       "      <td>3.000</td>\n",
       "      <td>809.980</td>\n",
       "      <td>-1.000</td>\n",
       "      <td>49.575</td>\n",
       "      <td>11.270</td>\n",
       "      <td>1824.843</td>\n",
       "      <td>19114.120</td>\n",
       "      <td>Good</td>\n",
       "    </tr>\n",
       "    <tr>\n",
       "      <th>2</th>\n",
       "      <td>Good</td>\n",
       "      <td>3.000</td>\n",
       "      <td>809.980</td>\n",
       "      <td>3.000</td>\n",
       "      <td>49.575</td>\n",
       "      <td>11.270</td>\n",
       "      <td>1824.843</td>\n",
       "      <td>19114.120</td>\n",
       "      <td>Good</td>\n",
       "    </tr>\n",
       "    <tr>\n",
       "      <th>3</th>\n",
       "      <td>Good</td>\n",
       "      <td>3.000</td>\n",
       "      <td>809.980</td>\n",
       "      <td>5.000</td>\n",
       "      <td>49.575</td>\n",
       "      <td>6.270</td>\n",
       "      <td>1824.843</td>\n",
       "      <td>19114.120</td>\n",
       "      <td>Good</td>\n",
       "    </tr>\n",
       "    <tr>\n",
       "      <th>4</th>\n",
       "      <td>Good</td>\n",
       "      <td>3.000</td>\n",
       "      <td>809.980</td>\n",
       "      <td>6.000</td>\n",
       "      <td>49.575</td>\n",
       "      <td>11.270</td>\n",
       "      <td>1824.843</td>\n",
       "      <td>19114.120</td>\n",
       "      <td>Good</td>\n",
       "    </tr>\n",
       "    <tr>\n",
       "      <th>...</th>\n",
       "      <td>...</td>\n",
       "      <td>...</td>\n",
       "      <td>...</td>\n",
       "      <td>...</td>\n",
       "      <td>...</td>\n",
       "      <td>...</td>\n",
       "      <td>...</td>\n",
       "      <td>...</td>\n",
       "      <td>...</td>\n",
       "    </tr>\n",
       "    <tr>\n",
       "      <th>99995</th>\n",
       "      <td>Good</td>\n",
       "      <td>7.000</td>\n",
       "      <td>502.380</td>\n",
       "      <td>23.000</td>\n",
       "      <td>35.104</td>\n",
       "      <td>11.500</td>\n",
       "      <td>3359.416</td>\n",
       "      <td>39628.990</td>\n",
       "      <td>Poor</td>\n",
       "    </tr>\n",
       "    <tr>\n",
       "      <th>99996</th>\n",
       "      <td>Good</td>\n",
       "      <td>7.000</td>\n",
       "      <td>502.380</td>\n",
       "      <td>18.000</td>\n",
       "      <td>35.104</td>\n",
       "      <td>11.500</td>\n",
       "      <td>3359.416</td>\n",
       "      <td>39628.990</td>\n",
       "      <td>Poor</td>\n",
       "    </tr>\n",
       "    <tr>\n",
       "      <th>99997</th>\n",
       "      <td>Good</td>\n",
       "      <td>7.000</td>\n",
       "      <td>502.380</td>\n",
       "      <td>27.000</td>\n",
       "      <td>35.104</td>\n",
       "      <td>11.500</td>\n",
       "      <td>3359.416</td>\n",
       "      <td>39628.990</td>\n",
       "      <td>Poor</td>\n",
       "    </tr>\n",
       "    <tr>\n",
       "      <th>99998</th>\n",
       "      <td>Good</td>\n",
       "      <td>7.000</td>\n",
       "      <td>502.380</td>\n",
       "      <td>20.000</td>\n",
       "      <td>35.104</td>\n",
       "      <td>11.500</td>\n",
       "      <td>3359.416</td>\n",
       "      <td>39628.990</td>\n",
       "      <td>Standard</td>\n",
       "    </tr>\n",
       "    <tr>\n",
       "      <th>99999</th>\n",
       "      <td>Good</td>\n",
       "      <td>7.000</td>\n",
       "      <td>502.380</td>\n",
       "      <td>18.000</td>\n",
       "      <td>35.104</td>\n",
       "      <td>11.500</td>\n",
       "      <td>3359.416</td>\n",
       "      <td>39628.990</td>\n",
       "      <td>Poor</td>\n",
       "    </tr>\n",
       "  </tbody>\n",
       "</table>\n",
       "<p>100000 rows × 9 columns</p>\n",
       "</div>"
      ],
      "text/plain": [
       "      Credit_Mix  Interest_Rate  Outstanding_Debt  Delay_from_due_date  \\\n",
       "0           Good          3.000           809.980                3.000   \n",
       "1           Good          3.000           809.980               -1.000   \n",
       "2           Good          3.000           809.980                3.000   \n",
       "3           Good          3.000           809.980                5.000   \n",
       "4           Good          3.000           809.980                6.000   \n",
       "...          ...            ...               ...                  ...   \n",
       "99995       Good          7.000           502.380               23.000   \n",
       "99996       Good          7.000           502.380               18.000   \n",
       "99997       Good          7.000           502.380               27.000   \n",
       "99998       Good          7.000           502.380               20.000   \n",
       "99999       Good          7.000           502.380               18.000   \n",
       "\n",
       "       Total_EMI_per_month  Changed_Credit_Limit  Monthly_Inhand_Salary  \\\n",
       "0                   49.575                11.270               1824.843   \n",
       "1                   49.575                11.270               1824.843   \n",
       "2                   49.575                11.270               1824.843   \n",
       "3                   49.575                 6.270               1824.843   \n",
       "4                   49.575                11.270               1824.843   \n",
       "...                    ...                   ...                    ...   \n",
       "99995               35.104                11.500               3359.416   \n",
       "99996               35.104                11.500               3359.416   \n",
       "99997               35.104                11.500               3359.416   \n",
       "99998               35.104                11.500               3359.416   \n",
       "99999               35.104                11.500               3359.416   \n",
       "\n",
       "       Annual_Income Credit_Score  \n",
       "0          19114.120         Good  \n",
       "1          19114.120         Good  \n",
       "2          19114.120         Good  \n",
       "3          19114.120         Good  \n",
       "4          19114.120         Good  \n",
       "...              ...          ...  \n",
       "99995      39628.990         Poor  \n",
       "99996      39628.990         Poor  \n",
       "99997      39628.990         Poor  \n",
       "99998      39628.990     Standard  \n",
       "99999      39628.990         Poor  \n",
       "\n",
       "[100000 rows x 9 columns]"
      ]
     },
     "execution_count": 60,
     "metadata": {},
     "output_type": "execute_result"
    }
   ],
   "source": [
    "df_final"
   ]
  },
  {
   "cell_type": "code",
   "execution_count": 62,
   "metadata": {
    "execution": {
     "iopub.execute_input": "2022-10-30T16:42:10.431159Z",
     "iopub.status.busy": "2022-10-30T16:42:10.430754Z",
     "iopub.status.idle": "2022-10-30T16:42:10.440097Z",
     "shell.execute_reply": "2022-10-30T16:42:10.438925Z",
     "shell.execute_reply.started": "2022-10-30T16:42:10.431126Z"
    }
   },
   "outputs": [],
   "source": [
    "X = df_final.drop(columns=\"Credit_Score\")\n",
    "y = df_final[\"Credit_Score\"]"
   ]
  },
  {
   "cell_type": "code",
   "execution_count": 64,
   "metadata": {
    "execution": {
     "iopub.execute_input": "2022-10-30T16:44:08.396691Z",
     "iopub.status.busy": "2022-10-30T16:44:08.395412Z",
     "iopub.status.idle": "2022-10-30T16:44:08.439180Z",
     "shell.execute_reply": "2022-10-30T16:44:08.438316Z",
     "shell.execute_reply.started": "2022-10-30T16:44:08.396636Z"
    }
   },
   "outputs": [
    {
     "data": {
      "text/plain": [
       "(100000, 8)"
      ]
     },
     "execution_count": 64,
     "metadata": {},
     "output_type": "execute_result"
    }
   ],
   "source": [
    "cat = X.select_dtypes(exclude = 'number').columns.to_list()\n",
    "enc = OrdinalEncoder(handle_unknown ='use_encoded_value',\n",
    "                    unknown_value = -1)\n",
    "\n",
    "X[cat]= enc.fit_transform(X[cat])\n",
    "X.shape"
   ]
  },
  {
   "cell_type": "code",
   "execution_count": 67,
   "metadata": {
    "execution": {
     "iopub.execute_input": "2022-10-30T16:45:56.656108Z",
     "iopub.status.busy": "2022-10-30T16:45:56.655719Z",
     "iopub.status.idle": "2022-10-30T16:45:56.683465Z",
     "shell.execute_reply": "2022-10-30T16:45:56.682515Z",
     "shell.execute_reply.started": "2022-10-30T16:45:56.656077Z"
    }
   },
   "outputs": [],
   "source": [
    "le = LabelEncoder()\n",
    "y = le.fit_transform(y)"
   ]
  },
  {
   "cell_type": "code",
   "execution_count": 70,
   "metadata": {
    "execution": {
     "iopub.execute_input": "2022-10-30T16:47:42.285680Z",
     "iopub.status.busy": "2022-10-30T16:47:42.285305Z",
     "iopub.status.idle": "2022-10-30T16:47:42.309895Z",
     "shell.execute_reply": "2022-10-30T16:47:42.309001Z",
     "shell.execute_reply.started": "2022-10-30T16:47:42.285650Z"
    }
   },
   "outputs": [
    {
     "data": {
      "text/plain": [
       "array([1.86971805, 1.86971805, 1.86971805, ..., 1.14950456, 0.62687278,\n",
       "       1.14950456])"
      ]
     },
     "execution_count": 70,
     "metadata": {},
     "output_type": "execute_result"
    }
   ],
   "source": [
    "classes_weights = class_weight.compute_sample_weight(class_weight='balanced', y=y)\n",
    "classes_weights"
   ]
  },
  {
   "cell_type": "code",
   "execution_count": 71,
   "metadata": {
    "execution": {
     "iopub.execute_input": "2022-10-30T16:48:20.761386Z",
     "iopub.status.busy": "2022-10-30T16:48:20.760187Z",
     "iopub.status.idle": "2022-10-30T16:48:20.766987Z",
     "shell.execute_reply": "2022-10-30T16:48:20.766209Z",
     "shell.execute_reply.started": "2022-10-30T16:48:20.761334Z"
    }
   },
   "outputs": [],
   "source": [
    "final_model = XGBClassifier(random_state = random_state)"
   ]
  },
  {
   "cell_type": "code",
   "execution_count": 74,
   "metadata": {
    "execution": {
     "iopub.execute_input": "2022-10-30T16:49:17.720642Z",
     "iopub.status.busy": "2022-10-30T16:49:17.719728Z",
     "iopub.status.idle": "2022-10-30T16:49:29.786283Z",
     "shell.execute_reply": "2022-10-30T16:49:29.785352Z",
     "shell.execute_reply.started": "2022-10-30T16:49:17.720604Z"
    }
   },
   "outputs": [
    {
     "name": "stdout",
     "output_type": "stream",
     "text": [
      "CPU times: user 46.6 s, sys: 119 ms, total: 46.7 s\n",
      "Wall time: 12.1 s\n"
     ]
    },
    {
     "data": {
      "text/plain": [
       "XGBClassifier(base_score=0.5, booster='gbtree', callbacks=None,\n",
       "              colsample_bylevel=1, colsample_bynode=1, colsample_bytree=1,\n",
       "              early_stopping_rounds=None, enable_categorical=False,\n",
       "              eval_metric=None, gamma=0, gpu_id=-1, grow_policy='depthwise',\n",
       "              importance_type=None, interaction_constraints='',\n",
       "              learning_rate=0.300000012, max_bin=256, max_cat_to_onehot=4,\n",
       "              max_delta_step=0, max_depth=6, max_leaves=0, min_child_weight=1,\n",
       "              missing=nan, monotone_constraints='()', n_estimators=100,\n",
       "              n_jobs=0, num_parallel_tree=1, objective='multi:softprob',\n",
       "              predictor='auto', random_state=42, reg_alpha=0, ...)"
      ]
     },
     "execution_count": 74,
     "metadata": {},
     "output_type": "execute_result"
    }
   ],
   "source": [
    "%%time\n",
    "final_model.fit(X,y, sample_weight = classes_weights)"
   ]
  },
  {
   "cell_type": "code",
   "execution_count": 75,
   "metadata": {
    "execution": {
     "iopub.execute_input": "2022-10-30T16:50:11.402763Z",
     "iopub.status.busy": "2022-10-30T16:50:11.402355Z",
     "iopub.status.idle": "2022-10-30T16:50:11.822317Z",
     "shell.execute_reply": "2022-10-30T16:50:11.821320Z",
     "shell.execute_reply.started": "2022-10-30T16:50:11.402732Z"
    }
   },
   "outputs": [
    {
     "name": "stdout",
     "output_type": "stream",
     "text": [
      "              precision    recall  f1-score   support\n",
      "\n",
      "           0       0.57      0.89      0.70     17828\n",
      "           1       0.75      0.83      0.79     28998\n",
      "           2       0.89      0.67      0.76     53174\n",
      "\n",
      "    accuracy                           0.75    100000\n",
      "   macro avg       0.74      0.80      0.75    100000\n",
      "weighted avg       0.79      0.75      0.76    100000\n",
      "\n"
     ]
    }
   ],
   "source": [
    "y_pred = final_model.predict(X)\n",
    "print(classification_report(y, y_pred))"
   ]
  },
  {
   "cell_type": "code",
   "execution_count": 76,
   "metadata": {
    "execution": {
     "iopub.execute_input": "2022-10-30T16:50:46.188060Z",
     "iopub.status.busy": "2022-10-30T16:50:46.187676Z",
     "iopub.status.idle": "2022-10-30T16:50:46.204536Z",
     "shell.execute_reply": "2022-10-30T16:50:46.203431Z",
     "shell.execute_reply.started": "2022-10-30T16:50:46.188029Z"
    }
   },
   "outputs": [
    {
     "data": {
      "text/html": [
       "<div>\n",
       "<style scoped>\n",
       "    .dataframe tbody tr th:only-of-type {\n",
       "        vertical-align: middle;\n",
       "    }\n",
       "\n",
       "    .dataframe tbody tr th {\n",
       "        vertical-align: top;\n",
       "    }\n",
       "\n",
       "    .dataframe thead th {\n",
       "        text-align: right;\n",
       "    }\n",
       "</style>\n",
       "<table border=\"1\" class=\"dataframe\">\n",
       "  <thead>\n",
       "    <tr style=\"text-align: right;\">\n",
       "      <th></th>\n",
       "      <th>Credit_Mix</th>\n",
       "      <th>Interest_Rate</th>\n",
       "      <th>Outstanding_Debt</th>\n",
       "      <th>Delay_from_due_date</th>\n",
       "      <th>Total_EMI_per_month</th>\n",
       "      <th>Changed_Credit_Limit</th>\n",
       "      <th>Monthly_Inhand_Salary</th>\n",
       "      <th>Annual_Income</th>\n",
       "    </tr>\n",
       "  </thead>\n",
       "  <tbody>\n",
       "    <tr>\n",
       "      <th>0</th>\n",
       "      <td>2.000</td>\n",
       "      <td>14</td>\n",
       "      <td>1426</td>\n",
       "      <td>21</td>\n",
       "      <td>107</td>\n",
       "      <td>10</td>\n",
       "      <td>4197</td>\n",
       "      <td>50505</td>\n",
       "    </tr>\n",
       "  </tbody>\n",
       "</table>\n",
       "</div>"
      ],
      "text/plain": [
       "   Credit_Mix  Interest_Rate  Outstanding_Debt  Delay_from_due_date  \\\n",
       "0       2.000             14              1426                   21   \n",
       "\n",
       "   Total_EMI_per_month  Changed_Credit_Limit  Monthly_Inhand_Salary  \\\n",
       "0                  107                    10                   4197   \n",
       "\n",
       "   Annual_Income  \n",
       "0          50505  "
      ]
     },
     "execution_count": 76,
     "metadata": {},
     "output_type": "execute_result"
    }
   ],
   "source": [
    "mean_human = {\n",
    " 'Credit_Mix': 'Standard',\n",
    " 'Interest_Rate': 14,\n",
    " 'Outstanding_Debt': 1426,\n",
    " 'Delay_from_due_date': 21,\n",
    " 'Total_EMI_per_month': 107,\n",
    " 'Changed_Credit_Limit': 10,\n",
    " 'Monthly_Inhand_Salary': 4197,\n",
    " 'Annual_Income': 50505,\n",
    "}\n",
    "mean_human = pd.DataFrame([mean_human])\n",
    "mean_human[cat] = enc.transform(mean_human[cat])\n",
    "mean_human"
   ]
  },
  {
   "cell_type": "code",
   "execution_count": 78,
   "metadata": {
    "execution": {
     "iopub.execute_input": "2022-10-30T16:52:11.598688Z",
     "iopub.status.busy": "2022-10-30T16:52:11.597632Z",
     "iopub.status.idle": "2022-10-30T16:52:11.611680Z",
     "shell.execute_reply": "2022-10-30T16:52:11.610799Z",
     "shell.execute_reply.started": "2022-10-30T16:52:11.598650Z"
    }
   },
   "outputs": [
    {
     "data": {
      "text/plain": [
       "(array([2]), array(['Standard'], dtype=object))"
      ]
     },
     "execution_count": 78,
     "metadata": {},
     "output_type": "execute_result"
    }
   ],
   "source": [
    "predict = final_model.predict(mean_human)\n",
    "predict, le.inverse_transform(predict)"
   ]
  },
  {
   "cell_type": "code",
   "execution_count": 79,
   "metadata": {
    "execution": {
     "iopub.execute_input": "2022-10-30T16:52:45.218955Z",
     "iopub.status.busy": "2022-10-30T16:52:45.217759Z",
     "iopub.status.idle": "2022-10-30T16:52:45.234701Z",
     "shell.execute_reply": "2022-10-30T16:52:45.233778Z",
     "shell.execute_reply.started": "2022-10-30T16:52:45.218904Z"
    }
   },
   "outputs": [],
   "source": [
    "import pickle\n",
    "pickle.dump(final_model, open(\"final_model_credit_score_pred\", 'wb'))"
   ]
  },
  {
   "cell_type": "code",
   "execution_count": null,
   "metadata": {},
   "outputs": [],
   "source": []
  }
 ],
 "metadata": {
  "kernelspec": {
   "display_name": "Python 3 (ipykernel)",
   "language": "python",
   "name": "python3"
  },
  "language_info": {
   "codemirror_mode": {
    "name": "ipython",
    "version": 3
   },
   "file_extension": ".py",
   "mimetype": "text/x-python",
   "name": "python",
   "nbconvert_exporter": "python",
   "pygments_lexer": "ipython3",
   "version": "3.8.13"
  }
 },
 "nbformat": 4,
 "nbformat_minor": 4
}
